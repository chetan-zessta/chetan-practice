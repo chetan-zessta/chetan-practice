{
  "cells": [
    {
      "cell_type": "code",
      "execution_count": null,
      "metadata": {
        "id": "FZz2AgBzRaly"
      },
      "outputs": [],
      "source": []
    },
    {
      "cell_type": "markdown",
      "metadata": {
        "id": "4Xcd4dxHQy3Y"
      },
      "source": [
        "**List Comprehensions**\n",
        "\n",
        "List Comprehensions provide an elegant way to create new lists.\n",
        "It consists of brackets containing an expression followed by a for clause, then zero or more for\n",
        "or if clauses.\n",
        "\n",
        "\n",
        "\n",
        "\n"
      ]
    },
    {
      "cell_type": "code",
      "execution_count": null,
      "metadata": {
        "colab": {
          "base_uri": "https://localhost:8080/"
        },
        "id": "jfR0oN7HJlY7",
        "outputId": "300b4c17-f30e-4c4a-a591-d30ad15680a2"
      },
      "outputs": [
        {
          "data": {
            "text/plain": [
              "[0, 2, 4, 6, 8, 10, 12, 14, 16, 18, 20, 22, 24, 26, 28, 30, 32, 34, 36, 38, 40]"
            ]
          },
          "execution_count": 8,
          "metadata": {},
          "output_type": "execute_result"
        }
      ],
      "source": [
        "#displaying all even numbers upto 40\n",
        "mylist = [i for i in range(41) if i % 2 == 0]\n",
        "mylist"
      ]
    },
    {
      "cell_type": "code",
      "execution_count": null,
      "metadata": {
        "colab": {
          "base_uri": "https://localhost:8080/"
        },
        "id": "803KKOT2J_nJ",
        "outputId": "8efe7ae1-8485-4ff0-d6ba-2396ddeb9e9d"
      },
      "outputs": [
        {
          "data": {
            "text/plain": [
              "[1, 3, 5, 7, 9, 11, 13, 15, 17, 19, 21, 23, 25, 27, 29, 31, 33, 35, 37, 39]"
            ]
          },
          "execution_count": 10,
          "metadata": {},
          "output_type": "execute_result"
        }
      ],
      "source": [
        "mylist1 = [i for i in range(41) if i % 2 != 0]\n",
        "mylist1"
      ]
    },
    {
      "cell_type": "code",
      "execution_count": null,
      "metadata": {
        "colab": {
          "base_uri": "https://localhost:8080/"
        },
        "id": "tczuLU5HKFMS",
        "outputId": "9a294671-3d20-4422-d52e-e7e7f1d6c018"
      },
      "outputs": [
        {
          "data": {
            "text/plain": [
              "[0, 1, 4, 9, 16, 25, 36, 49, 64, 81]"
            ]
          },
          "execution_count": 11,
          "metadata": {},
          "output_type": "execute_result"
        }
      ],
      "source": [
        "mylist2 = [i*i for i in range(10)]\n",
        "mylist2"
      ]
    },
    {
      "cell_type": "code",
      "execution_count": null,
      "metadata": {
        "colab": {
          "base_uri": "https://localhost:8080/"
        },
        "id": "B-LL5wSkMKBc",
        "outputId": "839218de-3ecb-4d61-9ee1-458b21050cc4"
      },
      "outputs": [
        {
          "data": {
            "text/plain": [
              "[10, 20, 30, 40, 50]"
            ]
          },
          "execution_count": 12,
          "metadata": {},
          "output_type": "execute_result"
        }
      ],
      "source": [
        "list1 = [1,2,3,4,5]\n",
        "list1 = [i*10 for i in list1]\n",
        "list1"
      ]
    },
    {
      "cell_type": "code",
      "execution_count": null,
      "metadata": {
        "colab": {
          "base_uri": "https://localhost:8080/"
        },
        "id": "9GBez9UhMvg2",
        "outputId": "a2c1bfd0-b239-4511-c40c-069827e20141"
      },
      "outputs": [
        {
          "data": {
            "text/plain": [
              "[0, 36, 72]"
            ]
          },
          "execution_count": 13,
          "metadata": {},
          "output_type": "execute_result"
        }
      ],
      "source": [
        "#List all numbers divisible by 3 , 9 & 12 using nested \"if\" with List Comprehensi\n",
        "list2 = [i for i in range(100) if i%3 == 0 if i %9 == 0 if i%12==0]\n",
        "list2\n"
      ]
    },
    {
      "cell_type": "code",
      "execution_count": null,
      "metadata": {
        "colab": {
          "base_uri": "https://localhost:8080/"
        },
        "id": "54r_4WZ2OS1W",
        "outputId": "24efcc49-358b-47e5-8d9b-e8e6ea82d12b"
      },
      "outputs": [
        {
          "name": "stdout",
          "output_type": "stream",
          "text": [
            "0 is even number\n",
            "1 is odd number\n",
            "2 is even number\n",
            "3 is odd number\n",
            "4 is even number\n",
            "5 is odd number\n",
            "6 is even number\n",
            "7 is odd number\n",
            "8 is even number\n",
            "9 is odd number\n"
          ]
        }
      ],
      "source": [
        "# Odd even test\n",
        "l1 =[print(\"{} is even number\".format(i)) if i%2==0 else print(\"{} is odd number\".format(i)) for i in range(10)]"
      ]
    },
    {
      "cell_type": "code",
      "execution_count": null,
      "metadata": {
        "colab": {
          "base_uri": "https://localhost:8080/"
        },
        "id": "f3HW7edwO_O6",
        "outputId": "dcf47a67-594a-455f-e8d4-82b776e73ebe"
      },
      "outputs": [
        {
          "data": {
            "text/plain": [
              "['1', '2', '3', '4', '5', '6', '7', '8', '9']"
            ]
          },
          "execution_count": 18,
          "metadata": {},
          "output_type": "execute_result"
        }
      ],
      "source": [
        "# Extract numbers from a string\n",
        "mystr = \"One 1 two 2 three 3 four 4 five 5 six 6789\"\n",
        "numbers = [i for i in mystr if i.isdecimal()]\n",
        "numbers"
      ]
    },
    {
      "cell_type": "code",
      "execution_count": null,
      "metadata": {
        "colab": {
          "base_uri": "https://localhost:8080/"
        },
        "id": "tpIk_wR1QZHx",
        "outputId": "559efbc7-a448-442e-f11c-1b29ad9a84f6"
      },
      "outputs": [
        {
          "data": {
            "text/plain": [
              "['O',\n",
              " 'n',\n",
              " 'e',\n",
              " 't',\n",
              " 'w',\n",
              " 'o',\n",
              " 't',\n",
              " 'h',\n",
              " 'r',\n",
              " 'e',\n",
              " 'e',\n",
              " 'f',\n",
              " 'o',\n",
              " 'u',\n",
              " 'r',\n",
              " 'f',\n",
              " 'i',\n",
              " 'v',\n",
              " 'e',\n",
              " 's',\n",
              " 'i',\n",
              " 'x']"
            ]
          },
          "execution_count": 19,
          "metadata": {},
          "output_type": "execute_result"
        }
      ],
      "source": [
        "letters = [i for i in mystr if i.isalpha()]\n",
        "letters"
      ]
    },
    {
      "cell_type": "markdown",
      "metadata": {
        "id": "CU8htXt1RuEX"
      },
      "source": [
        "**Tuples**\n",
        "1. Tuple is similar to List except that the objects in tuple are immutable which means we cannot\n",
        "change the elements of a tuple once assigned.\n",
        "2. When we do not want to change the data over time, tuple is a preferred data type.\n",
        "3. Iterating over the elements of a tuple is faster compared to iterating over a list."
      ]
    },
    {
      "cell_type": "code",
      "execution_count": null,
      "metadata": {
        "id": "Re5OKOZoQtK0"
      },
      "outputs": [],
      "source": [
        "tup6 = (100, 'Asif', 17.765) # Tuple of mixed data types"
      ]
    },
    {
      "cell_type": "code",
      "execution_count": null,
      "metadata": {
        "id": "FnPRXSseSCCt"
      },
      "outputs": [],
      "source": [
        "mytuple = ('one' , 'two' , 'three' , 'four' , 'five' , 'six' , 'seven' , 'eight')"
      ]
    },
    {
      "cell_type": "code",
      "execution_count": null,
      "metadata": {
        "colab": {
          "base_uri": "https://localhost:8080/",
          "height": 175
        },
        "id": "bu8VvqNCSB_8",
        "outputId": "16328b36-b60b-4ac2-9b7e-6d19a492d325"
      },
      "outputs": [
        {
          "ename": "AttributeError",
          "evalue": "'tuple' object has no attribute 'remove'",
          "output_type": "error",
          "traceback": [
            "\u001b[0;31m---------------------------------------------------------------------------\u001b[0m",
            "\u001b[0;31mAttributeError\u001b[0m                            Traceback (most recent call last)",
            "\u001b[0;32m<ipython-input-22-8f21a4614ba6>\u001b[0m in \u001b[0;36m<cell line: 1>\u001b[0;34m()\u001b[0m\n\u001b[0;32m----> 1\u001b[0;31m \u001b[0mmytuple\u001b[0m\u001b[0;34m.\u001b[0m\u001b[0mremove\u001b[0m\u001b[0;34m(\u001b[0m\u001b[0;34m'one'\u001b[0m\u001b[0;34m)\u001b[0m\u001b[0;34m\u001b[0m\u001b[0;34m\u001b[0m\u001b[0m\n\u001b[0m",
            "\u001b[0;31mAttributeError\u001b[0m: 'tuple' object has no attribute 'remove'"
          ]
        }
      ],
      "source": [
        "mytuple.remove('one')"
      ]
    },
    {
      "cell_type": "code",
      "execution_count": null,
      "metadata": {
        "id": "K1dQPBkeSB8x"
      },
      "outputs": [],
      "source": [
        "l1 =[1,2]"
      ]
    },
    {
      "cell_type": "code",
      "execution_count": null,
      "metadata": {
        "id": "l2toD6raSB48"
      },
      "outputs": [],
      "source": [
        "l1.remove(1)"
      ]
    },
    {
      "cell_type": "code",
      "execution_count": null,
      "metadata": {
        "colab": {
          "base_uri": "https://localhost:8080/"
        },
        "id": "K3Yf_HMnSuTZ",
        "outputId": "7a4a0d9f-4546-4b48-9e43-7c9fec02f227"
      },
      "outputs": [
        {
          "data": {
            "text/plain": [
              "[2]"
            ]
          },
          "execution_count": 25,
          "metadata": {},
          "output_type": "execute_result"
        }
      ],
      "source": [
        "l1"
      ]
    },
    {
      "cell_type": "code",
      "execution_count": null,
      "metadata": {
        "colab": {
          "base_uri": "https://localhost:8080/",
          "height": 175
        },
        "id": "YNPd1D79SvMZ",
        "outputId": "48b50a41-a266-4098-9861-a6ee9d1f613f"
      },
      "outputs": [
        {
          "ename": "TypeError",
          "evalue": "'tuple' object doesn't support item deletion",
          "output_type": "error",
          "traceback": [
            "\u001b[0;31m---------------------------------------------------------------------------\u001b[0m",
            "\u001b[0;31mTypeError\u001b[0m                                 Traceback (most recent call last)",
            "\u001b[0;32m<ipython-input-26-667a276aa503>\u001b[0m in \u001b[0;36m<cell line: 1>\u001b[0;34m()\u001b[0m\n\u001b[0;32m----> 1\u001b[0;31m \u001b[0;32mdel\u001b[0m \u001b[0mmytuple\u001b[0m\u001b[0;34m[\u001b[0m\u001b[0;36m0\u001b[0m\u001b[0;34m]\u001b[0m\u001b[0;34m\u001b[0m\u001b[0;34m\u001b[0m\u001b[0m\n\u001b[0m",
            "\u001b[0;31mTypeError\u001b[0m: 'tuple' object doesn't support item deletion"
          ]
        }
      ],
      "source": [
        "del mytuple[0]"
      ]
    },
    {
      "cell_type": "code",
      "execution_count": null,
      "metadata": {
        "colab": {
          "base_uri": "https://localhost:8080/",
          "height": 175
        },
        "id": "lemBlILNSzUl",
        "outputId": "bc52a07a-99a3-4b60-f806-ed1c45afab97"
      },
      "outputs": [
        {
          "ename": "TypeError",
          "evalue": "'tuple' object does not support item assignment",
          "output_type": "error",
          "traceback": [
            "\u001b[0;31m---------------------------------------------------------------------------\u001b[0m",
            "\u001b[0;31mTypeError\u001b[0m                                 Traceback (most recent call last)",
            "\u001b[0;32m<ipython-input-27-bce2db940981>\u001b[0m in \u001b[0;36m<cell line: 1>\u001b[0;34m()\u001b[0m\n\u001b[0;32m----> 1\u001b[0;31m \u001b[0mmytuple\u001b[0m\u001b[0;34m[\u001b[0m\u001b[0;36m0\u001b[0m\u001b[0;34m]\u001b[0m\u001b[0;34m=\u001b[0m\u001b[0;36m1\u001b[0m\u001b[0;34m\u001b[0m\u001b[0;34m\u001b[0m\u001b[0m\n\u001b[0m",
            "\u001b[0;31mTypeError\u001b[0m: 'tuple' object does not support item assignment"
          ]
        }
      ],
      "source": [
        "mytuple[0]=1"
      ]
    },
    {
      "cell_type": "code",
      "execution_count": null,
      "metadata": {
        "colab": {
          "base_uri": "https://localhost:8080/",
          "height": 175
        },
        "id": "PAortwjcS4Dx",
        "outputId": "cf23d043-e947-4e23-88d1-0b379a71214c"
      },
      "outputs": [
        {
          "ename": "AttributeError",
          "evalue": "'tuple' object has no attribute 'clear'",
          "output_type": "error",
          "traceback": [
            "\u001b[0;31m---------------------------------------------------------------------------\u001b[0m",
            "\u001b[0;31mAttributeError\u001b[0m                            Traceback (most recent call last)",
            "\u001b[0;32m<ipython-input-33-29bd14dca85e>\u001b[0m in \u001b[0;36m<cell line: 1>\u001b[0;34m()\u001b[0m\n\u001b[0;32m----> 1\u001b[0;31m \u001b[0mmytuple\u001b[0m\u001b[0;34m.\u001b[0m\u001b[0mclear\u001b[0m\u001b[0;34m(\u001b[0m\u001b[0;34m)\u001b[0m\u001b[0;34m\u001b[0m\u001b[0;34m\u001b[0m\u001b[0m\n\u001b[0m",
            "\u001b[0;31mAttributeError\u001b[0m: 'tuple' object has no attribute 'clear'"
          ]
        }
      ],
      "source": [
        "mytuple.clear()"
      ]
    },
    {
      "cell_type": "code",
      "execution_count": null,
      "metadata": {
        "id": "XA4cxA-_S9sQ"
      },
      "outputs": [],
      "source": [
        "l1.clear()"
      ]
    },
    {
      "cell_type": "code",
      "execution_count": null,
      "metadata": {
        "colab": {
          "base_uri": "https://localhost:8080/"
        },
        "id": "WipCct4tTAjU",
        "outputId": "703d5119-300c-4e5c-f7a9-5a16b5f74f0e"
      },
      "outputs": [
        {
          "data": {
            "text/plain": [
              "[]"
            ]
          },
          "execution_count": 35,
          "metadata": {},
          "output_type": "execute_result"
        }
      ],
      "source": [
        "l1"
      ]
    },
    {
      "cell_type": "code",
      "execution_count": null,
      "metadata": {
        "colab": {
          "base_uri": "https://localhost:8080/"
        },
        "id": "IASoJXNHTDTM",
        "outputId": "fb6bf2bf-82ee-4bb9-92a6-a2d0b482045b"
      },
      "outputs": [
        {
          "name": "stdout",
          "output_type": "stream",
          "text": [
            "one\n",
            "two\n",
            "three\n",
            "four\n",
            "five\n",
            "six\n",
            "seven\n",
            "eight\n"
          ]
        }
      ],
      "source": [
        "for i in mytuple:\n",
        "  print(i)\n"
      ]
    },
    {
      "cell_type": "code",
      "execution_count": null,
      "metadata": {
        "colab": {
          "base_uri": "https://localhost:8080/"
        },
        "id": "23B9xwspVYcp",
        "outputId": "55d88ca1-5634-4b68-a0fa-a183a1ba0363"
      },
      "outputs": [
        {
          "name": "stdout",
          "output_type": "stream",
          "text": [
            "(0, 'one')\n",
            "(1, 'two')\n",
            "(2, 'three')\n",
            "(3, 'four')\n",
            "(4, 'five')\n",
            "(5, 'six')\n",
            "(6, 'seven')\n",
            "(7, 'eight')\n"
          ]
        }
      ],
      "source": [
        "for i in enumerate(mytuple):\n",
        "  print(i)\n"
      ]
    },
    {
      "cell_type": "markdown",
      "metadata": {
        "id": "gWVmAzyFXFRa"
      },
      "source": [
        "**Count**\n"
      ]
    },
    {
      "cell_type": "code",
      "execution_count": null,
      "metadata": {
        "id": "ozc2zVB5XD4W"
      },
      "outputs": [],
      "source": [
        "mytuple1 =('one', 'two', 'three', 'four', 'one', 'one', 'two', 'three')\n",
        "\n"
      ]
    },
    {
      "cell_type": "code",
      "execution_count": null,
      "metadata": {
        "colab": {
          "base_uri": "https://localhost:8080/"
        },
        "id": "K2vFcUREVhTx",
        "outputId": "dcfd9939-75c8-4ec1-e355-fe9b929813a6"
      },
      "outputs": [
        {
          "data": {
            "text/plain": [
              "3"
            ]
          },
          "execution_count": 42,
          "metadata": {},
          "output_type": "execute_result"
        }
      ],
      "source": [
        "# Number of times item \"one\" occurred in the tuple.\n",
        "mytuple1.count('one')"
      ]
    },
    {
      "cell_type": "code",
      "execution_count": null,
      "metadata": {
        "colab": {
          "base_uri": "https://localhost:8080/"
        },
        "id": "TINSQG96Vk88",
        "outputId": "8138e348-63a8-43a4-cf36-beed414c213a"
      },
      "outputs": [
        {
          "data": {
            "text/plain": [
              "1"
            ]
          },
          "execution_count": 43,
          "metadata": {},
          "output_type": "execute_result"
        }
      ],
      "source": [
        "mytuple.count('two')"
      ]
    },
    {
      "cell_type": "markdown",
      "metadata": {
        "id": "jOHG2Wn3XaVA"
      },
      "source": [
        "**Tuple Membership**"
      ]
    },
    {
      "cell_type": "code",
      "execution_count": null,
      "metadata": {
        "colab": {
          "base_uri": "https://localhost:8080/"
        },
        "id": "oyR_PTa9XSJP",
        "outputId": "887220da-b731-4e72-a70d-99d7b590ac2c"
      },
      "outputs": [
        {
          "data": {
            "text/plain": [
              "('one', 'two', 'three', 'four', 'five', 'six', 'seven', 'eight')"
            ]
          },
          "execution_count": 45,
          "metadata": {},
          "output_type": "execute_result"
        }
      ],
      "source": [
        "  mytuple"
      ]
    },
    {
      "cell_type": "code",
      "execution_count": null,
      "metadata": {
        "colab": {
          "base_uri": "https://localhost:8080/"
        },
        "id": "daefd2avg_l9",
        "outputId": "1255c621-4e46-4542-c25c-cbc717544626"
      },
      "outputs": [
        {
          "data": {
            "text/plain": [
              "True"
            ]
          },
          "execution_count": 46,
          "metadata": {},
          "output_type": "execute_result"
        }
      ],
      "source": [
        "'one' in mytuple"
      ]
    },
    {
      "cell_type": "code",
      "execution_count": null,
      "metadata": {
        "colab": {
          "base_uri": "https://localhost:8080/"
        },
        "id": "YkJ38e5RhD4e",
        "outputId": "5f17d791-42f9-471a-f192-8508c5d53ac1"
      },
      "outputs": [
        {
          "name": "stdout",
          "output_type": "stream",
          "text": [
            "Three is present in the tuple\n"
          ]
        }
      ],
      "source": [
        "if 'three' in mytuple: # Check if 'three' exist in the list\n",
        " print('Three is present in the tuple')\n",
        "else:\n",
        " print('Three is not present in the tuple')\n"
      ]
    },
    {
      "cell_type": "code",
      "execution_count": null,
      "metadata": {
        "colab": {
          "base_uri": "https://localhost:8080/"
        },
        "id": "qaBZL7SnhMDb",
        "outputId": "b9ab2f29-a672-47d5-ef6b-9077b3879d92"
      },
      "outputs": [
        {
          "data": {
            "text/plain": [
              "0"
            ]
          },
          "execution_count": 48,
          "metadata": {},
          "output_type": "execute_result"
        }
      ],
      "source": [
        "mytuple.index('one')"
      ]
    },
    {
      "cell_type": "code",
      "execution_count": null,
      "metadata": {
        "id": "HhjgAdTZhR8o"
      },
      "outputs": [],
      "source": [
        "mytuple2 = (43,67,99,12,6,90,67)"
      ]
    },
    {
      "cell_type": "code",
      "execution_count": null,
      "metadata": {
        "colab": {
          "base_uri": "https://localhost:8080/"
        },
        "id": "JNe5He9XhcWA",
        "outputId": "c14beae7-5ddd-486e-e5ce-c80d7846a6c2"
      },
      "outputs": [
        {
          "data": {
            "text/plain": [
              "(43, 67, 99, 12, 6, 90, 67)"
            ]
          },
          "execution_count": 51,
          "metadata": {},
          "output_type": "execute_result"
        }
      ],
      "source": [
        "mytuple2"
      ]
    },
    {
      "cell_type": "code",
      "execution_count": null,
      "metadata": {
        "colab": {
          "base_uri": "https://localhost:8080/"
        },
        "id": "6oAYe6kehXBm",
        "outputId": "6828f490-4c43-4189-d4cb-32f979a24566"
      },
      "outputs": [
        {
          "data": {
            "text/plain": [
              "[99, 90, 67, 67, 43, 12, 6]"
            ]
          },
          "execution_count": 50,
          "metadata": {},
          "output_type": "execute_result"
        }
      ],
      "source": [
        "sorted(mytuple2,reverse=True) #it will not modify the original tuple"
      ]
    },
    {
      "cell_type": "code",
      "execution_count": null,
      "metadata": {
        "colab": {
          "base_uri": "https://localhost:8080/"
        },
        "id": "l98rwxR8hagY",
        "outputId": "250723ab-0ae7-4f40-c45e-b91e7feaf3ee"
      },
      "outputs": [
        {
          "data": {
            "text/plain": [
              "[6, 12, 43, 67, 67, 90, 99]"
            ]
          },
          "execution_count": 52,
          "metadata": {},
          "output_type": "execute_result"
        }
      ],
      "source": [
        "sorted(mytuple2)"
      ]
    },
    {
      "cell_type": "code",
      "execution_count": null,
      "metadata": {
        "colab": {
          "base_uri": "https://localhost:8080/",
          "height": 175
        },
        "id": "qBujmQBChnOD",
        "outputId": "6cc92f67-07b3-467c-e26f-36ef15c2d9c3"
      },
      "outputs": [
        {
          "ename": "AttributeError",
          "evalue": "'tuple' object has no attribute 'sort'",
          "output_type": "error",
          "traceback": [
            "\u001b[0;31m---------------------------------------------------------------------------\u001b[0m",
            "\u001b[0;31mAttributeError\u001b[0m                            Traceback (most recent call last)",
            "\u001b[0;32m<ipython-input-53-e345de75ec12>\u001b[0m in \u001b[0;36m<cell line: 1>\u001b[0;34m()\u001b[0m\n\u001b[0;32m----> 1\u001b[0;31m \u001b[0mmytuple\u001b[0m\u001b[0;34m.\u001b[0m\u001b[0msort\u001b[0m\u001b[0;34m(\u001b[0m\u001b[0;34m)\u001b[0m\u001b[0;34m\u001b[0m\u001b[0;34m\u001b[0m\u001b[0m\n\u001b[0m",
            "\u001b[0;31mAttributeError\u001b[0m: 'tuple' object has no attribute 'sort'"
          ]
        }
      ],
      "source": [
        "mytuple.sort() # since tuple is immutable it can't be sorted"
      ]
    },
    {
      "cell_type": "code",
      "execution_count": null,
      "metadata": {
        "id": "tM4qN-vihqK-"
      },
      "outputs": [],
      "source": [
        "l1 =[3,2,4,6]\n",
        "l1.sort()"
      ]
    },
    {
      "cell_type": "code",
      "execution_count": null,
      "metadata": {
        "colab": {
          "base_uri": "https://localhost:8080/"
        },
        "id": "NPAegutthv2x",
        "outputId": "a5d15644-3fbb-4f45-e07b-8e9fb7ae8c52"
      },
      "outputs": [
        {
          "data": {
            "text/plain": [
              "[2, 3, 4, 6]"
            ]
          },
          "execution_count": 55,
          "metadata": {},
          "output_type": "execute_result"
        }
      ],
      "source": [
        "l1"
      ]
    },
    {
      "cell_type": "markdown",
      "metadata": {
        "id": "AIj9UCach5cT"
      },
      "source": [
        "**Sets**\n",
        "1. Unordered & Unindexed collection of items.\n",
        "2. Set elements are unique. Duplicate elements are not allowed.\n",
        "3. Set elements are immutable (cannot be changed).\n",
        "4. Set itself is mutable. We can add or remove items from it\n",
        "\n",
        "\n"
      ]
    },
    {
      "cell_type": "code",
      "execution_count": null,
      "metadata": {
        "id": "OCAZRDOqhwvs"
      },
      "outputs": [],
      "source": [
        "myset = {1,2,3,4,5,6,7,5,6,7} # Duplicate elements are not allowed.\n"
      ]
    },
    {
      "cell_type": "code",
      "execution_count": null,
      "metadata": {
        "colab": {
          "base_uri": "https://localhost:8080/"
        },
        "id": "4e6HHTikiTUu",
        "outputId": "5d721a0a-8608-4d9f-837a-070b1c251c7b"
      },
      "outputs": [
        {
          "data": {
            "text/plain": [
              "{1, 2, 3, 4, 5, 6, 7}"
            ]
          },
          "execution_count": 62,
          "metadata": {},
          "output_type": "execute_result"
        }
      ],
      "source": [
        "myset"
      ]
    },
    {
      "cell_type": "code",
      "execution_count": null,
      "metadata": {
        "id": "bY7hQmIIiT26"
      },
      "outputs": [],
      "source": [
        "myset2 = {3,2,1} # it will sort the elements present in it"
      ]
    },
    {
      "cell_type": "code",
      "execution_count": null,
      "metadata": {
        "colab": {
          "base_uri": "https://localhost:8080/"
        },
        "id": "_q_FpY0HiXbA",
        "outputId": "c09d8de9-bc67-430d-c1fa-5ddb5d6a30c9"
      },
      "outputs": [
        {
          "data": {
            "text/plain": [
              "{1, 2, 3}"
            ]
          },
          "execution_count": 64,
          "metadata": {},
          "output_type": "execute_result"
        }
      ],
      "source": [
        "myset2"
      ]
    },
    {
      "cell_type": "code",
      "execution_count": null,
      "metadata": {
        "colab": {
          "base_uri": "https://localhost:8080/"
        },
        "id": "i32TSqGEiX4Z",
        "outputId": "46230832-7def-46d0-b4b3-dd2d69765f4e"
      },
      "outputs": [
        {
          "data": {
            "text/plain": [
              "{(11, 22, 32), 10, 20, 'Hola'}"
            ]
          },
          "execution_count": 65,
          "metadata": {},
          "output_type": "execute_result"
        }
      ],
      "source": [
        "myset3 = {10,20, \"Hola\", (11, 22, 32)} # Mixed datatypes\n",
        "myset3\n"
      ]
    },
    {
      "cell_type": "code",
      "execution_count": null,
      "metadata": {
        "colab": {
          "base_uri": "https://localhost:8080/",
          "height": 193
        },
        "id": "fbjsXl85i8FZ",
        "outputId": "d7c8f541-fdf1-4dd7-a7c4-672a35d8e86c"
      },
      "outputs": [
        {
          "ename": "TypeError",
          "evalue": "unhashable type: 'list'",
          "output_type": "error",
          "traceback": [
            "\u001b[0;31m---------------------------------------------------------------------------\u001b[0m",
            "\u001b[0;31mTypeError\u001b[0m                                 Traceback (most recent call last)",
            "\u001b[0;32m<ipython-input-67-f0905f9e64cd>\u001b[0m in \u001b[0;36m<cell line: 1>\u001b[0;34m()\u001b[0m\n\u001b[0;32m----> 1\u001b[0;31m \u001b[0mmyset3\u001b[0m \u001b[0;34m=\u001b[0m \u001b[0;34m{\u001b[0m\u001b[0;36m10\u001b[0m\u001b[0;34m,\u001b[0m\u001b[0;36m20\u001b[0m\u001b[0;34m,\u001b[0m \u001b[0;34m\"Hola\"\u001b[0m\u001b[0;34m,\u001b[0m \u001b[0;34m[\u001b[0m\u001b[0;36m11\u001b[0m\u001b[0;34m,\u001b[0m \u001b[0;36m22\u001b[0m\u001b[0;34m,\u001b[0m \u001b[0;36m32\u001b[0m\u001b[0;34m]\u001b[0m\u001b[0;34m}\u001b[0m \u001b[0;31m# Mixed datatypes\u001b[0m\u001b[0;34m\u001b[0m\u001b[0;34m\u001b[0m\u001b[0m\n\u001b[0m\u001b[1;32m      2\u001b[0m \u001b[0mmyset3\u001b[0m\u001b[0;34m\u001b[0m\u001b[0;34m\u001b[0m\u001b[0m\n",
            "\u001b[0;31mTypeError\u001b[0m: unhashable type: 'list'"
          ]
        }
      ],
      "source": [
        "myset3 = {10,20, \"Hola\", [11, 22, 32]} # Mixed datatypes\n",
        "myset3\n"
      ]
    },
    {
      "cell_type": "markdown",
      "metadata": {
        "id": "tTrS6rHejYlE"
      },
      "source": [
        "\n",
        "\n",
        "```\n",
        "set doesn't allow mutable items like list\n",
        "\n",
        "```\n",
        "\n"
      ]
    },
    {
      "cell_type": "code",
      "execution_count": null,
      "metadata": {
        "colab": {
          "base_uri": "https://localhost:8080/",
          "height": 175
        },
        "id": "1c3OXfJjjDvl",
        "outputId": "3865a8e4-491e-4777-f9e0-0a99132edec5"
      },
      "outputs": [
        {
          "ename": "TypeError",
          "evalue": "unhashable type: 'list'",
          "output_type": "error",
          "traceback": [
            "\u001b[0;31m---------------------------------------------------------------------------\u001b[0m",
            "\u001b[0;31mTypeError\u001b[0m                                 Traceback (most recent call last)",
            "\u001b[0;32m<ipython-input-68-2e965f2ae0ae>\u001b[0m in \u001b[0;36m<cell line: 1>\u001b[0;34m()\u001b[0m\n\u001b[0;32m----> 1\u001b[0;31m \u001b[0mmyset_\u001b[0m \u001b[0;34m=\u001b[0m \u001b[0;34m{\u001b[0m\u001b[0;36m1\u001b[0m\u001b[0;34m,\u001b[0m\u001b[0;36m2\u001b[0m\u001b[0;34m,\u001b[0m\u001b[0;34m[\u001b[0m\u001b[0;36m3\u001b[0m\u001b[0;34m,\u001b[0m\u001b[0;36m4\u001b[0m\u001b[0;34m]\u001b[0m\u001b[0;34m}\u001b[0m\u001b[0;34m\u001b[0m\u001b[0;34m\u001b[0m\u001b[0m\n\u001b[0m",
            "\u001b[0;31mTypeError\u001b[0m: unhashable type: 'list'"
          ]
        }
      ],
      "source": [
        "myset_ = {1,2,[3,4]}"
      ]
    },
    {
      "cell_type": "code",
      "execution_count": null,
      "metadata": {
        "colab": {
          "base_uri": "https://localhost:8080/"
        },
        "id": "iFV5QT_3jTjC",
        "outputId": "46023943-afda-4001-ebfe-f4a4169ec71f"
      },
      "outputs": [
        {
          "name": "stdout",
          "output_type": "stream",
          "text": [
            "three\n",
            "seven\n",
            "one\n",
            "five\n",
            "four\n",
            "six\n",
            "eight\n",
            "two\n"
          ]
        }
      ],
      "source": [
        "myset = {'one', 'two', 'three', 'four', 'five', 'six', 'seven', 'eight'}\n",
        "for i in myset:\n",
        " print(i)"
      ]
    },
    {
      "cell_type": "code",
      "execution_count": null,
      "metadata": {
        "colab": {
          "base_uri": "https://localhost:8080/"
        },
        "id": "ufNqPj4-jtdg",
        "outputId": "753f2549-72e9-4e3e-8332-33d5502efd86"
      },
      "outputs": [
        {
          "name": "stdout",
          "output_type": "stream",
          "text": [
            "(0, 'three')\n",
            "(1, 'seven')\n",
            "(2, 'one')\n",
            "(3, 'five')\n",
            "(4, 'four')\n",
            "(5, 'six')\n",
            "(6, 'eight')\n",
            "(7, 'two')\n"
          ]
        }
      ],
      "source": [
        "for i in enumerate(myset):\n",
        " print(i)\n"
      ]
    },
    {
      "cell_type": "code",
      "execution_count": null,
      "metadata": {
        "colab": {
          "base_uri": "https://localhost:8080/"
        },
        "id": "Y0Yb78_JjzaW",
        "outputId": "27f5797d-a5b7-4ac8-a2a4-aefc44505106"
      },
      "outputs": [
        {
          "data": {
            "text/plain": [
              "True"
            ]
          },
          "execution_count": 77,
          "metadata": {},
          "output_type": "execute_result"
        }
      ],
      "source": [
        "#Set Membership\n",
        "'one' in myset"
      ]
    },
    {
      "cell_type": "code",
      "execution_count": null,
      "metadata": {
        "colab": {
          "base_uri": "https://localhost:8080/",
          "height": 193
        },
        "id": "6VJC0t6-kAga",
        "outputId": "7b549948-8bf8-4951-ff33-edc815dd1b1e"
      },
      "outputs": [
        {
          "ename": "TypeError",
          "evalue": "set.add() takes exactly one argument (2 given)",
          "output_type": "error",
          "traceback": [
            "\u001b[0;31m---------------------------------------------------------------------------\u001b[0m",
            "\u001b[0;31mTypeError\u001b[0m                                 Traceback (most recent call last)",
            "\u001b[0;32m<ipython-input-81-add8bbec6b57>\u001b[0m in \u001b[0;36m<cell line: 2>\u001b[0;34m()\u001b[0m\n\u001b[1;32m      1\u001b[0m \u001b[0;31m#Add & Remove Items\u001b[0m\u001b[0;34m\u001b[0m\u001b[0;34m\u001b[0m\u001b[0m\n\u001b[0;32m----> 2\u001b[0;31m \u001b[0mmyset\u001b[0m\u001b[0;34m.\u001b[0m\u001b[0madd\u001b[0m\u001b[0;34m(\u001b[0m\u001b[0;34m'NINE'\u001b[0m\u001b[0;34m,\u001b[0m\u001b[0;34m'234'\u001b[0m\u001b[0;34m)\u001b[0m\u001b[0;34m\u001b[0m\u001b[0;34m\u001b[0m\u001b[0m\n\u001b[0m",
            "\u001b[0;31mTypeError\u001b[0m: set.add() takes exactly one argument (2 given)"
          ]
        }
      ],
      "source": [
        "#Add & Remove Items\n",
        "myset.add('NINE','234')"
      ]
    },
    {
      "cell_type": "code",
      "execution_count": null,
      "metadata": {
        "colab": {
          "base_uri": "https://localhost:8080/"
        },
        "id": "01AfzCQlkG9f",
        "outputId": "7c55efff-5103-4bfc-bbf1-85670efa5e8f"
      },
      "outputs": [
        {
          "data": {
            "text/plain": [
              "{'NINE', 'eight', 'five', 'four', 'one', 'seven', 'six', 'three', 'two'}"
            ]
          },
          "execution_count": 80,
          "metadata": {},
          "output_type": "execute_result"
        }
      ],
      "source": [
        "myset"
      ]
    },
    {
      "cell_type": "code",
      "execution_count": null,
      "metadata": {
        "colab": {
          "base_uri": "https://localhost:8080/",
          "height": 175
        },
        "id": "2XVNsx2ikW11",
        "outputId": "50186f9c-d145-4234-843c-daf0e3587c3e"
      },
      "outputs": [
        {
          "ename": "TypeError",
          "evalue": "unhashable type: 'list'",
          "output_type": "error",
          "traceback": [
            "\u001b[0;31m---------------------------------------------------------------------------\u001b[0m",
            "\u001b[0;31mTypeError\u001b[0m                                 Traceback (most recent call last)",
            "\u001b[0;32m<ipython-input-82-8e937b03e8ed>\u001b[0m in \u001b[0;36m<cell line: 1>\u001b[0;34m()\u001b[0m\n\u001b[0;32m----> 1\u001b[0;31m \u001b[0mmyset\u001b[0m\u001b[0;34m.\u001b[0m\u001b[0madd\u001b[0m\u001b[0;34m(\u001b[0m\u001b[0;34m[\u001b[0m\u001b[0;34m'TEN'\u001b[0m\u001b[0;34m,\u001b[0m\u001b[0;34m'234'\u001b[0m\u001b[0;34m]\u001b[0m\u001b[0;34m)\u001b[0m\u001b[0;34m\u001b[0m\u001b[0;34m\u001b[0m\u001b[0m\n\u001b[0m",
            "\u001b[0;31mTypeError\u001b[0m: unhashable type: 'list'"
          ]
        }
      ],
      "source": [
        "myset.add(['TEN','234'])"
      ]
    },
    {
      "cell_type": "code",
      "execution_count": null,
      "metadata": {
        "colab": {
          "base_uri": "https://localhost:8080/"
        },
        "id": "ZKCPPGVukHoc",
        "outputId": "d554ba30-0d71-485f-e7c8-d4474e4af128"
      },
      "outputs": [
        {
          "data": {
            "text/plain": [
              "{'234',\n",
              " 'NINE',\n",
              " 'TEN',\n",
              " 'eight',\n",
              " 'five',\n",
              " 'four',\n",
              " 'one',\n",
              " 'seven',\n",
              " 'six',\n",
              " 'three',\n",
              " 'two'}"
            ]
          },
          "execution_count": 85,
          "metadata": {},
          "output_type": "execute_result"
        }
      ],
      "source": [
        "myset.update(['TEN','234'])\n",
        "myset"
      ]
    },
    {
      "cell_type": "code",
      "execution_count": null,
      "metadata": {
        "colab": {
          "base_uri": "https://localhost:8080/"
        },
        "id": "nmh-gxrbkew2",
        "outputId": "ff163b88-e399-4d48-9a6c-baa2071e99d3"
      },
      "outputs": [
        {
          "data": {
            "text/plain": [
              "{'234',\n",
              " 'NINE',\n",
              " 'TEN',\n",
              " 'eight',\n",
              " 'five',\n",
              " 'four',\n",
              " 'one',\n",
              " 'seven',\n",
              " 'six',\n",
              " 'three',\n",
              " 'two'}"
            ]
          },
          "execution_count": 84,
          "metadata": {},
          "output_type": "execute_result"
        }
      ],
      "source": [
        "myset"
      ]
    },
    {
      "cell_type": "code",
      "execution_count": null,
      "metadata": {
        "colab": {
          "base_uri": "https://localhost:8080/"
        },
        "id": "5mgC7B7DkgqM",
        "outputId": "2cbaf284-1a29-47eb-e81c-2bed60655fca"
      },
      "outputs": [
        {
          "data": {
            "text/plain": [
              "{'NINE', 'TEN', 'eight', 'five', 'four', 'one', 'seven', 'six', 'three', 'two'}"
            ]
          },
          "execution_count": 86,
          "metadata": {},
          "output_type": "execute_result"
        }
      ],
      "source": [
        "myset.remove('234') #remove item in a set using remove() method\n",
        "myset"
      ]
    },
    {
      "cell_type": "code",
      "execution_count": null,
      "metadata": {
        "colab": {
          "base_uri": "https://localhost:8080/"
        },
        "id": "OllhrETNkrFw",
        "outputId": "ebfd20cc-2695-45b7-fe63-b22618fda7ee"
      },
      "outputs": [
        {
          "data": {
            "text/plain": [
              "{'NINE', 'eight', 'five', 'four', 'one', 'seven', 'six', 'three', 'two'}"
            ]
          },
          "execution_count": 87,
          "metadata": {},
          "output_type": "execute_result"
        }
      ],
      "source": [
        "myset.discard('TEN')\n",
        "myset"
      ]
    },
    {
      "cell_type": "code",
      "execution_count": null,
      "metadata": {
        "colab": {
          "base_uri": "https://localhost:8080/"
        },
        "id": "zzLJvzRZk6MW",
        "outputId": "634142c5-da13-4a85-dd4c-effa2eb3bfbd"
      },
      "outputs": [
        {
          "data": {
            "text/plain": [
              "set()"
            ]
          },
          "execution_count": 88,
          "metadata": {},
          "output_type": "execute_result"
        }
      ],
      "source": [
        "myset.clear()\n",
        "myset"
      ]
    },
    {
      "cell_type": "code",
      "execution_count": null,
      "metadata": {
        "colab": {
          "base_uri": "https://localhost:8080/"
        },
        "id": "eGxUFkR7k_IV",
        "outputId": "47526f89-9712-457f-be34-b97281b879f8"
      },
      "outputs": [
        {
          "data": {
            "text/plain": [
              "set()"
            ]
          },
          "execution_count": 89,
          "metadata": {},
          "output_type": "execute_result"
        }
      ],
      "source": [
        "myset #here myset is empty"
      ]
    },
    {
      "cell_type": "code",
      "execution_count": null,
      "metadata": {
        "colab": {
          "base_uri": "https://localhost:8080/",
          "height": 193
        },
        "id": "ckfRfF_PlB7O",
        "outputId": "2c18646f-0977-4ff3-e046-f839cba83511"
      },
      "outputs": [
        {
          "ename": "NameError",
          "evalue": "name 'myset' is not defined",
          "output_type": "error",
          "traceback": [
            "\u001b[0;31m---------------------------------------------------------------------------\u001b[0m",
            "\u001b[0;31mNameError\u001b[0m                                 Traceback (most recent call last)",
            "\u001b[0;32m<ipython-input-90-0912ea1b8932>\u001b[0m in \u001b[0;36m<cell line: 2>\u001b[0;34m()\u001b[0m\n\u001b[1;32m      1\u001b[0m \u001b[0;32mdel\u001b[0m \u001b[0mmyset\u001b[0m\u001b[0;34m\u001b[0m\u001b[0;34m\u001b[0m\u001b[0m\n\u001b[0;32m----> 2\u001b[0;31m \u001b[0mmyset\u001b[0m\u001b[0;34m\u001b[0m\u001b[0;34m\u001b[0m\u001b[0m\n\u001b[0m",
            "\u001b[0;31mNameError\u001b[0m: name 'myset' is not defined"
          ]
        }
      ],
      "source": [
        "del myset\n",
        "myset"
      ]
    },
    {
      "cell_type": "code",
      "execution_count": null,
      "metadata": {
        "colab": {
          "base_uri": "https://localhost:8080/"
        },
        "id": "JKOo3yGilJH_",
        "outputId": "a5c34f2c-3859-4463-97fb-cda244df2cb4"
      },
      "outputs": [
        {
          "data": {
            "text/plain": [
              "{'eight', 'five', 'four', 'one', 'seven', 'six', 'three', 'two'}"
            ]
          },
          "execution_count": 91,
          "metadata": {},
          "output_type": "execute_result"
        }
      ],
      "source": [
        "#copy set\n",
        "myset = {'one', 'two', 'three', 'four', 'five', 'six', 'seven', 'eight'}\n",
        "myset\n",
        "\n"
      ]
    },
    {
      "cell_type": "code",
      "execution_count": null,
      "metadata": {
        "colab": {
          "base_uri": "https://localhost:8080/"
        },
        "id": "PyckH8T7lPTo",
        "outputId": "fa63ba02-e41b-45d6-b224-61f0e48018fa"
      },
      "outputs": [
        {
          "data": {
            "text/plain": [
              "{'eight', 'five', 'four', 'one', 'seven', 'six', 'three', 'two'}"
            ]
          },
          "execution_count": 92,
          "metadata": {},
          "output_type": "execute_result"
        }
      ],
      "source": [
        "myset1= myset\n",
        "myset1"
      ]
    },
    {
      "cell_type": "code",
      "execution_count": null,
      "metadata": {
        "colab": {
          "base_uri": "https://localhost:8080/"
        },
        "id": "pShBGIk1lVxq",
        "outputId": "8da546f2-be06-44e4-eac8-3a28708c9d59"
      },
      "outputs": [
        {
          "data": {
            "text/plain": [
              "(137149033077152, 137149033077152)"
            ]
          },
          "execution_count": 93,
          "metadata": {},
          "output_type": "execute_result"
        }
      ],
      "source": [
        "# The address of both myset & myset1 will be the same\n",
        "id(myset), id(myset1)"
      ]
    },
    {
      "cell_type": "code",
      "execution_count": null,
      "metadata": {
        "colab": {
          "base_uri": "https://localhost:8080/"
        },
        "id": "TcohKF5XlY4k",
        "outputId": "296b6c71-12ab-43ce-af31-c1b3db1ceee9"
      },
      "outputs": [
        {
          "data": {
            "text/plain": [
              "{'eight', 'five', 'four', 'one', 'seven', 'six', 'three', 'two'}"
            ]
          },
          "execution_count": 94,
          "metadata": {},
          "output_type": "execute_result"
        }
      ],
      "source": [
        "myset_copy = myset.copy()\n",
        "myset_copy"
      ]
    },
    {
      "cell_type": "code",
      "execution_count": null,
      "metadata": {
        "colab": {
          "base_uri": "https://localhost:8080/"
        },
        "id": "Q32iEJgHlo8l",
        "outputId": "89ace508-b8ba-4018-cf51-8e73010fcad5"
      },
      "outputs": [
        {
          "data": {
            "text/plain": [
              "(137149033077152, 137149033076928)"
            ]
          },
          "execution_count": 95,
          "metadata": {},
          "output_type": "execute_result"
        }
      ],
      "source": [
        " # The address of myset_copy will be different from myset\n",
        "id(myset), id(myset_copy)"
      ]
    },
    {
      "cell_type": "code",
      "execution_count": null,
      "metadata": {
        "colab": {
          "base_uri": "https://localhost:8080/"
        },
        "id": "fuUnSWG-lsj8",
        "outputId": "1e754067-fe68-4c6c-fe7a-9b8d87adcdcd"
      },
      "outputs": [
        {
          "data": {
            "text/plain": [
              "{'eight', 'five', 'four', 'nine', 'one', 'seven', 'six', 'three', 'two'}"
            ]
          },
          "execution_count": 96,
          "metadata": {},
          "output_type": "execute_result"
        }
      ],
      "source": [
        "myset.add('nine')\n",
        "myset"
      ]
    },
    {
      "cell_type": "code",
      "execution_count": null,
      "metadata": {
        "colab": {
          "base_uri": "https://localhost:8080/"
        },
        "id": "IGbEioljl6Wo",
        "outputId": "f2d7458c-776c-4712-9897-a7f6d3f9b65c"
      },
      "outputs": [
        {
          "data": {
            "text/plain": [
              "{'eight', 'five', 'four', 'nine', 'one', 'seven', 'six', 'three', 'two'}"
            ]
          },
          "execution_count": 97,
          "metadata": {},
          "output_type": "execute_result"
        }
      ],
      "source": [
        "myset1  # myset1 will be also impacted as it is pointing to the same Set"
      ]
    },
    {
      "cell_type": "code",
      "execution_count": null,
      "metadata": {
        "colab": {
          "base_uri": "https://localhost:8080/"
        },
        "id": "wpD1-uRBl7R7",
        "outputId": "32886054-2d4e-479c-c97a-210b2a6a0a0c"
      },
      "outputs": [
        {
          "data": {
            "text/plain": [
              "{'eight', 'five', 'four', 'one', 'seven', 'six', 'three', 'two'}"
            ]
          },
          "execution_count": 98,
          "metadata": {},
          "output_type": "execute_result"
        }
      ],
      "source": [
        "#Copy of the set won't be impacted due to changes made on the original Se\n",
        "myset_copy"
      ]
    },
    {
      "cell_type": "markdown",
      "metadata": {
        "id": "R7BcPmH47Kys"
      },
      "source": [
        "**Set Operation**"
      ]
    },
    {
      "cell_type": "code",
      "execution_count": null,
      "metadata": {
        "id": "pkVpfUQmmGPD"
      },
      "outputs": [],
      "source": [
        "A= {1,2,3,4,5}\n",
        "B= {4,5,6,7,8}\n",
        "C= {8,9,10}\n"
      ]
    },
    {
      "cell_type": "code",
      "execution_count": null,
      "metadata": {
        "colab": {
          "base_uri": "https://localhost:8080/"
        },
        "id": "ZsZn_JEx7YQH",
        "outputId": "4e9071d0-3c19-4d33-a74e-6424db7f182d"
      },
      "outputs": [
        {
          "data": {
            "text/plain": [
              "{1, 2, 3, 4, 5, 6, 7, 8}"
            ]
          },
          "execution_count": 10,
          "metadata": {},
          "output_type": "execute_result"
        }
      ],
      "source": [
        "A | B  # Union of A and B (All elements from both sets. NO DUPLICATES)"
      ]
    },
    {
      "cell_type": "code",
      "execution_count": null,
      "metadata": {
        "colab": {
          "base_uri": "https://localhost:8080/"
        },
        "id": "TjjM6kRV8uXB",
        "outputId": "857a8d28-72a6-4f18-e7f3-450741795e40"
      },
      "outputs": [
        {
          "data": {
            "text/plain": [
              "{1, 2, 3, 4, 5}"
            ]
          },
          "execution_count": 11,
          "metadata": {},
          "output_type": "execute_result"
        }
      ],
      "source": [
        "A"
      ]
    },
    {
      "cell_type": "code",
      "execution_count": null,
      "metadata": {
        "colab": {
          "base_uri": "https://localhost:8080/"
        },
        "id": "o-ViStEW8wqO",
        "outputId": "418ec313-425e-4cb0-e9c3-d1221944b1dc"
      },
      "outputs": [
        {
          "data": {
            "text/plain": [
              "{4, 5, 6, 7, 8}"
            ]
          },
          "execution_count": 12,
          "metadata": {},
          "output_type": "execute_result"
        }
      ],
      "source": [
        "B"
      ]
    },
    {
      "cell_type": "code",
      "execution_count": null,
      "metadata": {
        "colab": {
          "base_uri": "https://localhost:8080/"
        },
        "id": "5jWGZ92o7fQ9",
        "outputId": "285b7a11-af02-4b64-aacd-b343eda402e1"
      },
      "outputs": [
        {
          "data": {
            "text/plain": [
              "{1, 2, 3, 4, 5, 6, 7, 8}"
            ]
          },
          "execution_count": 13,
          "metadata": {},
          "output_type": "execute_result"
        }
      ],
      "source": [
        "# union of A and B\n",
        "A.union(B)"
      ]
    },
    {
      "cell_type": "code",
      "execution_count": null,
      "metadata": {
        "colab": {
          "base_uri": "https://localhost:8080/"
        },
        "id": "p12z9Zpx8zb7",
        "outputId": "46e993a4-1577-445f-8107-4a8dfeb0079d"
      },
      "outputs": [
        {
          "data": {
            "text/plain": [
              "{1, 2, 3, 4, 5}"
            ]
          },
          "execution_count": 14,
          "metadata": {},
          "output_type": "execute_result"
        }
      ],
      "source": [
        "A"
      ]
    },
    {
      "cell_type": "code",
      "execution_count": null,
      "metadata": {
        "colab": {
          "base_uri": "https://localhost:8080/"
        },
        "id": "ZlxBKkkx7pRd",
        "outputId": "8cd1b99b-1fb9-4793-b369-8ca5f3c2bee1"
      },
      "outputs": [
        {
          "data": {
            "text/plain": [
              "{1, 2, 3, 4, 5, 6, 7, 8, 9, 10}"
            ]
          },
          "execution_count": 15,
          "metadata": {},
          "output_type": "execute_result"
        }
      ],
      "source": [
        "# union of A , B and C\n",
        "A.union(B,C)"
      ]
    },
    {
      "cell_type": "code",
      "execution_count": null,
      "metadata": {
        "colab": {
          "base_uri": "https://localhost:8080/"
        },
        "id": "H_6lKl7A83PK",
        "outputId": "747d9cbf-ee08-45fc-fc06-ba0e4bb53ccf"
      },
      "outputs": [
        {
          "data": {
            "text/plain": [
              "{1, 2, 3, 4, 5}"
            ]
          },
          "execution_count": 16,
          "metadata": {},
          "output_type": "execute_result"
        }
      ],
      "source": [
        "A"
      ]
    },
    {
      "cell_type": "code",
      "execution_count": null,
      "metadata": {
        "colab": {
          "base_uri": "https://localhost:8080/"
        },
        "id": "Dz3rbbED728p",
        "outputId": "e9e613e7-9e52-4b36-c16b-e88162222bf0"
      },
      "outputs": [
        {
          "data": {
            "text/plain": [
              "{1, 2, 3, 4, 5, 6, 7, 8, 9, 10}"
            ]
          },
          "execution_count": 17,
          "metadata": {},
          "output_type": "execute_result"
        }
      ],
      "source": [
        "\"\"\"\n",
        "Updates the set calling the update() method with union of A , B & C.\n",
        "For below example Set A will be updated with union of A,B & C.\n",
        "\"\"\"\n",
        "A.update(B,C)\n",
        "A"
      ]
    },
    {
      "cell_type": "code",
      "execution_count": null,
      "metadata": {
        "id": "A3n7U0Jy8LiS"
      },
      "outputs": [],
      "source": [
        "#Intersection\n",
        "A = {1,2,3,4,5}\n",
        "B = {4,5,6,7,8}\n"
      ]
    },
    {
      "cell_type": "code",
      "execution_count": null,
      "metadata": {
        "colab": {
          "base_uri": "https://localhost:8080/"
        },
        "id": "BJSiLB_08Rft",
        "outputId": "d1c59460-7a93-469a-9040-604197cbc486"
      },
      "outputs": [
        {
          "data": {
            "text/plain": [
              "{4, 5}"
            ]
          },
          "execution_count": 19,
          "metadata": {},
          "output_type": "execute_result"
        }
      ],
      "source": [
        "A & B # Intersection of A and B (Common items in both sets)"
      ]
    },
    {
      "cell_type": "code",
      "execution_count": null,
      "metadata": {
        "colab": {
          "base_uri": "https://localhost:8080/"
        },
        "id": "9u3TwKtO8Ucd",
        "outputId": "499817e7-0f53-495d-a7ca-5599641918db"
      },
      "outputs": [
        {
          "data": {
            "text/plain": [
              "{4, 5}"
            ]
          },
          "execution_count": 20,
          "metadata": {},
          "output_type": "execute_result"
        }
      ],
      "source": [
        "A.intersection(B) # Intersection of A and B"
      ]
    },
    {
      "cell_type": "code",
      "execution_count": null,
      "metadata": {
        "colab": {
          "base_uri": "https://localhost:8080/"
        },
        "id": "ZjOk_RYG8cZR",
        "outputId": "86dd1bb2-7c3f-411b-c51a-46f02e44b512"
      },
      "outputs": [
        {
          "data": {
            "text/plain": [
              "{4, 5}"
            ]
          },
          "execution_count": 21,
          "metadata": {},
          "output_type": "execute_result"
        }
      ],
      "source": [
        "\"\"\"\n",
        "Updates the set calling the intersection_update() method with the intersection of\n",
        "For below example Set A will be updated with the intersection of A & B.\n",
        "\"\"\"\n",
        "A.intersection_update(B)\n",
        "A"
      ]
    },
    {
      "cell_type": "code",
      "execution_count": null,
      "metadata": {
        "id": "j1oBv28c9CrI"
      },
      "outputs": [],
      "source": [
        "#Difference\n",
        "A = {1,2,3,4,5}\n",
        "B = {4,5,6,7,8}\n"
      ]
    },
    {
      "cell_type": "code",
      "execution_count": null,
      "metadata": {
        "colab": {
          "base_uri": "https://localhost:8080/"
        },
        "id": "Xt28U_UX9SlN",
        "outputId": "ae1cb5c3-ff62-49e5-db59-cf3c4a8cf164"
      },
      "outputs": [
        {
          "data": {
            "text/plain": [
              "{1, 2, 3}"
            ]
          },
          "execution_count": 23,
          "metadata": {},
          "output_type": "execute_result"
        }
      ],
      "source": [
        "A - B # set of elements that are only in A but not in B"
      ]
    },
    {
      "cell_type": "code",
      "execution_count": null,
      "metadata": {
        "colab": {
          "base_uri": "https://localhost:8080/"
        },
        "id": "xJ9sqI469aFc",
        "outputId": "2cb0aa3b-401b-4361-824b-3200deea663c"
      },
      "outputs": [
        {
          "data": {
            "text/plain": [
              "{1, 2, 3}"
            ]
          },
          "execution_count": 24,
          "metadata": {},
          "output_type": "execute_result"
        }
      ],
      "source": [
        "A.difference(B) # Difference of sets\n"
      ]
    },
    {
      "cell_type": "code",
      "execution_count": null,
      "metadata": {
        "colab": {
          "base_uri": "https://localhost:8080/"
        },
        "id": "UraX7c9t9d8n",
        "outputId": "ee42bc84-d469-4d4e-f02c-05594d3ff2e0"
      },
      "outputs": [
        {
          "data": {
            "text/plain": [
              "{6, 7, 8}"
            ]
          },
          "execution_count": 25,
          "metadata": {},
          "output_type": "execute_result"
        }
      ],
      "source": [
        "\"\"\"\n",
        "Updates the set calling the difference_update() method with the difference of set\n",
        "For below example Set B will be updated with the difference of B & A.\n",
        "\"\"\"\n",
        "B.difference_update(A)\n",
        "B"
      ]
    },
    {
      "cell_type": "code",
      "execution_count": null,
      "metadata": {
        "id": "K2u1r3H99kMm"
      },
      "outputs": [],
      "source": [
        "#Symmetric Difference\n",
        "A = {1,2,3,4,5}\n",
        "B = {4,5,6,7,8}"
      ]
    },
    {
      "cell_type": "code",
      "execution_count": null,
      "metadata": {
        "colab": {
          "base_uri": "https://localhost:8080/"
        },
        "id": "VrUSlaF89kIZ",
        "outputId": "3e714e68-cb7d-41dd-b63d-304e4ce55afb"
      },
      "outputs": [
        {
          "data": {
            "text/plain": [
              "{1, 2, 3, 6, 7, 8}"
            ]
          },
          "execution_count": 27,
          "metadata": {},
          "output_type": "execute_result"
        }
      ],
      "source": [
        "A ^ B # Symmetric difference (Set of elements in A and B but not in both. \"EXCLUD"
      ]
    },
    {
      "cell_type": "code",
      "execution_count": null,
      "metadata": {
        "colab": {
          "base_uri": "https://localhost:8080/"
        },
        "id": "LOFapaN09kCM",
        "outputId": "b647ebc4-8e43-40ae-b3e2-5b92fe0b9f45"
      },
      "outputs": [
        {
          "data": {
            "text/plain": [
              "{1, 2, 3, 6, 7, 8}"
            ]
          },
          "execution_count": 28,
          "metadata": {},
          "output_type": "execute_result"
        }
      ],
      "source": [
        "A.symmetric_difference(B) # Symmetric difference of sets\n"
      ]
    },
    {
      "cell_type": "code",
      "execution_count": null,
      "metadata": {
        "colab": {
          "base_uri": "https://localhost:8080/"
        },
        "id": "ctntTpgD9j_d",
        "outputId": "703c5136-8a66-4e2e-eaf9-f13fb81876ad"
      },
      "outputs": [
        {
          "data": {
            "text/plain": [
              "{1, 2, 3, 6, 7, 8}"
            ]
          },
          "execution_count": 29,
          "metadata": {},
          "output_type": "execute_result"
        }
      ],
      "source": [
        "\"\"\"\n",
        "Updates the set calling the symmetric_difference_update() method with the symmetr\n",
        "For below example Set A will be updated with the symmetric difference of A & B.\n",
        "\"\"\"\n",
        "A.symmetric_difference_update(B)\n",
        "A\n"
      ]
    },
    {
      "cell_type": "code",
      "execution_count": null,
      "metadata": {
        "id": "SIu05SFQ9j7_"
      },
      "outputs": [],
      "source": [
        "#Subset , Superset & Disjoint\n",
        "A = {1,2,3,4,5,6,7,8,9}\n",
        "B = {3,4,5,6,7,8}\n",
        "C = {10,20,30,40}\n"
      ]
    },
    {
      "cell_type": "code",
      "execution_count": null,
      "metadata": {
        "colab": {
          "base_uri": "https://localhost:8080/"
        },
        "id": "_Fy1gp82-n8x",
        "outputId": "856cdff0-84ab-4fde-fb4c-1e4cd6380eb0"
      },
      "outputs": [
        {
          "data": {
            "text/plain": [
              "True"
            ]
          },
          "execution_count": 31,
          "metadata": {},
          "output_type": "execute_result"
        }
      ],
      "source": [
        "B.issubset(A) # Set B is said to be the subset of set A if all elements of B are present in A"
      ]
    },
    {
      "cell_type": "code",
      "execution_count": null,
      "metadata": {
        "colab": {
          "base_uri": "https://localhost:8080/"
        },
        "id": "RN7AECwJ-_BX",
        "outputId": "24570559-6505-4ad3-b38f-1a55313118ee"
      },
      "outputs": [
        {
          "data": {
            "text/plain": [
              "True"
            ]
          },
          "execution_count": 32,
          "metadata": {},
          "output_type": "execute_result"
        }
      ],
      "source": [
        "A.issuperset(B) # Set A is said to be the superset of set B if all elements of B\n"
      ]
    },
    {
      "cell_type": "code",
      "execution_count": null,
      "metadata": {
        "colab": {
          "base_uri": "https://localhost:8080/"
        },
        "id": "vR8lSKE2--89",
        "outputId": "7e3da184-375d-49bf-dd15-19740a9dbb96"
      },
      "outputs": [
        {
          "data": {
            "text/plain": [
              "True"
            ]
          },
          "execution_count": 33,
          "metadata": {},
          "output_type": "execute_result"
        }
      ],
      "source": [
        "C.isdisjoint(A) # Two sets are said to be disjoint sets if they have no common el"
      ]
    },
    {
      "cell_type": "code",
      "execution_count": null,
      "metadata": {
        "colab": {
          "base_uri": "https://localhost:8080/"
        },
        "id": "_xHMKzFL--4n",
        "outputId": "b2f1c7d2-7d6b-480c-8038-91b7f5cbc097"
      },
      "outputs": [
        {
          "data": {
            "text/plain": [
              "{1, 2, 3, 4, 5, 6, 7, 8, 9}"
            ]
          },
          "execution_count": 34,
          "metadata": {},
          "output_type": "execute_result"
        }
      ],
      "source": [
        "A"
      ]
    },
    {
      "cell_type": "code",
      "execution_count": null,
      "metadata": {
        "colab": {
          "base_uri": "https://localhost:8080/"
        },
        "id": "TPKXHeba--z0",
        "outputId": "d6f253f1-006d-47ad-999b-9e8e12ba7885"
      },
      "outputs": [
        {
          "data": {
            "text/plain": [
              "(9,\n",
              " 1,\n",
              " 9,\n",
              " [(0, 1), (1, 2), (2, 3), (3, 4), (4, 5), (5, 6), (6, 7), (7, 8), (8, 9)],\n",
              " [9, 8, 7, 6, 5, 4, 3, 2, 1],\n",
              " [1, 2, 3, 4, 5, 6, 7, 8, 9])"
            ]
          },
          "execution_count": 35,
          "metadata": {},
          "output_type": "execute_result"
        }
      ],
      "source": [
        "max(A), min(A), len(A),list(enumerate(A)),sorted(A,reverse = True) , sorted(A)"
      ]
    },
    {
      "cell_type": "markdown",
      "metadata": {
        "id": "SXYEep_wAhld"
      },
      "source": [
        "**Dictionary**\n",
        "\n",
        "* Dictionary is a mutable data type in\n",
        "Python.\n",
        "* A python dictionary is a collection of key and value pairs separated by a colon (:) & enclosed\n",
        "in curly braces {}.\n",
        "* Keys must be unique in a dictionary, duplicate values are allowed."
      ]
    },
    {
      "cell_type": "code",
      "execution_count": null,
      "metadata": {
        "colab": {
          "base_uri": "https://localhost:8080/"
        },
        "id": "t2PNeMu7AHJM",
        "outputId": "50610f5e-d57a-4c4f-f60b-b212c8781281"
      },
      "outputs": [
        {
          "data": {
            "text/plain": [
              "{'A': 'one', 'B': 'two', 'C': 'three', 'D': 'four'}"
            ]
          },
          "execution_count": 36,
          "metadata": {},
          "output_type": "execute_result"
        }
      ],
      "source": [
        "mydict = {\n",
        "    'A':'one',\n",
        "    'B':'two',\n",
        "    'C':'three',\n",
        "    'D':'four'\n",
        "          }\n",
        "mydict"
      ]
    },
    {
      "cell_type": "code",
      "execution_count": null,
      "metadata": {
        "colab": {
          "base_uri": "https://localhost:8080/"
        },
        "id": "Ko7jxm6fBS8R",
        "outputId": "aaa40dac-a5f8-4160-d40f-cc9d776f08eb"
      },
      "outputs": [
        {
          "data": {
            "text/plain": [
              "{}"
            ]
          },
          "execution_count": 37,
          "metadata": {},
          "output_type": "execute_result"
        }
      ],
      "source": [
        "#Create Dictionary\n",
        "mydict = dict() # empty dictionary\n",
        "mydict\n"
      ]
    },
    {
      "cell_type": "code",
      "execution_count": null,
      "metadata": {
        "colab": {
          "base_uri": "https://localhost:8080/"
        },
        "id": "GEpJ7_W-Bj6F",
        "outputId": "097f06e5-8001-4191-bb01-4e1030ca7b96"
      },
      "outputs": [
        {
          "data": {
            "text/plain": [
              "{}"
            ]
          },
          "execution_count": 38,
          "metadata": {},
          "output_type": "execute_result"
        }
      ],
      "source": [
        "mydict = {} # empty dictionary\n",
        "mydict\n"
      ]
    },
    {
      "cell_type": "code",
      "execution_count": null,
      "metadata": {
        "colab": {
          "base_uri": "https://localhost:8080/"
        },
        "id": "wFOBEIB1Bnju",
        "outputId": "c02274f0-fcd8-4b9a-85cf-2ff965958efe"
      },
      "outputs": [
        {
          "data": {
            "text/plain": [
              "{1: 'one', 2: 'two', 3: 'three'}"
            ]
          },
          "execution_count": 40,
          "metadata": {},
          "output_type": "execute_result"
        }
      ],
      "source": [
        "mydict = {1:'one' , 2:'two' , 3:'three',3:'three'} # dictionary with integer keys\n",
        "mydict"
      ]
    },
    {
      "cell_type": "code",
      "execution_count": null,
      "metadata": {
        "colab": {
          "base_uri": "https://localhost:8080/"
        },
        "id": "t1TA6IdABwR5",
        "outputId": "1c3c1774-63ca-4fda-e4e0-b6eb530ba204"
      },
      "outputs": [
        {
          "data": {
            "text/plain": [
              "dict_keys([1, 2, 3])"
            ]
          },
          "execution_count": 41,
          "metadata": {},
          "output_type": "execute_result"
        }
      ],
      "source": [
        "mydict.keys() # Return Dictionary Keys using keys() method\n"
      ]
    },
    {
      "cell_type": "code",
      "execution_count": null,
      "metadata": {
        "colab": {
          "base_uri": "https://localhost:8080/"
        },
        "id": "PnDvdIXHCHtl",
        "outputId": "44cf65aa-00c9-447f-d5b0-097b2926a2e4"
      },
      "outputs": [
        {
          "data": {
            "text/plain": [
              "dict_values(['one', 'two', 'three'])"
            ]
          },
          "execution_count": 43,
          "metadata": {},
          "output_type": "execute_result"
        }
      ],
      "source": [
        "mydict.values() # Return Dictionary values using values() method\n"
      ]
    },
    {
      "cell_type": "code",
      "execution_count": null,
      "metadata": {
        "colab": {
          "base_uri": "https://localhost:8080/"
        },
        "id": "5OFrZXGlCLDw",
        "outputId": "248a7839-1718-4012-ce6a-cccf5c536027"
      },
      "outputs": [
        {
          "data": {
            "text/plain": [
              "dict_items([(1, 'one'), (2, 'two'), (3, 'three')])"
            ]
          },
          "execution_count": 44,
          "metadata": {},
          "output_type": "execute_result"
        }
      ],
      "source": [
        "mydict.items()"
      ]
    },
    {
      "cell_type": "code",
      "execution_count": null,
      "metadata": {
        "colab": {
          "base_uri": "https://localhost:8080/"
        },
        "id": "0g_R7rquCar3",
        "outputId": "769ae59b-24a6-4c87-8d1d-99b8651ed894"
      },
      "outputs": [
        {
          "data": {
            "text/plain": [
              "{1: 'one', 2: 'two', 3: 'three'}"
            ]
          },
          "execution_count": 45,
          "metadata": {},
          "output_type": "execute_result"
        }
      ],
      "source": [
        "dict([(1, 'one'), (2, 'two'), (3, 'three')])"
      ]
    },
    {
      "cell_type": "code",
      "execution_count": null,
      "metadata": {
        "colab": {
          "base_uri": "https://localhost:8080/"
        },
        "id": "aZA0C0tyCk28",
        "outputId": "21f76ebb-d4eb-4613-b27b-b3864a6c227c"
      },
      "outputs": [
        {
          "data": {
            "text/plain": [
              "{'b': [10, 20, 30, 40],\n",
              " 'd': [10, 20, 30, 40],\n",
              " 'a': [10, 20, 30, 40],\n",
              " 'c': [10, 20, 30, 40]}"
            ]
          },
          "execution_count": 51,
          "metadata": {},
          "output_type": "execute_result"
        }
      ],
      "source": [
        "keys= {'a','b','c','d'}\n",
        "mydict3 = dict.fromkeys(keys,[10,20,30,40])\n",
        "mydict3"
      ]
    },
    {
      "cell_type": "code",
      "execution_count": null,
      "metadata": {
        "colab": {
          "base_uri": "https://localhost:8080/"
        },
        "id": "sjhve8ZdCvJQ",
        "outputId": "92944d6d-f553-4e50-e34a-a31a5ce45e99"
      },
      "outputs": [
        {
          "data": {
            "text/plain": [
              "{'Name': 'Asif', 'ID': 12345, 'DOB': 1991, 'Address': 'Hilsinki'}"
            ]
          },
          "execution_count": 52,
          "metadata": {},
          "output_type": "execute_result"
        }
      ],
      "source": [
        "mydict1 = {'Name':'Asif' , 'ID': 12345 , 'DOB': 1991 , 'Address' : 'Hilsinki'}\n",
        "mydict1\n"
      ]
    },
    {
      "cell_type": "code",
      "execution_count": null,
      "metadata": {
        "id": "k5Y1Q8fNJEjh"
      },
      "outputs": [],
      "source": [
        "mydict1['DOB']=20002"
      ]
    },
    {
      "cell_type": "code",
      "execution_count": null,
      "metadata": {
        "colab": {
          "base_uri": "https://localhost:8080/"
        },
        "id": "SydR2aNMJLby",
        "outputId": "4a6d1bce-1ff0-4842-bda0-64e7577402fe"
      },
      "outputs": [
        {
          "data": {
            "text/plain": [
              "{'Name': 'Asif', 'ID': 12345, 'DOB': 20002, 'Address': 'Hilsinki'}"
            ]
          },
          "execution_count": 60,
          "metadata": {},
          "output_type": "execute_result"
        }
      ],
      "source": [
        "mydict1"
      ]
    },
    {
      "cell_type": "code",
      "execution_count": null,
      "metadata": {
        "colab": {
          "base_uri": "https://localhost:8080/"
        },
        "id": "9yRfBYZlJg-s",
        "outputId": "e74698e5-4788-4af6-b0bf-5886557e0688"
      },
      "outputs": [
        {
          "data": {
            "text/plain": [
              "{'Name': 'Asif', 'ID': 12345, 'DOB': 1995, 'Address': 'Hilsinki'}"
            ]
          },
          "execution_count": 61,
          "metadata": {},
          "output_type": "execute_result"
        }
      ],
      "source": [
        "dict1 = {'DOB':1995}\n",
        "mydict1.update(dict1)\n",
        "mydict1"
      ]
    },
    {
      "cell_type": "code",
      "execution_count": null,
      "metadata": {
        "colab": {
          "base_uri": "https://localhost:8080/"
        },
        "id": "R57Wc_PeMg3j",
        "outputId": "4404e445-c648-4bd1-d265-4ab30bc56a50"
      },
      "outputs": [
        {
          "data": {
            "text/plain": [
              "{'Name': 'Asif',\n",
              " 'ID': 12345,\n",
              " 'DOB': 1995,\n",
              " 'Address': 'Hilsinki',\n",
              " 'Job': 'Analyst'}"
            ]
          },
          "execution_count": 62,
          "metadata": {},
          "output_type": "execute_result"
        }
      ],
      "source": [
        "mydict1['Job'] = 'Analyst' # Adding items in the dictionary\n",
        "mydict1\n"
      ]
    },
    {
      "cell_type": "code",
      "execution_count": null,
      "metadata": {
        "colab": {
          "base_uri": "https://localhost:8080/"
        },
        "id": "GhrQRWffMnVB",
        "outputId": "dae5f6f5-2223-4a5a-b272-ddabc850ba35"
      },
      "outputs": [
        {
          "data": {
            "text/plain": [
              "{'Name': 'Asif', 'ID': 12345, 'DOB': 1995, 'Address': 'Hilsinki'}"
            ]
          },
          "execution_count": 63,
          "metadata": {},
          "output_type": "execute_result"
        }
      ],
      "source": [
        "mydict1.pop('Job') # Removing items in the dictionary using Pop method\n",
        "mydict1\n"
      ]
    },
    {
      "cell_type": "code",
      "execution_count": null,
      "metadata": {
        "colab": {
          "base_uri": "https://localhost:8080/"
        },
        "id": "MddKWaoTOiS8",
        "outputId": "867f2b68-58bc-4fd2-adda-f8c9728bc4ae"
      },
      "outputs": [
        {
          "data": {
            "text/plain": [
              "('Address', 'Hilsinki')"
            ]
          },
          "execution_count": 64,
          "metadata": {},
          "output_type": "execute_result"
        }
      ],
      "source": [
        "mydict1.popitem() # A random item is removed"
      ]
    },
    {
      "cell_type": "code",
      "execution_count": null,
      "metadata": {
        "colab": {
          "base_uri": "https://localhost:8080/"
        },
        "id": "0zTt60bjOiNn",
        "outputId": "6ee5d355-abbb-4d18-bb69-2b783cdfc5ad"
      },
      "outputs": [
        {
          "data": {
            "text/plain": [
              "{'Name': 'Asif', 'ID': 12345, 'DOB': 1995}"
            ]
          },
          "execution_count": 65,
          "metadata": {},
          "output_type": "execute_result"
        }
      ],
      "source": [
        "mydict1"
      ]
    },
    {
      "cell_type": "code",
      "execution_count": null,
      "metadata": {
        "colab": {
          "base_uri": "https://localhost:8080/"
        },
        "id": "xWRhge9TOiKu",
        "outputId": "bae38b53-bf5f-40eb-c163-d6152ec4315e"
      },
      "outputs": [
        {
          "data": {
            "text/plain": [
              "{'Name': 'Asif', 'DOB': 1995}"
            ]
          },
          "execution_count": 66,
          "metadata": {},
          "output_type": "execute_result"
        }
      ],
      "source": [
        "del[mydict1['ID']] # Removing item using del method\n",
        "mydict1"
      ]
    },
    {
      "cell_type": "code",
      "execution_count": null,
      "metadata": {
        "colab": {
          "base_uri": "https://localhost:8080/"
        },
        "id": "AATo-T_GOiHb",
        "outputId": "91881bac-b6b7-4fca-ea84-5f381833eb76"
      },
      "outputs": [
        {
          "data": {
            "text/plain": [
              "{}"
            ]
          },
          "execution_count": 67,
          "metadata": {},
          "output_type": "execute_result"
        }
      ],
      "source": [
        "mydict1.clear() # Delete all items of the dictionary using clear method\n",
        "mydict1\n"
      ]
    },
    {
      "cell_type": "code",
      "execution_count": null,
      "metadata": {
        "colab": {
          "base_uri": "https://localhost:8080/",
          "height": 193
        },
        "id": "yADEucnGOiEs",
        "outputId": "3e3512ba-44f2-4400-90f7-cd74eea19e63"
      },
      "outputs": [
        {
          "ename": "NameError",
          "evalue": "name 'mydict1' is not defined",
          "output_type": "error",
          "traceback": [
            "\u001b[0;31m---------------------------------------------------------------------------\u001b[0m",
            "\u001b[0;31mNameError\u001b[0m                                 Traceback (most recent call last)",
            "\u001b[0;32m<ipython-input-68-da2fba4eca0f>\u001b[0m in \u001b[0;36m<cell line: 2>\u001b[0;34m()\u001b[0m\n\u001b[1;32m      1\u001b[0m \u001b[0;32mdel\u001b[0m \u001b[0mmydict1\u001b[0m \u001b[0;31m# Delete the dictionary object\u001b[0m\u001b[0;34m\u001b[0m\u001b[0;34m\u001b[0m\u001b[0m\n\u001b[0;32m----> 2\u001b[0;31m \u001b[0mmydict1\u001b[0m\u001b[0;34m\u001b[0m\u001b[0;34m\u001b[0m\u001b[0m\n\u001b[0m",
            "\u001b[0;31mNameError\u001b[0m: name 'mydict1' is not defined"
          ]
        }
      ],
      "source": [
        "del mydict1 # Delete the dictionary object\n",
        "mydict1\n"
      ]
    },
    {
      "cell_type": "code",
      "execution_count": null,
      "metadata": {
        "colab": {
          "base_uri": "https://localhost:8080/"
        },
        "id": "P_cGodyYOiAj",
        "outputId": "0fd4432f-12f9-451e-c9f3-ef859cd83396"
      },
      "outputs": [
        {
          "data": {
            "text/plain": [
              "{'Name': 'Asif', 'ID': 12345, 'DOB': 1991, 'Address': 'Hilsinki'}"
            ]
          },
          "execution_count": 69,
          "metadata": {},
          "output_type": "execute_result"
        }
      ],
      "source": [
        "mydict = {'Name':'Asif' , 'ID': 12345 , 'DOB': 1991 , 'Address' : 'Hilsinki'}\n",
        "mydict"
      ]
    },
    {
      "cell_type": "code",
      "execution_count": null,
      "metadata": {
        "id": "WU6Nq_62Oh9g"
      },
      "outputs": [],
      "source": [
        "mydict1=mydict\n"
      ]
    },
    {
      "cell_type": "code",
      "execution_count": null,
      "metadata": {
        "colab": {
          "base_uri": "https://localhost:8080/"
        },
        "id": "VdBMtcBeOh3z",
        "outputId": "927cf8b5-c15e-4afd-c82f-6a1d85bfd32f"
      },
      "outputs": [
        {
          "data": {
            "text/plain": [
              "(139337831033408, 139337831033408)"
            ]
          },
          "execution_count": 71,
          "metadata": {},
          "output_type": "execute_result"
        }
      ],
      "source": [
        "id(mydict1), id(mydict)"
      ]
    },
    {
      "cell_type": "code",
      "execution_count": null,
      "metadata": {
        "id": "HnJ29UOOOhmh"
      },
      "outputs": [],
      "source": [
        "mydict2 = mydict.copy()"
      ]
    },
    {
      "cell_type": "code",
      "execution_count": null,
      "metadata": {
        "colab": {
          "base_uri": "https://localhost:8080/"
        },
        "id": "FxwbXxlJOhju",
        "outputId": "89b1c28e-0ba4-4a1a-ca31-6edc2615dab6"
      },
      "outputs": [
        {
          "data": {
            "text/plain": [
              "False"
            ]
          },
          "execution_count": 73,
          "metadata": {},
          "output_type": "execute_result"
        }
      ],
      "source": [
        "id(mydict2) == id(mydict)"
      ]
    },
    {
      "cell_type": "code",
      "execution_count": null,
      "metadata": {
        "id": "89xc2ZC6Ohg_"
      },
      "outputs": [],
      "source": [
        "mydict['Address'] = 'HYD'"
      ]
    },
    {
      "cell_type": "code",
      "execution_count": null,
      "metadata": {
        "colab": {
          "base_uri": "https://localhost:8080/"
        },
        "id": "S-vPfa-NOhdm",
        "outputId": "418d6ecf-c926-4fb4-fb13-e71df7e68c5f"
      },
      "outputs": [
        {
          "data": {
            "text/plain": [
              "{'Name': 'Asif', 'ID': 12345, 'DOB': 1991, 'Address': 'HYD'}"
            ]
          },
          "execution_count": 75,
          "metadata": {},
          "output_type": "execute_result"
        }
      ],
      "source": [
        "mydict1"
      ]
    },
    {
      "cell_type": "code",
      "execution_count": null,
      "metadata": {
        "colab": {
          "base_uri": "https://localhost:8080/"
        },
        "id": "JdRRkSyOQJuo",
        "outputId": "429c4398-aa7e-4de5-82b3-2ee74c8d2ad6"
      },
      "outputs": [
        {
          "data": {
            "text/plain": [
              "{'Name': 'Asif', 'ID': 12345, 'DOB': 1991, 'Address': 'Hilsinki'}"
            ]
          },
          "execution_count": 76,
          "metadata": {},
          "output_type": "execute_result"
        }
      ],
      "source": [
        "mydict2"
      ]
    },
    {
      "cell_type": "code",
      "execution_count": null,
      "metadata": {
        "colab": {
          "base_uri": "https://localhost:8080/"
        },
        "id": "fD4ncEKzQOC3",
        "outputId": "1aae45f8-aba6-4c40-f878-e20a30b4f01c"
      },
      "outputs": [
        {
          "data": {
            "text/plain": [
              "{'Name': 'Asif',\n",
              " 'ID': 12345,\n",
              " 'DOB': 1991,\n",
              " 'Address': 'Hilsinki',\n",
              " 'Job': 'Analyst'}"
            ]
          },
          "execution_count": 78,
          "metadata": {},
          "output_type": "execute_result"
        }
      ],
      "source": [
        "# Loop through a Dictionary\n",
        "\n",
        "mydict1 = {'Name': 'Asif',\n",
        " 'ID': 12345,\n",
        " 'DOB': 1991,\n",
        " 'Address': 'Hilsinki',\n",
        " 'Job': 'Analyst'}\n",
        "mydict1"
      ]
    },
    {
      "cell_type": "code",
      "execution_count": null,
      "metadata": {
        "colab": {
          "base_uri": "https://localhost:8080/"
        },
        "id": "z9EkVJYXQp6F",
        "outputId": "cb883fc9-4c14-4269-83a7-b917c8d0f32e"
      },
      "outputs": [
        {
          "name": "stdout",
          "output_type": "stream",
          "text": [
            "Name : Asif\n",
            "ID : 12345\n",
            "DOB : 1991\n",
            "Address : Hilsinki\n",
            "Job : Analyst\n"
          ]
        }
      ],
      "source": [
        "for i in mydict1:\n",
        "  print(i,\":\",mydict1[i]) # i will gives us keys and mydict1[i] will give values"
      ]
    },
    {
      "cell_type": "code",
      "execution_count": null,
      "metadata": {
        "colab": {
          "base_uri": "https://localhost:8080/"
        },
        "id": "76ARITJaQ0ki",
        "outputId": "b6526bc4-fc0a-4b93-fb82-17409e935a0a"
      },
      "outputs": [
        {
          "data": {
            "text/plain": [
              "{'Name': 'Asif', 'ID': 12345, 'DOB': 1991, 'Job': 'Analyst'}"
            ]
          },
          "execution_count": 82,
          "metadata": {},
          "output_type": "execute_result"
        }
      ],
      "source": [
        "mydict1 = {'Name':'Asif' , 'ID': 12345 , 'DOB': 1991 , 'Job': 'Analyst'}\n",
        "mydict1"
      ]
    },
    {
      "cell_type": "code",
      "execution_count": null,
      "metadata": {
        "colab": {
          "base_uri": "https://localhost:8080/"
        },
        "id": "MYMbf74jRKxB",
        "outputId": "984d8d85-b750-4d62-b706-53694fd6e5c3"
      },
      "outputs": [
        {
          "data": {
            "text/plain": [
              "True"
            ]
          },
          "execution_count": 83,
          "metadata": {},
          "output_type": "execute_result"
        }
      ],
      "source": [
        "'Name' in mydict1 # Test if a key is in a dictionary or not."
      ]
    },
    {
      "cell_type": "code",
      "execution_count": null,
      "metadata": {
        "colab": {
          "base_uri": "https://localhost:8080/"
        },
        "id": "WE5TMyFERN9j",
        "outputId": "99983781-82e4-4c77-9b91-a6f683a8ddcd"
      },
      "outputs": [
        {
          "data": {
            "text/plain": [
              "False"
            ]
          },
          "execution_count": 85,
          "metadata": {},
          "output_type": "execute_result"
        }
      ],
      "source": [
        "'Asif' in mydict1 # membership test is only done for keys not vlaues"
      ]
    },
    {
      "cell_type": "code",
      "execution_count": null,
      "metadata": {
        "colab": {
          "base_uri": "https://localhost:8080/"
        },
        "id": "zjhPcH1cRSN9",
        "outputId": "cfea0125-58d8-490f-c29f-bed4777686b6"
      },
      "outputs": [
        {
          "data": {
            "text/plain": [
              "False"
            ]
          },
          "execution_count": 86,
          "metadata": {},
          "output_type": "execute_result"
        }
      ],
      "source": [
        "'Address' in mydict1"
      ]
    },
    {
      "cell_type": "code",
      "execution_count": null,
      "metadata": {
        "colab": {
          "base_uri": "https://localhost:8080/"
        },
        "id": "AcYEE2PPRnWx",
        "outputId": "213cb712-da80-4b6b-c50f-75e152618cfb"
      },
      "outputs": [
        {
          "data": {
            "text/plain": [
              "{'Name': 'Asif', 'ID': 0, 'DOB': 1991, 'Job': 'Analyst'}"
            ]
          },
          "execution_count": 87,
          "metadata": {},
          "output_type": "execute_result"
        }
      ],
      "source": [
        "mydict1['ID']=0\n",
        "mydict1"
      ]
    },
    {
      "cell_type": "code",
      "execution_count": null,
      "metadata": {
        "colab": {
          "base_uri": "https://localhost:8080/"
        },
        "id": "_xClPdwyR0tv",
        "outputId": "ac7cdcca-af39-41c2-dbb9-32be5eed61dd"
      },
      "outputs": [
        {
          "data": {
            "text/plain": [
              "True"
            ]
          },
          "execution_count": 88,
          "metadata": {},
          "output_type": "execute_result"
        }
      ],
      "source": [
        "all(mydict1)"
      ]
    },
    {
      "cell_type": "code",
      "execution_count": null,
      "metadata": {
        "colab": {
          "base_uri": "https://localhost:8080/"
        },
        "id": "J7J9EXCASU8-",
        "outputId": "fb7f1c18-618a-4257-c763-f987bc1d2a00"
      },
      "outputs": [
        {
          "data": {
            "text/plain": [
              "{'Name': 'Asif', 'ID': 0, 'DOB': 1991, 'Job': 'Analyst', 0: 'test1'}"
            ]
          },
          "execution_count": 89,
          "metadata": {},
          "output_type": "execute_result"
        }
      ],
      "source": [
        "mydict1[0]='test1'\n",
        "mydict1"
      ]
    },
    {
      "cell_type": "code",
      "execution_count": null,
      "metadata": {
        "colab": {
          "base_uri": "https://localhost:8080/"
        },
        "id": "Pq7WLfF_SctM",
        "outputId": "92d28d1f-efe7-4a9e-f487-dc89ff8a41a9"
      },
      "outputs": [
        {
          "data": {
            "text/plain": [
              "False"
            ]
          },
          "execution_count": 90,
          "metadata": {},
          "output_type": "execute_result"
        }
      ],
      "source": [
        "all(mydict1)"
      ]
    },
    {
      "cell_type": "code",
      "execution_count": null,
      "metadata": {
        "colab": {
          "base_uri": "https://localhost:8080/"
        },
        "id": "oq2EqG6ZSfRk",
        "outputId": "42c1e521-cc4e-4ce4-d8f3-6490847755cd"
      },
      "outputs": [
        {
          "data": {
            "text/plain": [
              "{0: 0, 1: 2, 2: 4, 3: 6, 4: 8}"
            ]
          },
          "execution_count": 94,
          "metadata": {},
          "output_type": "execute_result"
        }
      ],
      "source": [
        "# Dictionary Comprehension\n",
        "double = {i:i*2 for i in range(5)}\n",
        "double"
      ]
    },
    {
      "cell_type": "code",
      "execution_count": null,
      "metadata": {
        "colab": {
          "base_uri": "https://localhost:8080/"
        },
        "id": "iw3UDisrSzHO",
        "outputId": "0fa87a19-36fd-4381-c1ce-5eb61f6c1fa7"
      },
      "outputs": [
        {
          "data": {
            "text/plain": [
              "{'one': 1, 'two': 2, 'three': 3, 'four': 4, 'five': 5}"
            ]
          },
          "execution_count": 95,
          "metadata": {},
          "output_type": "execute_result"
        }
      ],
      "source": [
        "key = ['one' , 'two' , 'three' , 'four' , 'five']\n",
        "value = [1,2,3,4,5]\n",
        "mydict = {k:v for (k,v) in zip(key,value)} # using dict comprehension to create d\n",
        "mydict\n"
      ]
    },
    {
      "cell_type": "code",
      "execution_count": null,
      "metadata": {
        "colab": {
          "base_uri": "https://localhost:8080/"
        },
        "id": "s9OqBhrWTLcx",
        "outputId": "d706402d-75e6-4051-da2f-51eaa72fa52f"
      },
      "outputs": [
        {
          "data": {
            "text/plain": [
              "{'one': 1, 'two': 2, 'three': 3, 'four': 4, 'five': 5}"
            ]
          },
          "execution_count": 98,
          "metadata": {},
          "output_type": "execute_result"
        }
      ],
      "source": [
        "dict(zip(key,value))"
      ]
    },
    {
      "cell_type": "code",
      "execution_count": null,
      "metadata": {
        "colab": {
          "base_uri": "https://localhost:8080/"
        },
        "id": "Riage1qzTPAp",
        "outputId": "b6e211de-d31b-4873-873f-0735d303c6c0"
      },
      "outputs": [
        {
          "data": {
            "text/plain": [
              "{'a': 1.0, 'b': 2.0, 'c': 3.0, 'd': 4.0, 'e': 5.0}"
            ]
          },
          "execution_count": 101,
          "metadata": {},
          "output_type": "execute_result"
        }
      ],
      "source": [
        "mydict1 = {'a':10 , 'b':20 , 'c':30 , 'd':40 , 'e':50}\n",
        "\n",
        "mydict1 = {k:v/10 for (k,v) in mydict1.items()}\n",
        "mydict1"
      ]
    },
    {
      "cell_type": "code",
      "execution_count": null,
      "metadata": {
        "colab": {
          "base_uri": "https://localhost:8080/"
        },
        "id": "ejqe3ktET8ee",
        "outputId": "d221b6f1-4f34-43b6-9379-a370791d6c04"
      },
      "outputs": [
        {
          "data": {
            "text/plain": [
              "{0: 'N',\n",
              " 1: 'a',\n",
              " 2: 't',\n",
              " 3: 'u',\n",
              " 4: 'r',\n",
              " 5: 'a',\n",
              " 6: 'l',\n",
              " 7: ' ',\n",
              " 8: 'L',\n",
              " 9: 'a',\n",
              " 10: 'n',\n",
              " 11: 'g',\n",
              " 12: 'u',\n",
              " 13: 'a',\n",
              " 14: 'g',\n",
              " 15: 'e',\n",
              " 16: ' ',\n",
              " 17: 'P',\n",
              " 18: 'r',\n",
              " 19: 'o',\n",
              " 20: 'c',\n",
              " 21: 'e',\n",
              " 22: 's',\n",
              " 23: 's',\n",
              " 24: 'i',\n",
              " 25: 'n',\n",
              " 26: 'g'}"
            ]
          },
          "execution_count": 102,
          "metadata": {},
          "output_type": "execute_result"
        }
      ],
      "source": [
        "str1 = \"Natural Language Processing\"\n",
        "\n",
        "mydict2 = {k:v for (k,v) in enumerate(str1)}\n",
        "mydict2"
      ]
    },
    {
      "cell_type": "code",
      "execution_count": null,
      "metadata": {
        "colab": {
          "base_uri": "https://localhost:8080/"
        },
        "id": "3Pq6Sd-hUWes",
        "outputId": "2576ae30-7d23-4fe6-a892-da1b6e088ac6"
      },
      "outputs": [
        {
          "data": {
            "text/plain": [
              "{'N': 'N',\n",
              " 'a': 'A',\n",
              " 't': 'T',\n",
              " 'u': 'U',\n",
              " 'r': 'R',\n",
              " 'l': 'L',\n",
              " ' ': ' ',\n",
              " 'L': 'L',\n",
              " 'n': 'N',\n",
              " 'g': 'G',\n",
              " 'e': 'E',\n",
              " 'P': 'P',\n",
              " 'o': 'O',\n",
              " 'c': 'C',\n",
              " 's': 'S',\n",
              " 'i': 'I'}"
            ]
          },
          "execution_count": 104,
          "metadata": {},
          "output_type": "execute_result"
        }
      ],
      "source": [
        "str1 = \"Natural Language Processing\"\n",
        "mydict3 = {i:i.upper() for i in str1}\n",
        "mydict3"
      ]
    },
    {
      "cell_type": "code",
      "execution_count": null,
      "metadata": {
        "colab": {
          "base_uri": "https://localhost:8080/"
        },
        "id": "HaCSvvvjUp4x",
        "outputId": "abc1dfae-f22d-4d9e-dcce-f204bd9f2a50"
      },
      "outputs": [
        {
          "data": {
            "text/plain": [
              "['one',\n",
              " 'two',\n",
              " 'three',\n",
              " 'four',\n",
              " 'one',\n",
              " 'two',\n",
              " 'two',\n",
              " 'three',\n",
              " 'five',\n",
              " 'five',\n",
              " 'six',\n",
              " 'seven',\n",
              " 'six',\n",
              " 'seven',\n",
              " 'one']"
            ]
          },
          "execution_count": 106,
          "metadata": {},
          "output_type": "execute_result"
        }
      ],
      "source": [
        "# Word Frequency using dictionary\n",
        "mystr4 = \"one two three four one two two three five five six seven six seven one\"\n",
        "mylist = mystr4.split()\n",
        "mylist"
      ]
    },
    {
      "cell_type": "code",
      "execution_count": null,
      "metadata": {
        "colab": {
          "base_uri": "https://localhost:8080/"
        },
        "id": "2mskA9G7WHIJ",
        "outputId": "b4168d66-904d-4307-bb3d-5a425ba63393"
      },
      "outputs": [
        {
          "data": {
            "text/plain": [
              "3"
            ]
          },
          "execution_count": 110,
          "metadata": {},
          "output_type": "execute_result"
        }
      ],
      "source": [
        "mylist.count(mylist[0])"
      ]
    },
    {
      "cell_type": "code",
      "execution_count": null,
      "metadata": {
        "id": "uK6Rp9FXVHW6"
      },
      "outputs": [],
      "source": [
        "word_freq = {}\n",
        "for i in mylist:\n",
        "  word_freq[i]=mylist.count(i)\n"
      ]
    },
    {
      "cell_type": "code",
      "execution_count": null,
      "metadata": {
        "colab": {
          "base_uri": "https://localhost:8080/"
        },
        "id": "MVGXnapuWbmt",
        "outputId": "a9af4935-6ce8-435f-c64e-273cd3178ed8"
      },
      "outputs": [
        {
          "data": {
            "text/plain": [
              "{'one': 3, 'two': 3, 'three': 2, 'four': 1, 'five': 2, 'six': 2, 'seven': 2}"
            ]
          },
          "execution_count": 112,
          "metadata": {},
          "output_type": "execute_result"
        }
      ],
      "source": [
        "word_freq"
      ]
    },
    {
      "cell_type": "markdown",
      "metadata": {
        "id": "gSaV5NLsXPCR"
      },
      "source": [
        "**Operators**\n",
        "\n",
        " Operators are special symbols in Python which are used to perform operations on\n",
        "variables/values."
      ]
    },
    {
      "cell_type": "code",
      "execution_count": null,
      "metadata": {
        "colab": {
          "base_uri": "https://localhost:8080/"
        },
        "id": "0tkUhpn-Wd_G",
        "outputId": "76808b0c-4166-46e4-8b53-91d561d0e914"
      },
      "outputs": [
        {
          "name": "stdout",
          "output_type": "stream",
          "text": [
            "additon of 5 and 2 will give 7\n"
          ]
        }
      ],
      "source": [
        "a = 5\n",
        "b = 2\n",
        "x = 'Asif'\n",
        "y = 'Bhat'\n",
        "# Addition\n",
        "c = a + b\n",
        "print(\"additon of {} and {} will give {}\".format(a,b,c))\n"
      ]
    },
    {
      "cell_type": "code",
      "execution_count": null,
      "metadata": {
        "colab": {
          "base_uri": "https://localhost:8080/"
        },
        "id": "9hupSGoZXjA6",
        "outputId": "8186a28d-e515-425a-9b5b-e7bda02cdf32"
      },
      "outputs": [
        {
          "name": "stdout",
          "output_type": "stream",
          "text": [
            "concatenation of strings 'x' and 'y' using '+' operator :- AsifBhat\n",
            " \n"
          ]
        }
      ],
      "source": [
        "z = x+y\n",
        "print(\"concatenation of strings \\'x\\' and \\'y\\' using \\'+\\' operator :- {}\\n \".format(z))"
      ]
    },
    {
      "cell_type": "code",
      "execution_count": null,
      "metadata": {
        "colab": {
          "base_uri": "https://localhost:8080/"
        },
        "id": "6qUN11pfX6Vg",
        "outputId": "017f50a9-06e9-43ed-ae4f-1f8d4a9bc99e"
      },
      "outputs": [
        {
          "data": {
            "text/plain": [
              "(False, True, True)"
            ]
          },
          "execution_count": 117,
          "metadata": {},
          "output_type": "execute_result"
        }
      ],
      "source": [
        "a = 'Asif'\n",
        "b = 'Bhat'\n",
        "c = 'Asif'\n",
        "a == b , a ==c , a != b # Comparison operators on string"
      ]
    },
    {
      "cell_type": "code",
      "execution_count": null,
      "metadata": {
        "colab": {
          "base_uri": "https://localhost:8080/"
        },
        "id": "llnjWQtqYVBD",
        "outputId": "dd9107f4-3d78-4f76-e232-7761a5d3dbef"
      },
      "outputs": [
        {
          "data": {
            "text/plain": [
              "True"
            ]
          },
          "execution_count": 118,
          "metadata": {},
          "output_type": "execute_result"
        }
      ],
      "source": [
        "id(a) == id(c)"
      ]
    },
    {
      "cell_type": "code",
      "execution_count": null,
      "metadata": {
        "colab": {
          "base_uri": "https://localhost:8080/"
        },
        "id": "cpkfrIZ6YYqi",
        "outputId": "56313b27-5efa-4db9-98f3-0789d0708140"
      },
      "outputs": [
        {
          "name": "stdout",
          "output_type": "stream",
          "text": [
            "Bitwise AND operation - 2\n",
            "Bitwise OR operation - 22\n",
            "Bitwise XOR operation - 20\n",
            "Bitwise NOT operation - -19\n",
            "Bitwise right shift operation - 4\n",
            "Bitwise left shift operation - 72\n"
          ]
        }
      ],
      "source": [
        "x = 18 # binary form 10010\n",
        "y = 6 # binary form 00110\n",
        "print('Bitwise AND operation - {}'.format(x&y))\n",
        "print('Bitwise OR operation - {}'.format(x|y))\n",
        "print('Bitwise XOR operation - {}'.format(x^y))\n",
        "print('Bitwise NOT operation - {}'.format(~x))\n",
        "print('Bitwise right shift operation - {}'.format(x>>2))\n",
        "print('Bitwise left shift operation - {}'.format(x<<2))\n"
      ]
    },
    {
      "cell_type": "code",
      "execution_count": null,
      "metadata": {
        "colab": {
          "base_uri": "https://localhost:8080/"
        },
        "id": "r0yQr352Ylpk",
        "outputId": "afa1487f-1e52-4d18-9a60-32bda74bbc27"
      },
      "outputs": [
        {
          "data": {
            "text/plain": [
              "('0b10010', '0b110')"
            ]
          },
          "execution_count": 123,
          "metadata": {},
          "output_type": "execute_result"
        }
      ],
      "source": [
        "bin(18) , bin(6)"
      ]
    },
    {
      "cell_type": "code",
      "execution_count": null,
      "metadata": {
        "colab": {
          "base_uri": "https://localhost:8080/"
        },
        "id": "CxO1Dwf1ZIP8",
        "outputId": "668bc98c-e899-457d-ac0a-f9ed9d611a87"
      },
      "outputs": [
        {
          "data": {
            "text/plain": [
              "10"
            ]
          },
          "execution_count": 124,
          "metadata": {},
          "output_type": "execute_result"
        }
      ],
      "source": [
        "10010 & 110"
      ]
    },
    {
      "cell_type": "code",
      "execution_count": null,
      "metadata": {
        "colab": {
          "base_uri": "https://localhost:8080/",
          "height": 35
        },
        "id": "SHwn55QSZWXY",
        "outputId": "5a299c86-2bc7-4078-c6a0-b71fa8c2423b"
      },
      "outputs": [
        {
          "data": {
            "application/vnd.google.colaboratory.intrinsic+json": {
              "type": "string"
            },
            "text/plain": [
              "'0b10110'"
            ]
          },
          "execution_count": 125,
          "metadata": {},
          "output_type": "execute_result"
        }
      ],
      "source": [
        "bin(22)"
      ]
    },
    {
      "cell_type": "code",
      "execution_count": null,
      "metadata": {
        "colab": {
          "base_uri": "https://localhost:8080/",
          "height": 35
        },
        "id": "qkJ1FKCwZlNL",
        "outputId": "6654e9bd-8e23-4c3e-b410-e850fe095b9d"
      },
      "outputs": [
        {
          "data": {
            "application/vnd.google.colaboratory.intrinsic+json": {
              "type": "string"
            },
            "text/plain": [
              "'0b1001000'"
            ]
          },
          "execution_count": 126,
          "metadata": {},
          "output_type": "execute_result"
        }
      ],
      "source": [
        "bin(72)"
      ]
    },
    {
      "cell_type": "markdown",
      "metadata": {
        "id": "dfIHBfX-bkTY"
      },
      "source": [
        "**Functions**\n",
        "\n",
        "1. A Fuction is a block of organized code written to carry out a specified task.\n",
        "2. Functions help break our program into smaller and modular chunks for better readability.\n",
        "3. Information can be passed into  Function as arguments\n",
        "4. parameters are specified after the functions name inside the parenteses.\n",
        "5. we can add as many as parameters as we want. parameters must be separated with a comma.\n",
        "6. A function may or may not return data.\n",
        "7. In python a function is defined using **def** keyword\n",
        "\n",
        "\n",
        "**parameter vs arguments**\n",
        "\n",
        "\n",
        "* parameter is the variabel listed inside the parentheses of a function definition.\n",
        "* arguments are the value that is sent to the function when it is called.\n",
        "\n",
        "**Three types of functions in Python:-**\n",
        "\n",
        "**Built-in function** :- Python predefined functions that are readily available for use like min() ,\n",
        "max() , sum() , print() etc.\n",
        "\n",
        "**User-Defined Functions**:- Function that we define ourselves to perform a specific task.\n",
        "\n",
        "**Anonymous functions**: Function that is defined without a name. Anonymous functions are\n",
        "also called as lambda functions. They are not declared with the def keyword."
      ]
    },
    {
      "cell_type": "code",
      "execution_count": null,
      "metadata": {
        "id": "Q3-7POcAaN9t"
      },
      "outputs": [],
      "source": [
        "def function_name():\n",
        "  ''' function docstring '''\n"
      ]
    },
    {
      "cell_type": "code",
      "execution_count": null,
      "metadata": {
        "colab": {
          "base_uri": "https://localhost:8080/",
          "height": 35
        },
        "id": "huKUStQrfiLM",
        "outputId": "92ba7e07-4699-4f44-85f9-821b3d100f41"
      },
      "outputs": [
        {
          "data": {
            "application/vnd.google.colaboratory.intrinsic+json": {
              "type": "string"
            },
            "text/plain": [
              "' function docstring '"
            ]
          },
          "execution_count": 132,
          "metadata": {},
          "output_type": "execute_result"
        }
      ],
      "source": [
        "function_name.__doc__"
      ]
    },
    {
      "cell_type": "code",
      "execution_count": null,
      "metadata": {
        "colab": {
          "base_uri": "https://localhost:8080/"
        },
        "id": "9gjhAu-pfnvr",
        "outputId": "9e157df5-98bd-4caf-ce3d-63980614477a"
      },
      "outputs": [
        {
          "name": "stdout",
          "output_type": "stream",
          "text": [
            "hi this is function\n"
          ]
        }
      ],
      "source": [
        "def myfunc():\n",
        "  '''basic using of def'''\n",
        "  print(\"hi this is function\")\n",
        "myfunc()"
      ]
    },
    {
      "cell_type": "code",
      "execution_count": null,
      "metadata": {
        "colab": {
          "base_uri": "https://localhost:8080/",
          "height": 35
        },
        "id": "84pDjt2fhoph",
        "outputId": "7c18614b-f7eb-4747-86cb-9a278ea2c6a8"
      },
      "outputs": [
        {
          "data": {
            "application/vnd.google.colaboratory.intrinsic+json": {
              "type": "string"
            },
            "text/plain": [
              "'basic using of def'"
            ]
          },
          "execution_count": 137,
          "metadata": {},
          "output_type": "execute_result"
        }
      ],
      "source": [
        "myfunc.__doc__"
      ]
    },
    {
      "cell_type": "code",
      "execution_count": null,
      "metadata": {
        "colab": {
          "base_uri": "https://localhost:8080/"
        },
        "id": "xkA45FdyhstF",
        "outputId": "2cc029b1-719c-4055-ab92-3e69a77a6411"
      },
      "outputs": [
        {
          "name": "stdout",
          "output_type": "stream",
          "text": [
            "\n",
            "  function to print user details\n",
            "  \n",
            "name:- ramu\n",
            "userId:- 99 \n",
            "country:- India\n"
          ]
        }
      ],
      "source": [
        "def details(name,user_id,country):\n",
        "  '''\n",
        "  function to print user details\n",
        "  '''\n",
        "  print('name:- {}\\nuserId:- {} \\ncountry:- {}'.format(name,user_id,country))\n",
        "\n",
        "print(details.__doc__ )\n",
        "details('ramu',99,'India')"
      ]
    },
    {
      "cell_type": "code",
      "execution_count": null,
      "metadata": {
        "colab": {
          "base_uri": "https://localhost:8080/"
        },
        "id": "ZS9Vb8E9iTP6",
        "outputId": "d44c4c7c-ceea-4181-caa6-8691b2737453"
      },
      "outputs": [
        {
          "data": {
            "text/plain": [
              "81"
            ]
          },
          "execution_count": 142,
          "metadata": {},
          "output_type": "execute_result"
        }
      ],
      "source": [
        "def get_square(num):\n",
        "  '''\n",
        "function to get square of a number\n",
        "  '''\n",
        "  return num**2\n",
        "get_square(9)"
      ]
    },
    {
      "cell_type": "code",
      "execution_count": null,
      "metadata": {
        "colab": {
          "base_uri": "https://localhost:8080/"
        },
        "id": "liJNVlx3jJvi",
        "outputId": "c34f163f-1d2d-4e67-c160-1f394af97903"
      },
      "outputs": [
        {
          "name": "stdout",
          "output_type": "stream",
          "text": [
            "9 is odd\n"
          ]
        }
      ],
      "source": [
        "def even_odd_test(num):\n",
        "  '''\n",
        "function to check weather a a number is even or odd\n",
        "  '''\n",
        "  if num%2==0:print('{} is even'.format(num))\n",
        "  else : print('{} is odd'.format(num))\n",
        "\n",
        "even_odd_test(9)"
      ]
    },
    {
      "cell_type": "code",
      "execution_count": null,
      "metadata": {
        "colab": {
          "base_uri": "https://localhost:8080/"
        },
        "id": "3pn5c2nujr8-",
        "outputId": "1cfbf8e5-54e3-4c69-c815-3564655aec3b"
      },
      "outputs": [
        {
          "name": "stdout",
          "output_type": "stream",
          "text": [
            "\n",
            "function to check weather a a number is even or odd\n",
            "  \n"
          ]
        }
      ],
      "source": [
        "print(even_odd_test.__doc__)"
      ]
    },
    {
      "cell_type": "code",
      "execution_count": null,
      "metadata": {
        "colab": {
          "base_uri": "https://localhost:8080/"
        },
        "id": "0x_-re3qjwI4",
        "outputId": "0a1b625d-4c97-489b-9dab-57e6b523f78e"
      },
      "outputs": [
        {
          "name": "stdout",
          "output_type": "stream",
          "text": [
            "praneeth heart mounika\n"
          ]
        }
      ],
      "source": [
        "def fullname(firstname, middlename, lastname):\n",
        "  fullname=\"{} {} {}\".format(firstname,middlename,lastname)\n",
        "  print(fullname)\n",
        "\n",
        "fullname('praneeth','heart','mounika')\n"
      ]
    },
    {
      "cell_type": "code",
      "execution_count": null,
      "metadata": {
        "colab": {
          "base_uri": "https://localhost:8080/"
        },
        "id": "2E5Gi53qF2_3",
        "outputId": "690d6e59-816d-4705-f645-5e121e50676f"
      },
      "outputs": [
        {
          "name": "stdout",
          "output_type": "stream",
          "text": [
            "mounika heart praneeth\n"
          ]
        }
      ],
      "source": [
        "def fullname(firstname, middlename, lastname):\n",
        "  fullname=\"{} {} {}\".format(firstname,middlename,lastname)\n",
        "  print(fullname)\n",
        "\n",
        "fullname(lastname='praneeth',middlename='heart',firstname='mounika')"
      ]
    },
    {
      "cell_type": "code",
      "execution_count": null,
      "metadata": {
        "colab": {
          "base_uri": "https://localhost:8080/"
        },
        "id": "5Qgtw7dUHirn",
        "outputId": "46c2e952-9677-4323-e595-22d157cafdf9"
      },
      "outputs": [
        {
          "name": "stdout",
          "output_type": "stream",
          "text": [
            "most popular city:-  Mumbai\n",
            "most popular city:-  hyd\n"
          ]
        }
      ],
      "source": [
        "def myfunc(city = 'Mumbai'):\n",
        "  print('most popular city:- ',city)\n",
        "\n",
        "myfunc()\n",
        "myfunc('hyd')"
      ]
    },
    {
      "cell_type": "code",
      "execution_count": null,
      "metadata": {
        "colab": {
          "base_uri": "https://localhost:8080/"
        },
        "id": "eXNFQcCxH1uK",
        "outputId": "c3f98163-09c7-439c-b343-ad93ec02e0ea"
      },
      "outputs": [
        {
          "name": "stdout",
          "output_type": "stream",
          "text": [
            "100\n",
            "100\n"
          ]
        }
      ],
      "source": [
        "var1= 100\n",
        "\n",
        "def myfunc():\n",
        "  print(var1)\n",
        "\n",
        "myfunc()\n",
        "print(var1)"
      ]
    },
    {
      "cell_type": "code",
      "execution_count": null,
      "metadata": {
        "colab": {
          "base_uri": "https://localhost:8080/"
        },
        "id": "Dzo3-Mw5IJJ8",
        "outputId": "407f8c4e-d387-414d-cece-e678122a91dc"
      },
      "outputs": [
        {
          "name": "stdout",
          "output_type": "stream",
          "text": [
            "10\n",
            "10\n"
          ]
        }
      ],
      "source": [
        "def myfunc1():\n",
        "   global var2\n",
        "   var2 =10\n",
        "   print(var2)\n",
        "\n",
        "def myfunc2():\n",
        "  print(var2)\n",
        "\n",
        "myfunc1()\n",
        "myfunc2()"
      ]
    },
    {
      "cell_type": "code",
      "execution_count": null,
      "metadata": {
        "colab": {
          "base_uri": "https://localhost:8080/",
          "height": 366
        },
        "id": "V0yVG29wImMM",
        "outputId": "723bea5b-a062-4c65-a548-2d02e1d05d71"
      },
      "outputs": [
        {
          "name": "stdout",
          "output_type": "stream",
          "text": [
            "list1 before calling function:-  [10, 20, 30, 40, 50]\n"
          ]
        },
        {
          "ename": "TypeError",
          "evalue": "'type' object does not support item deletion",
          "output_type": "error",
          "traceback": [
            "\u001b[0;31m---------------------------------------------------------------------------\u001b[0m",
            "\u001b[0;31mTypeError\u001b[0m                                 Traceback (most recent call last)",
            "\u001b[0;32m<ipython-input-17-a5e0c70bf897>\u001b[0m in \u001b[0;36m<cell line: 6>\u001b[0;34m()\u001b[0m\n\u001b[1;32m      4\u001b[0m \u001b[0;34m\u001b[0m\u001b[0m\n\u001b[1;32m      5\u001b[0m \u001b[0mprint\u001b[0m\u001b[0;34m(\u001b[0m\u001b[0;34m'list1 before calling function:- '\u001b[0m\u001b[0;34m,\u001b[0m\u001b[0mlist1\u001b[0m\u001b[0;34m)\u001b[0m\u001b[0;34m\u001b[0m\u001b[0;34m\u001b[0m\u001b[0m\n\u001b[0;32m----> 6\u001b[0;31m \u001b[0mmyfunc\u001b[0m\u001b[0;34m(\u001b[0m\u001b[0mlist1\u001b[0m\u001b[0;34m)\u001b[0m\u001b[0;34m\u001b[0m\u001b[0;34m\u001b[0m\u001b[0m\n\u001b[0m\u001b[1;32m      7\u001b[0m \u001b[0mprint\u001b[0m\u001b[0;34m(\u001b[0m\u001b[0;34m'list1 after calling function:- '\u001b[0m\u001b[0;34m,\u001b[0m\u001b[0mlist1\u001b[0m\u001b[0;34m)\u001b[0m\u001b[0;34m\u001b[0m\u001b[0;34m\u001b[0m\u001b[0m\n",
            "\u001b[0;32m<ipython-input-17-a5e0c70bf897>\u001b[0m in \u001b[0;36mmyfunc\u001b[0;34m(list1)\u001b[0m\n\u001b[1;32m      1\u001b[0m \u001b[0mlist1\u001b[0m\u001b[0;34m=\u001b[0m \u001b[0;34m[\u001b[0m\u001b[0;36m10\u001b[0m\u001b[0;34m,\u001b[0m\u001b[0;36m20\u001b[0m\u001b[0;34m,\u001b[0m\u001b[0;36m30\u001b[0m\u001b[0;34m,\u001b[0m\u001b[0;36m40\u001b[0m\u001b[0;34m,\u001b[0m\u001b[0;36m50\u001b[0m\u001b[0;34m]\u001b[0m\u001b[0;34m\u001b[0m\u001b[0;34m\u001b[0m\u001b[0m\n\u001b[1;32m      2\u001b[0m \u001b[0;32mdef\u001b[0m \u001b[0mmyfunc\u001b[0m\u001b[0;34m(\u001b[0m\u001b[0mlist1\u001b[0m\u001b[0;34m)\u001b[0m\u001b[0;34m:\u001b[0m\u001b[0;34m\u001b[0m\u001b[0;34m\u001b[0m\u001b[0m\n\u001b[0;32m----> 3\u001b[0;31m   \u001b[0;32mdel\u001b[0m \u001b[0mlist\u001b[0m\u001b[0;34m[\u001b[0m\u001b[0;36m0\u001b[0m\u001b[0;34m]\u001b[0m\u001b[0;34m\u001b[0m\u001b[0;34m\u001b[0m\u001b[0m\n\u001b[0m\u001b[1;32m      4\u001b[0m \u001b[0;34m\u001b[0m\u001b[0m\n\u001b[1;32m      5\u001b[0m \u001b[0mprint\u001b[0m\u001b[0;34m(\u001b[0m\u001b[0;34m'list1 before calling function:- '\u001b[0m\u001b[0;34m,\u001b[0m\u001b[0mlist1\u001b[0m\u001b[0;34m)\u001b[0m\u001b[0;34m\u001b[0m\u001b[0;34m\u001b[0m\u001b[0m\n",
            "\u001b[0;31mTypeError\u001b[0m: 'type' object does not support item deletion"
          ]
        }
      ],
      "source": [
        "list1= [10,20,30,40,50]\n",
        "def myfunc(list1):\n",
        "  del list[0]\n",
        "\n",
        "print('list1 before calling function:- ',list1)\n",
        "myfunc(list1)\n",
        "print('list1 after calling function:- ',list1)"
      ]
    },
    {
      "cell_type": "code",
      "execution_count": null,
      "metadata": {
        "colab": {
          "base_uri": "https://localhost:8080/"
        },
        "id": "kP_iXGoBKyM6",
        "outputId": "3adb3ad2-1667-429a-fe51-91aec2841f71"
      },
      "outputs": [
        {
          "name": "stdout",
          "output_type": "stream",
          "text": [
            "20 10\n"
          ]
        }
      ],
      "source": [
        "def swap_(a,b):\n",
        "  temp = a\n",
        "  a = b\n",
        "  b = temp\n",
        "  print(a,b)\n",
        "a = 10\n",
        "b = 20\n",
        "swap_(a,b)\n"
      ]
    },
    {
      "cell_type": "code",
      "execution_count": null,
      "metadata": {
        "colab": {
          "base_uri": "https://localhost:8080/"
        },
        "id": "hVJ9MtKBUCN5",
        "outputId": "951f746d-6579-40a7-e764-3c9b1c3b0ae9"
      },
      "outputs": [
        {
          "name": "stdout",
          "output_type": "stream",
          "text": [
            "\n",
            "1. Display Balance\n",
            "2. Deposit\n",
            "3. Withdraw\n",
            "4. Exit\n",
            "Enter your choice (1-4): 1\n",
            "Your balance is: $0\n",
            "\n",
            "1. Display Balance\n",
            "2. Deposit\n",
            "3. Withdraw\n",
            "4. Exit\n",
            "Enter your choice (1-4): 2\n",
            "Enter the deposit amount: $10\n",
            "Deposited $10.0. Your new balance is: $10.0\n",
            "\n",
            "1. Display Balance\n",
            "2. Deposit\n",
            "3. Withdraw\n",
            "4. Exit\n",
            "Enter your choice (1-4): 8\n",
            "Invalid choice. Please enter a number between 1 and 4.\n",
            "\n",
            "1. Display Balance\n",
            "2. Deposit\n",
            "3. Withdraw\n",
            "4. Exit\n",
            "Enter your choice (1-4): 3\n",
            "Enter the withdrawal amount: $1\n",
            "Withdrew $1.0. Your new balance is: $9.0\n",
            "\n",
            "1. Display Balance\n",
            "2. Deposit\n",
            "3. Withdraw\n",
            "4. Exit\n",
            "Enter your choice (1-4): 3\n",
            "Enter the withdrawal amount: $10\n",
            "Insufficient funds. Withdrawal unsuccessful.\n",
            "\n",
            "1. Display Balance\n",
            "2. Deposit\n",
            "3. Withdraw\n",
            "4. Exit\n",
            "Enter your choice (1-4): 4\n",
            "Exiting the ATM. Thank you!\n"
          ]
        }
      ],
      "source": [
        "class ATM:\n",
        "    def __init__(self, balance=0):\n",
        "        self.balance = balance\n",
        "\n",
        "    def display_balance(self):\n",
        "        print(f\"Your balance is: ${self.balance}\")\n",
        "\n",
        "    def deposit(self, amount):\n",
        "        self.balance += amount\n",
        "        print(f\"Deposited ${amount}. Your new balance is: ${self.balance}\")\n",
        "\n",
        "    def withdraw(self, amount):\n",
        "        if amount > self.balance:\n",
        "            print(\"Insufficient funds. Withdrawal unsuccessful.\")\n",
        "        else:\n",
        "            self.balance -= amount\n",
        "            print(f\"Withdrew ${amount}. Your new balance is: ${self.balance}\")\n",
        "\n",
        "# Example usage:\n",
        "def main():\n",
        "    atm = ATM()\n",
        "\n",
        "    while True:\n",
        "        print(\"\\n1. Display Balance\")\n",
        "        print(\"2. Deposit\")\n",
        "        print(\"3. Withdraw\")\n",
        "        print(\"4. Exit\")\n",
        "\n",
        "        choice = input(\"Enter your choice (1-4): \")\n",
        "\n",
        "        if choice == \"1\":\n",
        "            atm.display_balance()\n",
        "        elif choice == \"2\":\n",
        "            amount = float(input(\"Enter the deposit amount: $\"))\n",
        "            atm.deposit(amount)\n",
        "        elif choice == \"3\":\n",
        "            amount = float(input(\"Enter the withdrawal amount: $\"))\n",
        "            atm.withdraw(amount)\n",
        "        elif choice == \"4\":\n",
        "            print(\"Exiting the ATM. Thank you!\")\n",
        "            break\n",
        "        else:\n",
        "            print(\"Invalid choice. Please enter a number between 1 and 4.\")\n",
        "\n",
        "if __name__ == \"__main__\":\n",
        "    main()\n"
      ]
    },
    {
      "cell_type": "code",
      "execution_count": null,
      "metadata": {
        "colab": {
          "background_save": true,
          "base_uri": "https://localhost:8080/"
        },
        "id": "rdp2LsjWD77p",
        "outputId": "288d504f-9237-4acc-963e-c67a5d0b3d39"
      },
      "outputs": [
        {
          "name": "stdout",
          "output_type": "stream",
          "text": [
            "\n",
            "1. Display Balance\n",
            "2. Deposit\n",
            "3. Withdraw\n",
            "4. Exit\n",
            "\n",
            "1Your balance is: $0\n",
            "\n",
            "1. Display Balance\n",
            "2. Deposit\n",
            "3. Withdraw\n",
            "4. Exit\n",
            "Exiting the ATM. Thank you!\n"
          ]
        }
      ],
      "source": [
        "class ATM:\n",
        "    def __init__(self, balance=0):\n",
        "        \"\"\"\n",
        "        Initializes an ATM object with a given balance.\n",
        "\n",
        "        Parameters:\n",
        "        - balance (float, optional): The initial balance of the ATM. Default is 0.\n",
        "        \"\"\"\n",
        "        self.balance = balance\n",
        "\n",
        "    def display_balance(self):\n",
        "        \"\"\"\n",
        "        Displays the current balance of the ATM.\n",
        "        \"\"\"\n",
        "        print(f\"\\n1Your balance is: ${self.balance}\")\n",
        "\n",
        "    def deposit(self, amount):\n",
        "        \"\"\"\n",
        "        Deposits money into the ATM and updates the balance.\n",
        "\n",
        "        Parameters:\n",
        "        - amount (float): The amount to be deposited.\n",
        "        \"\"\"\n",
        "        self.balance += amount\n",
        "        print(f\"Deposited ${amount} is successful. Your new balance is: ${self.balance}\")\n",
        "\n",
        "    def withdraw(self, amount):\n",
        "        \"\"\"\n",
        "        Withdraws money from the ATM, if sufficient funds are available.\n",
        "\n",
        "        Parameters:\n",
        "        - amount (float): The amount to be withdrawn.\n",
        "        \"\"\"\n",
        "        if amount > self.balance:\n",
        "            print(\"Insufficient funds. Withdrawal unsuccessful.\")\n",
        "        else:\n",
        "            self.balance -= amount\n",
        "            print(f\"Withdrew ${amount}. Your new balance is: ${self.balance}\")\n",
        "\n",
        "def main():\n",
        "    \"\"\"\n",
        "    Main function to run the ATM simulation.\n",
        "\n",
        "    Provides a simple menu for users to interact with the ATM by choosing options.\n",
        "    \"\"\"\n",
        "    atm = ATM()\n",
        "\n",
        "    while True:\n",
        "        print(\"\\n1. Display Balance\")\n",
        "        print(\"2. Deposit\")\n",
        "        print(\"3. Withdraw\")\n",
        "        print(\"4. Exit\")\n",
        "\n",
        "        choice = input(\"Enter your choice (1-4): \")\n",
        "\n",
        "        if choice == \"1\":\n",
        "            atm.display_balance()\n",
        "        elif choice == \"2\":\n",
        "            amount = float(input(\"Enter the deposit amount: $\"))\n",
        "            atm.deposit(amount)\n",
        "        elif choice == \"3\":\n",
        "            amount = float(input(\"Enter the withdrawal amount: $\"))\n",
        "            atm.withdraw(amount)\n",
        "        elif choice == \"4\":\n",
        "            print(\"Exiting the ATM. Thank you!\")\n",
        "            break\n",
        "        else:\n",
        "            print(\"Invalid choice. Please enter a number between 1 and 4.\")\n",
        "\n",
        "if __name__ == \"__main__\":\n",
        "    main()\n"
      ]
    },
    {
      "cell_type": "code",
      "execution_count": null,
      "metadata": {
        "colab": {
          "base_uri": "https://localhost:8080/"
        },
        "id": "IGauj7Z6FoKH",
        "outputId": "8c3d1292-915c-4e99-a157-5484f6ee225a"
      },
      "outputs": [
        {
          "name": "stdout",
          "output_type": "stream",
          "text": [
            "Enter the name of the file: sample_file\n",
            "Enter the content to write to the file: hi this is a file \n",
            "Content successfully written to 'sample_file'.\n"
          ]
        }
      ],
      "source": [
        "def write_to_file(file_name, content):\n",
        "    \"\"\"\n",
        "    Creates a file and writes content to it.\n",
        "\n",
        "    Parameters:\n",
        "    - file_name (str): The name of the file to be created.\n",
        "    - content (str): The content to be written to the file.\n",
        "    \"\"\"\n",
        "    try:\n",
        "        with open(file_name, 'w') as file:\n",
        "            file.write(content)\n",
        "        print(f\"Content successfully written to '{file_name}'.\")\n",
        "    except Exception as e:\n",
        "        print(f\"An error occurred: {e}\")\n",
        "\n",
        "def main():\n",
        "    \"\"\"\n",
        "    Main function to demonstrate file creation and writing.\n",
        "    \"\"\"\n",
        "    file_name = input(\"Enter the name of the file: \")\n",
        "    content = input(\"Enter the content to write to the file: \")\n",
        "\n",
        "    write_to_file(file_name, content)\n",
        "\n",
        "if __name__ == \"__main__\":\n",
        "    main()\n"
      ]
    },
    {
      "cell_type": "code",
      "execution_count": null,
      "metadata": {
        "colab": {
          "base_uri": "https://localhost:8080/"
        },
        "id": "ZMZLPyfmwwok",
        "outputId": "420ce762-dc36-41dd-8fcd-fde30eaff62b"
      },
      "outputs": [
        {
          "name": "stdout",
          "output_type": "stream",
          "text": [
            "Enter the name of the file: sample_file\n",
            "Alphabet frequencies (sorted by keys):\n",
            "a: 1\n",
            "e: 1\n",
            "f: 1\n",
            "h: 2\n",
            "i: 4\n",
            "l: 1\n",
            "s: 2\n",
            "t: 1\n"
          ]
        }
      ],
      "source": [
        "def count_alphabet_frequencies(file_name):\n",
        "    \"\"\"\n",
        "    Reads a file, counts the frequency of each alphabet (case-insensitive),\n",
        "    and returns a sorted dictionary with the frequencies.\n",
        "\n",
        "    Parameters:\n",
        "    - file_name (str): The name of the file to be read.\n",
        "\n",
        "    Returns:\n",
        "    dict: A sorted dictionary with alphabet frequencies.\n",
        "    \"\"\"\n",
        "    try:\n",
        "        # Open the file in read mode\n",
        "        with open(file_name, 'r') as file:\n",
        "            # Read the content of the file and convert it to lowercase for case-insensitive counting\n",
        "            content = file.read()\n",
        "            content = content.lower()\n",
        "\n",
        "        # Dictionary to store alphabet frequencies\n",
        "        alphabet_frequencies = {}\n",
        "\n",
        "        # Iterate through each character in the content\n",
        "        for char in content:\n",
        "            # Check if the character is an alphabet\n",
        "            if char.isalpha():\n",
        "                # Increment the count of the alphabet in the dictionary\n",
        "                alphabet_frequencies[char] = alphabet_frequencies.get(char, 0) + 1\n",
        "\n",
        "        # Sort the dictionary by keys\n",
        "\n",
        "        return sorted_frequencies\n",
        "\n",
        "    except Exception as e:\n",
        "        # Handle any errors that might occur during file reading or counting\n",
        "        print(f\"An error occurred: {e}\")\n",
        "        return {}\n",
        "\n",
        "def main():\n",
        "    \"\"\"\n",
        "    Main function to demonstrate reading a file, counting alphabet frequencies, and sorting the dictionary.\n",
        "    \"\"\"\n",
        "    # Prompt the user to enter the name of the file\n",
        "    file_name = input(\"Enter the name of the file: \")\n",
        "\n",
        "    # Call the function to count alphabet frequencies and sort the dictionary\n",
        "    frequencies = count_alphabet_frequencies(file_name)\n",
        "\n",
        "    # Display the results\n",
        "    if frequencies:\n",
        "        print(\"Alphabet frequencies (sorted by keys):\")\n",
        "        for char, count in frequencies.items():\n",
        "            print(f\"{char}: {count}\")\n",
        "    else:\n",
        "        print(\"Unable to count alphabet frequencies.\")\n",
        "\n",
        "if __name__ == \"__main__\":\n",
        "    main()\n"
      ]
    },
    {
      "cell_type": "code",
      "execution_count": null,
      "metadata": {
        "colab": {
          "base_uri": "https://localhost:8080/"
        },
        "id": "QV21t7YyxAbR",
        "outputId": "8cee0b73-0b85-4d8a-bcde-b74cf802c289"
      },
      "outputs": [
        {
          "name": "stdout",
          "output_type": "stream",
          "text": [
            "Enter a non-negative integer: 4\n",
            "The factorial of 4 is: 24\n"
          ]
        }
      ],
      "source": [
        "def calculate_factorial(n):\n",
        "    \"\"\"\n",
        "    Calculates the factorial of a given number using a for loop.\n",
        "\n",
        "    Parameters:\n",
        "    - n (int): The number for which the factorial is to be calculated.\n",
        "\n",
        "    Returns:\n",
        "    int: The factorial of the given number.\n",
        "    \"\"\"\n",
        "    factorial_result = 1\n",
        "\n",
        "    # Loop to calculate factorial\n",
        "    for i in range(1, n + 1):\n",
        "        factorial_result *= i\n",
        "\n",
        "    return factorial_result\n",
        "\n",
        "def main():\n",
        "    \"\"\"\n",
        "    Main function to demonstrate the use of loops.\n",
        "    \"\"\"\n",
        "    while True:\n",
        "        try:\n",
        "            # Get user input for a non-negative integer\n",
        "            num = int(input(\"Enter a non-negative integer: \"))\n",
        "\n",
        "            if num < 0:\n",
        "                print(\"Please enter a non-negative integer.\")\n",
        "                continue\n",
        "\n",
        "            # Calculate and display the factorial\n",
        "            result = calculate_factorial(num)\n",
        "            print(f\"The factorial of {num} is: {result}\")\n",
        "\n",
        "            break  # Exit the loop if input is valid and factorial is calculated\n",
        "\n",
        "        except ValueError:\n",
        "            print(\"Invalid input. Please enter a valid non-negative integer.\")\n",
        "\n",
        "if __name__ == \"__main__\":\n",
        "    main()\n"
      ]
    },
    {
      "cell_type": "code",
      "execution_count": null,
      "metadata": {
        "colab": {
          "base_uri": "https://localhost:8080/"
        },
        "id": "fY49ph5vxk02",
        "outputId": "f36ce1b9-bd5b-4727-8e59-ca439e252eff"
      },
      "outputs": [
        {
          "name": "stdout",
          "output_type": "stream",
          "text": [
            "odd\n"
          ]
        }
      ],
      "source": [
        "l1=[1,3]\n",
        "for i in l1:\n",
        "  if i%2==0:\n",
        "    print(\"even\")\n",
        "    break\n",
        "  else:\n",
        "    print(\"odd\")\n",
        "    break"
      ]
    },
    {
      "cell_type": "code",
      "execution_count": null,
      "metadata": {
        "id": "Uj7cQf54hW5k"
      },
      "outputs": [],
      "source": [
        "def check_even(num_list):\n",
        "  for num in num_list:\n",
        "    if num%2==0:\n",
        "      return True\n",
        "    else:\n",
        "      pass\n",
        "  return False\n"
      ]
    },
    {
      "cell_type": "code",
      "execution_count": null,
      "metadata": {
        "colab": {
          "base_uri": "https://localhost:8080/"
        },
        "id": "CR1Ui2VKiI0E",
        "outputId": "1c89e7ad-b70e-49dc-de34-31ba0323644d"
      },
      "outputs": [
        {
          "data": {
            "text/plain": [
              "False"
            ]
          },
          "execution_count": 11,
          "metadata": {},
          "output_type": "execute_result"
        }
      ],
      "source": [
        "check_even([1,3,5])"
      ]
    },
    {
      "cell_type": "code",
      "execution_count": null,
      "metadata": {
        "id": "aFTfZV6LiMg6"
      },
      "outputs": [],
      "source": [
        "def get_even_num(num_list):\n",
        "  even_list=[]\n",
        "  for num in num_list:\n",
        "    if num%2==0:\n",
        "      if num not in even_list:\n",
        "          even_list.append(num)\n",
        "  return even_list"
      ]
    },
    {
      "cell_type": "code",
      "execution_count": null,
      "metadata": {
        "colab": {
          "base_uri": "https://localhost:8080/"
        },
        "id": "bsUQP4vHjWTA",
        "outputId": "eeed4cad-21b1-469c-d344-ef21bebba89a"
      },
      "outputs": [
        {
          "data": {
            "text/plain": [
              "[2, 4, 6]"
            ]
          },
          "execution_count": 18,
          "metadata": {},
          "output_type": "execute_result"
        }
      ],
      "source": [
        "get_even_num([1,2,3,4,5,6,6])"
      ]
    },
    {
      "cell_type": "code",
      "execution_count": null,
      "metadata": {
        "id": "NTI-D-7ZjdVz"
      },
      "outputs": [],
      "source": [
        "stock_prices = [('A',10),('B',20)]\n"
      ]
    },
    {
      "cell_type": "code",
      "execution_count": null,
      "metadata": {
        "colab": {
          "base_uri": "https://localhost:8080/"
        },
        "id": "r73DPML9mtsP",
        "outputId": "f7c8ef0f-aa77-40f8-ecb2-51aeec5a6804"
      },
      "outputs": [
        {
          "name": "stdout",
          "output_type": "stream",
          "text": [
            "('A', 10)\n",
            "('B', 20)\n"
          ]
        }
      ],
      "source": [
        "for item in stock_prices:\n",
        "  print(item)"
      ]
    },
    {
      "cell_type": "code",
      "execution_count": null,
      "metadata": {
        "colab": {
          "base_uri": "https://localhost:8080/"
        },
        "id": "_kh98dUmmy3Y",
        "outputId": "dd0e5447-c079-401f-d4b5-673cd28b8b18"
      },
      "outputs": [
        {
          "name": "stdout",
          "output_type": "stream",
          "text": [
            "A 10\n",
            "B 20\n"
          ]
        }
      ],
      "source": [
        "for name,price in stock_prices:\n",
        "  print(name , price)"
      ]
    },
    {
      "cell_type": "code",
      "execution_count": null,
      "metadata": {
        "id": "JUqQc_8Om_6K"
      },
      "outputs": [],
      "source": [
        "work_hours = [('vivek',900),('saswata',200),('priya',900)]\n",
        "def employee_check(work_hours):\n",
        "  current_max=0\n",
        "  emp_month=''\n",
        "  for name,time in work_hours:\n",
        "    if not time<=current_max:\n",
        "      current_max=time\n",
        "      emp_month=name\n",
        "  return (emp_month,current_max)"
      ]
    },
    {
      "cell_type": "code",
      "execution_count": null,
      "metadata": {
        "colab": {
          "base_uri": "https://localhost:8080/"
        },
        "id": "RkghmN79oatk",
        "outputId": "50faf3cf-e4d7-46ef-8fcc-ce778415d116"
      },
      "outputs": [
        {
          "data": {
            "text/plain": [
              "('vivek', 900)"
            ]
          },
          "execution_count": 28,
          "metadata": {},
          "output_type": "execute_result"
        }
      ],
      "source": [
        "employee_check(work_hours)"
      ]
    },
    {
      "cell_type": "code",
      "execution_count": null,
      "metadata": {
        "id": "QaJ9QmBdohmz"
      },
      "outputs": [],
      "source": [
        "example = [1,2,3,4,5,6,7]\n"
      ]
    },
    {
      "cell_type": "code",
      "execution_count": null,
      "metadata": {
        "id": "0tZ44aPQpWoL"
      },
      "outputs": [],
      "source": [
        "from random import shuffle\n",
        "shuffle(example)"
      ]
    },
    {
      "cell_type": "code",
      "execution_count": null,
      "metadata": {
        "colab": {
          "base_uri": "https://localhost:8080/"
        },
        "id": "WFVxGe7dpdp2",
        "outputId": "74cb86b1-30c1-41a4-aff0-a331fc1129bd"
      },
      "outputs": [
        {
          "data": {
            "text/plain": [
              "[5, 7, 6, 4, 3, 1, 2]"
            ]
          },
          "execution_count": 32,
          "metadata": {},
          "output_type": "execute_result"
        }
      ],
      "source": [
        "example"
      ]
    },
    {
      "cell_type": "code",
      "execution_count": null,
      "metadata": {
        "colab": {
          "base_uri": "https://localhost:8080/"
        },
        "id": "GKe8VziipfwZ",
        "outputId": "b6efef7e-d42d-4ce7-ec30-e04dbee92166"
      },
      "outputs": [
        {
          "data": {
            "text/plain": [
              "[6, 4, 2, 1, 5, 7, 3]"
            ]
          },
          "execution_count": 33,
          "metadata": {},
          "output_type": "execute_result"
        }
      ],
      "source": [
        "def shuffle_list(example):\n",
        "  shuffle(example)\n",
        "  return example\n",
        "shuffle_list(example)"
      ]
    },
    {
      "cell_type": "code",
      "execution_count": null,
      "metadata": {
        "colab": {
          "base_uri": "https://localhost:8080/"
        },
        "id": "ByHjtY1Xp7ir",
        "outputId": "e299f4a1-5d8d-42a8-a854-0c594f9dc481"
      },
      "outputs": [
        {
          "name": "stdout",
          "output_type": "stream",
          "text": [
            "enter a number [0,1,2]: 1\n"
          ]
        }
      ],
      "source": [
        "my_list=['','o','']\n",
        "def player_guess():\n",
        "  guess=''\n",
        "  while guess not in ['0','1','2']:\n",
        "    guess = input('enter a number [0,1,2]: ')\n",
        "\n",
        "  return int(guess)\n",
        "\n",
        "guess=player_guess()\n"
      ]
    },
    {
      "cell_type": "code",
      "execution_count": null,
      "metadata": {
        "id": "QCNZOBENrIz7"
      },
      "outputs": [],
      "source": [
        "def check_guess(mylist,guess):\n",
        "  if mylist[guess]=='o':\n",
        "    return True"
      ]
    },
    {
      "cell_type": "code",
      "execution_count": null,
      "metadata": {
        "colab": {
          "base_uri": "https://localhost:8080/"
        },
        "id": "WfI_98iyrfSX",
        "outputId": "12b81d02-cede-493e-f438-e516cae4333a"
      },
      "outputs": [
        {
          "data": {
            "text/plain": [
              "True"
            ]
          },
          "execution_count": 40,
          "metadata": {},
          "output_type": "execute_result"
        }
      ],
      "source": [
        "check_guess(my_list,guess)"
      ]
    },
    {
      "cell_type": "code",
      "execution_count": null,
      "metadata": {
        "colab": {
          "base_uri": "https://localhost:8080/"
        },
        "id": "_oOa7slqrlut",
        "outputId": "d0656596-3ad6-443f-c48f-8a063d7dc73c"
      },
      "outputs": [
        {
          "name": "stdout",
          "output_type": "stream",
          "text": [
            "enter a number [0,1,2]: 3\n",
            "enter a number [0,1,2]: 2\n",
            "guess is wrong!\n"
          ]
        }
      ],
      "source": [
        "my_list=['','o','']\n",
        "def player_guess():\n",
        "  guess=''\n",
        "  while guess not in ['0','1','2']:\n",
        "    guess = input('enter a number [0,1,2]: ')\n",
        "\n",
        "  return int(guess)\n",
        "\n",
        "guess=player_guess()\n",
        "\n",
        "def check_guess(mylist,guess):\n",
        "  if mylist[guess]=='o':\n",
        "    print(\"guess is correct!\")\n",
        "  else:\n",
        "    print('guess is wrong!')\n",
        "check_guess(my_list,guess)"
      ]
    },
    {
      "cell_type": "code",
      "execution_count": null,
      "metadata": {
        "id": "Y7yndTqzsRb-"
      },
      "outputs": [],
      "source": [
        "def myfunc(*args):\n",
        "  print(args)\n",
        "  return sum(args)*0.05"
      ]
    },
    {
      "cell_type": "code",
      "execution_count": null,
      "metadata": {
        "colab": {
          "base_uri": "https://localhost:8080/"
        },
        "id": "8loTcPlwv-r8",
        "outputId": "5a0a586d-ea12-4c73-a3f3-917b9e00e489"
      },
      "outputs": [
        {
          "name": "stdout",
          "output_type": "stream",
          "text": [
            "(10, 20, 30)\n"
          ]
        },
        {
          "data": {
            "text/plain": [
              "3.0"
            ]
          },
          "execution_count": 53,
          "metadata": {},
          "output_type": "execute_result"
        }
      ],
      "source": [
        "myfunc(10,20,30)"
      ]
    },
    {
      "cell_type": "code",
      "execution_count": null,
      "metadata": {
        "id": "BJ4QiNkJwB1-"
      },
      "outputs": [],
      "source": [
        "def myfunc(**kwargs):\n",
        "  print(kwargs)\n",
        "  if 'fruit' in kwargs:\n",
        "    print('My fruit of choice is {}'.format(kwargs['fruit']))\n",
        "  else:\n",
        "    print('i did not find any fruit')"
      ]
    },
    {
      "cell_type": "code",
      "execution_count": null,
      "metadata": {
        "colab": {
          "base_uri": "https://localhost:8080/"
        },
        "id": "s_meKmLJxjj-",
        "outputId": "d056cab6-0dc1-49ce-a6f8-19e136c29eb1"
      },
      "outputs": [
        {
          "name": "stdout",
          "output_type": "stream",
          "text": [
            "{'fruit': 'apple', 'veggi': 'lettuce'}\n",
            "My fruit of choice is apple\n"
          ]
        }
      ],
      "source": [
        "myfunc(fruit='apple',veggi='lettuce')\n"
      ]
    },
    {
      "cell_type": "code",
      "execution_count": null,
      "metadata": {
        "id": "yugn286Qx6RI"
      },
      "outputs": [],
      "source": [
        "def myfunc(*args,**kwargs):\n",
        "  print(args)\n",
        "  print(kwargs)\n",
        "  print('I would like {} {}'.format(args[0],kwargs['food']))"
      ]
    },
    {
      "cell_type": "code",
      "execution_count": null,
      "metadata": {
        "colab": {
          "base_uri": "https://localhost:8080/"
        },
        "id": "T6hohHpzzCi-",
        "outputId": "91767696-513b-4a15-94d1-e87c52f91395"
      },
      "outputs": [
        {
          "name": "stdout",
          "output_type": "stream",
          "text": [
            "(1, 2, 3, 4)\n",
            "{'fruit': 'apple', 'veggi': 'lettuce', 'food': 'biryani'}\n",
            "I would like 1 biryani\n"
          ]
        }
      ],
      "source": [
        "myfunc(1,2,3,4,fruit='apple',veggi='lettuce',food='biryani')"
      ]
    },
    {
      "cell_type": "code",
      "execution_count": null,
      "metadata": {
        "id": "ev74NHyRzQHz"
      },
      "outputs": [],
      "source": [
        "def square(num):\n",
        "  return num**2\n"
      ]
    },
    {
      "cell_type": "code",
      "execution_count": null,
      "metadata": {
        "id": "5XcRGuanGDZ1"
      },
      "outputs": [],
      "source": [
        "my_nums=[1,2,3,4,5]"
      ]
    },
    {
      "cell_type": "code",
      "execution_count": null,
      "metadata": {
        "colab": {
          "base_uri": "https://localhost:8080/"
        },
        "id": "HHYVvUD3GDQq",
        "outputId": "76ec447c-fc92-438c-cfea-7256d9dc17b6"
      },
      "outputs": [
        {
          "data": {
            "text/plain": [
              "<map at 0x781aab420fd0>"
            ]
          },
          "execution_count": 62,
          "metadata": {},
          "output_type": "execute_result"
        }
      ],
      "source": [
        "map(square,my_nums)"
      ]
    },
    {
      "cell_type": "code",
      "execution_count": null,
      "metadata": {
        "colab": {
          "base_uri": "https://localhost:8080/"
        },
        "id": "tteMq-jWGrEj",
        "outputId": "c01f4bbc-a8ee-4a9b-f3a7-4123ddf200f3"
      },
      "outputs": [
        {
          "data": {
            "text/plain": [
              "[1, 4, 9, 16, 25]"
            ]
          },
          "execution_count": 63,
          "metadata": {},
          "output_type": "execute_result"
        }
      ],
      "source": [
        "list(map(square,my_nums))"
      ]
    },
    {
      "cell_type": "code",
      "execution_count": null,
      "metadata": {
        "colab": {
          "base_uri": "https://localhost:8080/"
        },
        "id": "eF_wm4LMG708",
        "outputId": "29911781-ec5b-4061-f73e-9f48c5d60893"
      },
      "outputs": [
        {
          "name": "stdout",
          "output_type": "stream",
          "text": [
            "1\n",
            "4\n",
            "9\n",
            "16\n",
            "25\n"
          ]
        }
      ],
      "source": [
        "for it in map(square,my_nums):\n",
        "  print(it)"
      ]
    },
    {
      "cell_type": "code",
      "execution_count": null,
      "metadata": {
        "id": "Z6D7v5boJGMt"
      },
      "outputs": [],
      "source": [
        "def check_even(num):\n",
        "  return num%2==0"
      ]
    },
    {
      "cell_type": "code",
      "execution_count": null,
      "metadata": {
        "colab": {
          "base_uri": "https://localhost:8080/"
        },
        "id": "yCTMnct7JwFT",
        "outputId": "9b0dead3-1429-4902-eac4-e9d47853aadf"
      },
      "outputs": [
        {
          "data": {
            "text/plain": [
              "[2, 4]"
            ]
          },
          "execution_count": 71,
          "metadata": {},
          "output_type": "execute_result"
        }
      ],
      "source": [
        "list(filter(check_even,my_nums))"
      ]
    },
    {
      "cell_type": "code",
      "execution_count": null,
      "metadata": {
        "colab": {
          "base_uri": "https://localhost:8080/"
        },
        "id": "F0RSlZXqJ24p",
        "outputId": "59d406f5-a747-4a1d-ffa4-a86d18fb7476"
      },
      "outputs": [
        {
          "data": {
            "text/plain": [
              "[1, 4, 9]"
            ]
          },
          "execution_count": 73,
          "metadata": {},
          "output_type": "execute_result"
        }
      ],
      "source": [
        "list(map(lambda num:num**2,[1,2,3]))"
      ]
    },
    {
      "cell_type": "code",
      "execution_count": null,
      "metadata": {
        "colab": {
          "base_uri": "https://localhost:8080/"
        },
        "id": "2uX_FbNwKqmw",
        "outputId": "2c940077-bc9a-4f75-9de7-2823f8cd4b63"
      },
      "outputs": [
        {
          "data": {
            "text/plain": [
              "[2, 4]"
            ]
          },
          "execution_count": 75,
          "metadata": {},
          "output_type": "execute_result"
        }
      ],
      "source": [
        "list(filter(lambda num:num%2==0,my_nums))"
      ]
    },
    {
      "cell_type": "code",
      "execution_count": null,
      "metadata": {
        "colab": {
          "base_uri": "https://localhost:8080/"
        },
        "id": "F_m59UpULENd",
        "outputId": "5d117c8c-cff8-4504-b5df-b301ecf8af0d"
      },
      "outputs": [
        {
          "data": {
            "text/plain": [
              "[1, 2, 3, 4, 5]"
            ]
          },
          "execution_count": 76,
          "metadata": {},
          "output_type": "execute_result"
        }
      ],
      "source": [
        "my_nums"
      ]
    },
    {
      "cell_type": "code",
      "execution_count": null,
      "metadata": {
        "id": "1LU7nqroLfrb"
      },
      "outputs": [],
      "source": [
        "names =['hi','hello','kai']"
      ]
    },
    {
      "cell_type": "code",
      "execution_count": null,
      "metadata": {
        "id": "hHuSSY4DLwQD"
      },
      "outputs": [],
      "source": [
        "def get(names):\n",
        "  for x in names:\n",
        "    print(x[0])"
      ]
    },
    {
      "cell_type": "code",
      "execution_count": null,
      "metadata": {
        "colab": {
          "base_uri": "https://localhost:8080/"
        },
        "id": "rRdR5mvkMT6u",
        "outputId": "57bfecef-a051-49d3-9059-baaad8d093c6"
      },
      "outputs": [
        {
          "data": {
            "text/plain": [
              "['h', 'h', 'k']"
            ]
          },
          "execution_count": 89,
          "metadata": {},
          "output_type": "execute_result"
        }
      ],
      "source": [
        "list(map(lambda x:x[0],names))"
      ]
    },
    {
      "cell_type": "code",
      "execution_count": null,
      "metadata": {
        "id": "wSEcXU_QMU_6"
      },
      "outputs": [],
      "source": []
    },
    {
      "cell_type": "markdown",
      "metadata": {
        "id": "VZ1HSlIlNkLQ"
      },
      "source": [
        "Fortunately, with iPython and the Jupyter Notebook we can quickly see all the possible methods using the tab key. The methods for a list are:\n",
        "\n",
        "* append\n",
        "* count\n",
        "* extend\n",
        "* insert\n",
        "* pop\n",
        "* remove\n",
        "* reverse\n",
        "* sort"
      ]
    },
    {
      "cell_type": "code",
      "execution_count": null,
      "metadata": {
        "id": "Q4CA5-KjNuQA"
      },
      "outputs": [],
      "source": [
        "list1=[1,2,3,4,5,6,7,8,9,10]\n"
      ]
    },
    {
      "cell_type": "code",
      "execution_count": null,
      "metadata": {
        "colab": {
          "base_uri": "https://localhost:8080/"
        },
        "id": "_n2eQ6W8NyWj",
        "outputId": "2fea7052-7645-4f7e-aa03-2a28759aeffa"
      },
      "outputs": [
        {
          "data": {
            "text/plain": [
              "[1, 2, 3, 4, 5, 6, 7, 8, 9, 10, 10]"
            ]
          },
          "execution_count": 91,
          "metadata": {},
          "output_type": "execute_result"
        }
      ],
      "source": [
        "list1.append(10)\n",
        "list1"
      ]
    },
    {
      "cell_type": "code",
      "execution_count": null,
      "metadata": {
        "colab": {
          "base_uri": "https://localhost:8080/"
        },
        "id": "UkayrkodN10z",
        "outputId": "5b8bb0a2-c4d1-4cfc-cca1-0b87f91fb0c8"
      },
      "outputs": [
        {
          "data": {
            "text/plain": [
              "10"
            ]
          },
          "execution_count": 92,
          "metadata": {},
          "output_type": "execute_result"
        }
      ],
      "source": [
        "list1.pop()"
      ]
    },
    {
      "cell_type": "code",
      "execution_count": null,
      "metadata": {
        "colab": {
          "base_uri": "https://localhost:8080/"
        },
        "id": "VUTyA6oNN49Q",
        "outputId": "378a6fcc-cb06-4e9a-855e-4905bc9c1e40"
      },
      "outputs": [
        {
          "data": {
            "text/plain": [
              "[1, 2, 3, 4, 5, 6, 7, 8, 9, 10]"
            ]
          },
          "execution_count": 93,
          "metadata": {},
          "output_type": "execute_result"
        }
      ],
      "source": [
        "list1"
      ]
    },
    {
      "cell_type": "code",
      "execution_count": null,
      "metadata": {
        "id": "OOu8clrkN6TM"
      },
      "outputs": [],
      "source": [
        "list1.append(1)"
      ]
    },
    {
      "cell_type": "code",
      "execution_count": null,
      "metadata": {
        "colab": {
          "base_uri": "https://localhost:8080/"
        },
        "id": "0zQc4zTWN_Wz",
        "outputId": "1749f8d6-b291-4286-964a-d8e57078c5da"
      },
      "outputs": [
        {
          "data": {
            "text/plain": [
              "2"
            ]
          },
          "execution_count": 95,
          "metadata": {},
          "output_type": "execute_result"
        }
      ],
      "source": [
        "list1.count(1)"
      ]
    },
    {
      "cell_type": "code",
      "execution_count": null,
      "metadata": {
        "colab": {
          "base_uri": "https://localhost:8080/"
        },
        "id": "wTyhHUg4OBjf",
        "outputId": "5f9d8bae-1a68-404a-86b3-dd0775fd1fc9"
      },
      "outputs": [
        {
          "name": "stdout",
          "output_type": "stream",
          "text": [
            "Help on built-in function extend:\n",
            "\n",
            "extend(iterable, /) method of builtins.list instance\n",
            "    Extend list by appending elements from the iterable.\n",
            "\n"
          ]
        }
      ],
      "source": [
        "help(list1.extend)"
      ]
    },
    {
      "cell_type": "code",
      "execution_count": null,
      "metadata": {
        "id": "whmD3VTxOE6S"
      },
      "outputs": [],
      "source": [
        "list1.extend([1,2,3])"
      ]
    },
    {
      "cell_type": "code",
      "execution_count": null,
      "metadata": {
        "colab": {
          "base_uri": "https://localhost:8080/"
        },
        "id": "GqxUjn7gOOs5",
        "outputId": "424063fe-7f14-40b4-c9e4-18da456bf90c"
      },
      "outputs": [
        {
          "data": {
            "text/plain": [
              "[1, 2, 3, 4, 5, 6, 7, 8, 9, 10, 1, 1, 2, 3]"
            ]
          },
          "execution_count": 100,
          "metadata": {},
          "output_type": "execute_result"
        }
      ],
      "source": [
        "list1"
      ]
    },
    {
      "cell_type": "code",
      "execution_count": null,
      "metadata": {
        "id": "1-6AM0h1OTOH"
      },
      "outputs": [],
      "source": [
        "list1.insert(0,'hi')"
      ]
    },
    {
      "cell_type": "code",
      "execution_count": null,
      "metadata": {
        "id": "bTR9yo6AOplI"
      },
      "outputs": [],
      "source": [
        "list1.reverse()"
      ]
    },
    {
      "cell_type": "code",
      "execution_count": null,
      "metadata": {
        "colab": {
          "base_uri": "https://localhost:8080/"
        },
        "id": "ORR56bAGOt-I",
        "outputId": "e8c86309-fcdd-4f80-9043-95be907d5728"
      },
      "outputs": [
        {
          "data": {
            "text/plain": [
              "[3, 2, 1, 1, 10, 9, 8, 7, 6, 5, 4, 3, 2, 1, 'hi']"
            ]
          },
          "execution_count": 105,
          "metadata": {},
          "output_type": "execute_result"
        }
      ],
      "source": [
        "list1"
      ]
    },
    {
      "cell_type": "code",
      "execution_count": null,
      "metadata": {
        "colab": {
          "base_uri": "https://localhost:8080/",
          "height": 35
        },
        "id": "wulAcwLKPjg9",
        "outputId": "a16b06ef-5f4a-4569-9179-589491cc515b"
      },
      "outputs": [
        {
          "data": {
            "application/vnd.google.colaboratory.intrinsic+json": {
              "type": "string"
            },
            "text/plain": [
              "'hi'"
            ]
          },
          "execution_count": 107,
          "metadata": {},
          "output_type": "execute_result"
        }
      ],
      "source": [
        "list1.pop()"
      ]
    },
    {
      "cell_type": "code",
      "execution_count": null,
      "metadata": {
        "id": "-mJZH6XPPnJg"
      },
      "outputs": [],
      "source": [
        "list1.sort()"
      ]
    },
    {
      "cell_type": "code",
      "execution_count": null,
      "metadata": {
        "colab": {
          "base_uri": "https://localhost:8080/"
        },
        "id": "daQPzjjRPtxL",
        "outputId": "a015ee0e-d04e-428a-c92e-6485aff30706"
      },
      "outputs": [
        {
          "data": {
            "text/plain": [
              "[1, 1, 1, 2, 2, 3, 3, 4, 5, 6, 7, 8, 9, 10]"
            ]
          },
          "execution_count": 109,
          "metadata": {},
          "output_type": "execute_result"
        }
      ],
      "source": [
        "list1"
      ]
    },
    {
      "cell_type": "code",
      "execution_count": null,
      "metadata": {
        "id": "r1sGOg_qPxTx"
      },
      "outputs": [],
      "source": [
        "list1.remove(3)"
      ]
    },
    {
      "cell_type": "code",
      "execution_count": null,
      "metadata": {
        "colab": {
          "base_uri": "https://localhost:8080/"
        },
        "id": "kTI2F3cqP1vr",
        "outputId": "d547fbde-f3f3-442e-c5d0-5d117516b411"
      },
      "outputs": [
        {
          "data": {
            "text/plain": [
              "[1, 1, 1, 2, 2, 4, 5, 6, 7, 8, 9, 10]"
            ]
          },
          "execution_count": 114,
          "metadata": {},
          "output_type": "execute_result"
        }
      ],
      "source": [
        "list1"
      ]
    },
    {
      "cell_type": "code",
      "execution_count": null,
      "metadata": {
        "colab": {
          "base_uri": "https://localhost:8080/"
        },
        "id": "LOFcrD8wP20E",
        "outputId": "2e3fcfdf-1110-4e05-f36b-86549ce16610"
      },
      "outputs": [
        {
          "data": {
            "text/plain": [
              "[10, 9, 8, 7, 6, 5, 4, 2, 2, 1, 1, 1]"
            ]
          },
          "execution_count": 116,
          "metadata": {},
          "output_type": "execute_result"
        }
      ],
      "source": [
        "sorted(list1,reverse =True)"
      ]
    },
    {
      "cell_type": "markdown",
      "metadata": {
        "id": "mwtWlzsHx7_7"
      },
      "source": [
        "**LEGB Rule**\n",
        "\n",
        "Local(L): Defined inside function/class\n",
        "\n",
        "Enclosed(E): Defined inside enclosing functions(Nested function concept)\n",
        "\n",
        "Global(G): Defined at the uppermost level\n",
        "\n",
        "Built-in(B): Reserved names in Python builtin modules"
      ]
    },
    {
      "cell_type": "code",
      "execution_count": null,
      "metadata": {
        "id": "z3NAW9yvQE2g"
      },
      "outputs": [],
      "source": [
        "#global\n",
        "name =\"this is global\"\n",
        "\n",
        "def greet():\n",
        "  #enclosing\n",
        "  name =\"suman\"\n",
        "\n",
        "  def hello():\n",
        "\n",
        "    #local\n",
        "    name =\"i'm local\"\n",
        "    print(f\"hello {name}\")\n",
        "  hello()\n"
      ]
    },
    {
      "cell_type": "code",
      "execution_count": null,
      "metadata": {
        "colab": {
          "base_uri": "https://localhost:8080/"
        },
        "id": "6IMPbPA-zt5b",
        "outputId": "7e0be02b-6efc-4eeb-e213-6d52678ef842"
      },
      "outputs": [
        {
          "name": "stdout",
          "output_type": "stream",
          "text": [
            "hello i'm local\n"
          ]
        }
      ],
      "source": [
        "greet()"
      ]
    },
    {
      "cell_type": "code",
      "execution_count": null,
      "metadata": {
        "colab": {
          "base_uri": "https://localhost:8080/"
        },
        "id": "d8KzuzJCzvai",
        "outputId": "3d388445-c070-4bf7-a82a-884003ca2394"
      },
      "outputs": [
        {
          "data": {
            "text/plain": [
              "<function len(obj, /)>"
            ]
          },
          "execution_count": 9,
          "metadata": {},
          "output_type": "execute_result"
        }
      ],
      "source": [
        "len"
      ]
    },
    {
      "cell_type": "code",
      "execution_count": null,
      "metadata": {
        "id": "jY6YBO1kz8Xl"
      },
      "outputs": [],
      "source": [
        "x =50\n",
        "\n",
        "def func():\n",
        "  global x\n",
        "  print(f\"X is {x}\")\n",
        "\n",
        "  #local reassignment of x\n",
        "  x ='new value'\n",
        "  print(f\"i just changed locally {x}\")\n"
      ]
    },
    {
      "cell_type": "code",
      "execution_count": null,
      "metadata": {
        "colab": {
          "base_uri": "https://localhost:8080/"
        },
        "id": "ydCHGnIl1nHd",
        "outputId": "987002c9-121b-40e2-a719-a776ffb1c18f"
      },
      "outputs": [
        {
          "name": "stdout",
          "output_type": "stream",
          "text": [
            "X is 50\n",
            "i just changed locally new value\n",
            "None\n"
          ]
        }
      ],
      "source": [
        "x=func()\n",
        "print(x)"
      ]
    },
    {
      "cell_type": "code",
      "execution_count": null,
      "metadata": {
        "colab": {
          "base_uri": "https://localhost:8080/"
        },
        "id": "PnjmATv91p2s",
        "outputId": "e801ee65-1299-41de-fba8-1dcb08d72f71"
      },
      "outputs": [
        {
          "name": "stdout",
          "output_type": "stream",
          "text": [
            "None\n"
          ]
        }
      ],
      "source": [
        "print(x)"
      ]
    },
    {
      "cell_type": "markdown",
      "metadata": {
        "id": "AthoHTOxHWLM"
      },
      "source": [
        "**OOPS**"
      ]
    },
    {
      "cell_type": "markdown",
      "metadata": {
        "id": "S2CIXTok23GC"
      },
      "source": [
        "* A Class is an object constructor or a \"blueprint\" for creating objects.\n",
        "\n",
        "\n",
        "* Objects are nothing but an encapsulation of variables and functions into a single entity\n",
        "* Objects get their variables and functions from classes.\n",
        "To create a class we use the keyword class.\n",
        "* The first string inside the class is called docstring which gives the brief description about the\n",
        "class.\n",
        "* All classes have a function called `__init__()`which is always executed when the class is\n",
        "being initiated\n",
        "* We can use `__init__()` function to assign values to object properties or other operations\n",
        "that are necessary to perform when the object is being created.\n",
        "* The self parameter is a reference to the current instance of the class and is used to access class variables.\n",
        "* self must be the first parameter of any function in the class\n",
        "* The super() builtin function returns a temporary object of the superclass that allows us to access methods of the base class."
      ]
    },
    {
      "cell_type": "code",
      "execution_count": null,
      "metadata": {
        "id": "cU0UBF592Kbm"
      },
      "outputs": [],
      "source": [
        "class Animal:\n",
        "  def __init__(self,breed): # it is a constructor\n",
        "    self.breed = breed\n",
        "    print(\"in init method\")\n",
        "  def mamal(self):\n",
        "    print(\"this is a \",self.breed)"
      ]
    },
    {
      "cell_type": "code",
      "execution_count": null,
      "metadata": {
        "colab": {
          "base_uri": "https://localhost:8080/"
        },
        "id": "HY4hZlK-HtzK",
        "outputId": "3d4d56c5-d50c-41a5-d466-73c26d37f565"
      },
      "outputs": [
        {
          "name": "stdout",
          "output_type": "stream",
          "text": [
            "in init method\n",
            "this is a  dog\n"
          ]
        }
      ],
      "source": [
        "a1 = Animal(\"dog\")\n",
        "a1.mamal()"
      ]
    },
    {
      "cell_type": "code",
      "execution_count": null,
      "metadata": {
        "id": "eq4IzNp6HzOR"
      },
      "outputs": [],
      "source": []
    },
    {
      "cell_type": "code",
      "execution_count": null,
      "metadata": {
        "id": "slP1yRG5H1P6"
      },
      "outputs": [],
      "source": []
    },
    {
      "cell_type": "code",
      "execution_count": null,
      "metadata": {
        "colab": {
          "base_uri": "https://localhost:8080/"
        },
        "id": "cGokouWVIsX3",
        "outputId": "f0640519-fc89-44d6-c464-9a2ca9bbe5ea"
      },
      "outputs": [
        {
          "name": "stdout",
          "output_type": "stream",
          "text": [
            "Name :-  Asif\n",
            "Employee ID :-  34163\n",
            "Thanks for joining ABC Company Asif!!\n"
          ]
        }
      ],
      "source": [
        "# Create an employee class\n",
        "class Employee:\n",
        " def __init__(self, name, empid): # __init__() function is used to assign values\n",
        "    self.name = name\n",
        "    self.empid = empid\n",
        " def greet(self): # Class Method\n",
        "    print(\"Thanks for joining ABC Company {}!!\".format(self.name))\n",
        "emp1 = Employee(\"Asif\", 34163) # Create an employee object\n",
        "print('Name :- ',emp1.name)\n",
        "print('Employee ID :- ',emp1.empid)\n",
        "emp1.greet()\n"
      ]
    },
    {
      "cell_type": "code",
      "execution_count": null,
      "metadata": {
        "id": "UU9es9DvOz6C"
      },
      "outputs": [],
      "source": [
        "class Computer:\n",
        "  def __init__(self,cpu,ram):\n",
        "    self.cpu = cpu\n",
        "    self.ram = ram\n",
        "    print(\"in init\")\n",
        "\n",
        "  def config(self):\n",
        "\n",
        "    print(\"config is\",self.cpu,self.ram)"
      ]
    },
    {
      "cell_type": "code",
      "execution_count": null,
      "metadata": {
        "colab": {
          "base_uri": "https://localhost:8080/"
        },
        "id": "ABMWkNzNyJrK",
        "outputId": "6b6f5a60-f328-4dd6-910c-a9c9c06cd8eb"
      },
      "outputs": [
        {
          "name": "stdout",
          "output_type": "stream",
          "text": [
            "in init\n",
            "config is i5 16\n"
          ]
        }
      ],
      "source": [
        "com1 = Computer(\"i5\",16)\n",
        "com1.config()"
      ]
    },
    {
      "cell_type": "code",
      "execution_count": null,
      "metadata": {
        "colab": {
          "base_uri": "https://localhost:8080/"
        },
        "id": "3Dw0WRG_yPo3",
        "outputId": "64542c1d-73d3-458a-9ccb-a74883a20cb5"
      },
      "outputs": [
        {
          "name": "stdout",
          "output_type": "stream",
          "text": [
            "in init\n",
            "config is ryzen 16\n"
          ]
        }
      ],
      "source": [
        "com2 = Computer(\"ryzen\",16)\n",
        "com2.config()"
      ]
    },
    {
      "cell_type": "code",
      "execution_count": null,
      "metadata": {
        "id": "WyecMlIvzYPZ"
      },
      "outputs": [],
      "source": [
        "class Computer:\n",
        "  def __init__(self):\n",
        "    self.name = \"chandu\"\n",
        "    self.age=21"
      ]
    },
    {
      "cell_type": "code",
      "execution_count": null,
      "metadata": {
        "id": "G9wmxw4N4g-I"
      },
      "outputs": [],
      "source": [
        "c1 = Computer()\n",
        "c2 = Computer()"
      ]
    },
    {
      "cell_type": "code",
      "execution_count": null,
      "metadata": {
        "colab": {
          "base_uri": "https://localhost:8080/"
        },
        "id": "BLZHg7c94ldW",
        "outputId": "d6e1bf46-782b-4a13-a854-704af51a643f"
      },
      "outputs": [
        {
          "name": "stdout",
          "output_type": "stream",
          "text": [
            "132697405159504 132697405148608\n"
          ]
        }
      ],
      "source": [
        "print(id(c1),id(c2))"
      ]
    },
    {
      "cell_type": "code",
      "execution_count": null,
      "metadata": {
        "id": "PcW_Jdih5f9v"
      },
      "outputs": [],
      "source": [
        "c1.name=\"ravi\""
      ]
    },
    {
      "cell_type": "code",
      "execution_count": null,
      "metadata": {
        "colab": {
          "base_uri": "https://localhost:8080/"
        },
        "id": "xooIMhLs4p52",
        "outputId": "de0c4048-c441-4dfe-dd45-0ee21cfbd609"
      },
      "outputs": [
        {
          "name": "stdout",
          "output_type": "stream",
          "text": [
            "ravi\n",
            "chandu\n"
          ]
        }
      ],
      "source": [
        "print(c1.name)\n",
        "print(c2.name)"
      ]
    },
    {
      "cell_type": "code",
      "execution_count": null,
      "metadata": {
        "id": "rpg35qAz5ZH5"
      },
      "outputs": [],
      "source": [
        "class Computer:\n",
        "  def __init__(self):\n",
        "    self.name = \"chandu\"\n",
        "    self.age=21\n",
        "\n",
        "  def update(self):\n",
        "    self.age = 30\n",
        "\n",
        "  def compare(self,other):\n",
        "    if self.age==other.age:\n",
        "      return True\n",
        "    else:return False\n",
        "\n",
        "c1 = Computer()\n",
        "c2 = Computer()\n",
        "\n",
        "\n",
        "c1.update()"
      ]
    },
    {
      "cell_type": "code",
      "execution_count": null,
      "metadata": {
        "colab": {
          "base_uri": "https://localhost:8080/"
        },
        "id": "BfIEJMJU6Liu",
        "outputId": "971790d9-1315-4f42-b0ad-d46e61714a10"
      },
      "outputs": [
        {
          "name": "stdout",
          "output_type": "stream",
          "text": [
            "chandu\n",
            "30\n"
          ]
        }
      ],
      "source": [
        "print(c1.name)\n",
        "print(c1.age)"
      ]
    },
    {
      "cell_type": "code",
      "execution_count": null,
      "metadata": {
        "colab": {
          "base_uri": "https://localhost:8080/"
        },
        "id": "xeBhY8qP6UCh",
        "outputId": "73564900-b370-4dd4-98bd-fdb5649d1624"
      },
      "outputs": [
        {
          "data": {
            "text/plain": [
              "False"
            ]
          },
          "execution_count": 48,
          "metadata": {},
          "output_type": "execute_result"
        }
      ],
      "source": [
        "c1.compare(c2)"
      ]
    },
    {
      "cell_type": "code",
      "execution_count": null,
      "metadata": {
        "colab": {
          "base_uri": "https://localhost:8080/"
        },
        "id": "r-8PmiA06eGb",
        "outputId": "0663705e-a808-44e4-d96e-8e012e380e25"
      },
      "outputs": [
        {
          "name": "stdout",
          "output_type": "stream",
          "text": [
            "true\n"
          ]
        }
      ],
      "source": [
        "if c1.age != c2.age:print(\"true\")"
      ]
    },
    {
      "cell_type": "code",
      "execution_count": null,
      "metadata": {
        "colab": {
          "base_uri": "https://localhost:8080/"
        },
        "id": "rmor6N0Q7b_w",
        "outputId": "ef4eae9d-5d5d-456a-ee59-79b71cc8f035"
      },
      "outputs": [
        {
          "name": "stdout",
          "output_type": "stream",
          "text": [
            "BMW 8 5\n",
            "BMW 10 5\n"
          ]
        }
      ],
      "source": [
        "# if we define a variable outside a init it will become a class variable\n",
        "# if we define a varibale inside a init it will be a instance variable\n",
        "class Car:\n",
        "  wheels = 4\n",
        "\n",
        "  def __init__(self):\n",
        "    self.mil =10\n",
        "    self.com = \"BMW\"\n",
        "\n",
        "c1 = Car()\n",
        "c2 = Car()\n",
        "\n",
        "c1.mil = 8\n",
        "Car.wheels =5\n",
        "\n",
        "print(c1.com, c1.mil,c1.wheels)\n",
        "print(c2.com, c2.mil,c2.wheels)"
      ]
    },
    {
      "cell_type": "markdown",
      "metadata": {
        "id": "se2WzqZY-0tr"
      },
      "source": [
        "**Types of methods :**\n",
        "* Instance methods\n",
        "* class methods\n",
        "* static methods"
      ]
    },
    {
      "cell_type": "code",
      "execution_count": null,
      "metadata": {
        "colab": {
          "base_uri": "https://localhost:8080/"
        },
        "id": "FIw6T39X96Kp",
        "outputId": "220db8a6-a927-4144-b4c7-caddd8b8e7e5"
      },
      "outputs": [
        {
          "name": "stdout",
          "output_type": "stream",
          "text": [
            "16.666666666666668\n",
            "10.0\n"
          ]
        }
      ],
      "source": [
        "class Student:\n",
        "\n",
        "  school=\"HPS\"\n",
        "  def __init__(self,m1,m2,m3):\n",
        "    self.m1=m1\n",
        "    self.m2=m2\n",
        "    self.m3=m3\n",
        "  def  avg(self):\n",
        "    return (self.m1+self.m2+self.m3)/3\n",
        "\n",
        "  def get_m1(self):\n",
        "    return self.m1\n",
        "\n",
        "  def set_m1(self,vlaue):\n",
        "    self.m1 = value\n",
        "\n",
        "  def info(cls): # working with class use 'cls'\n",
        "    return cls.school\n",
        "\n",
        "s1 = Student(10,20,20)\n",
        "s2 =Student(10,10,10)\n",
        "\n",
        "print(s1.avg())\n",
        "print(s2.avg())\n"
      ]
    },
    {
      "cell_type": "code",
      "execution_count": null,
      "metadata": {
        "id": "d6clW2NiAP3y"
      },
      "outputs": [],
      "source": [
        "class Dog:\n",
        "\n",
        "  #class object attribute\n",
        "  species = \"mammal\"\n",
        "\n",
        "  def __init__(self,breed,name) -> None:\n",
        "     self.breed = breed\n",
        "     self.name = name"
      ]
    },
    {
      "cell_type": "code",
      "execution_count": null,
      "metadata": {
        "id": "yfHPMlWMN7Im"
      },
      "outputs": [],
      "source": [
        "sam = Dog('bob','chimtu')\n"
      ]
    },
    {
      "cell_type": "code",
      "execution_count": null,
      "metadata": {
        "colab": {
          "base_uri": "https://localhost:8080/",
          "height": 35
        },
        "id": "kc9outQkOG-n",
        "outputId": "6699f83e-0d90-4723-9f4a-60d6e9423975"
      },
      "outputs": [
        {
          "data": {
            "application/vnd.google.colaboratory.intrinsic+json": {
              "type": "string"
            },
            "text/plain": [
              "'chimtu'"
            ]
          },
          "execution_count": 58,
          "metadata": {},
          "output_type": "execute_result"
        }
      ],
      "source": [
        "sam.name\n"
      ]
    },
    {
      "cell_type": "code",
      "execution_count": null,
      "metadata": {
        "colab": {
          "base_uri": "https://localhost:8080/",
          "height": 35
        },
        "id": "bTfo6_1nOI8b",
        "outputId": "3533364c-57de-46a1-f967-401f0c56be50"
      },
      "outputs": [
        {
          "data": {
            "application/vnd.google.colaboratory.intrinsic+json": {
              "type": "string"
            },
            "text/plain": [
              "'bob'"
            ]
          },
          "execution_count": 59,
          "metadata": {},
          "output_type": "execute_result"
        }
      ],
      "source": [
        "sam.breed"
      ]
    },
    {
      "cell_type": "code",
      "execution_count": null,
      "metadata": {
        "colab": {
          "base_uri": "https://localhost:8080/",
          "height": 35
        },
        "id": "oHkIH2FcOLiP",
        "outputId": "26757244-f8ce-46e6-f174-308c882d4e43"
      },
      "outputs": [
        {
          "data": {
            "application/vnd.google.colaboratory.intrinsic+json": {
              "type": "string"
            },
            "text/plain": [
              "'mammal'"
            ]
          },
          "execution_count": 60,
          "metadata": {},
          "output_type": "execute_result"
        }
      ],
      "source": [
        "sam.species"
      ]
    },
    {
      "cell_type": "code",
      "execution_count": null,
      "metadata": {
        "id": "kqhH4vHGONEc"
      },
      "outputs": [],
      "source": [
        "class Circle:\n",
        "\n",
        "  pi  = 3.14\n",
        "\n",
        "  def __init__(self,radius = 1):\n",
        "    self.radius = radius\n",
        "    self.area = radius * radius * Circle.pi\n",
        "\n",
        "  def setRadius(self,new_radius):\n",
        "    self.radius=new_radius\n",
        "    self.area = new_radius * new_radius * self.pi\n",
        "\n",
        "  def getCircumference(self):\n",
        "    return self.radius*self.pi*2\n",
        "\n"
      ]
    },
    {
      "cell_type": "code",
      "execution_count": null,
      "metadata": {
        "colab": {
          "base_uri": "https://localhost:8080/"
        },
        "id": "dChfMiluVljq",
        "outputId": "af3512f8-ae0d-4160-acb1-28d3aa65a5c8"
      },
      "outputs": [
        {
          "name": "stdout",
          "output_type": "stream",
          "text": [
            "Radius is:  1\n",
            "Area is:  3.14\n",
            "Circumference is:  6.28\n"
          ]
        }
      ],
      "source": [
        "c =Circle()\n",
        "print('Radius is: ',c.radius)\n",
        "print('Area is: ',c.area)\n",
        "print('Circumference is: ',c.getCircumference())"
      ]
    },
    {
      "cell_type": "markdown",
      "metadata": {
        "id": "U_wO7ULLV-jE"
      },
      "source": [
        "**Inheritance**\n",
        "\n",
        "\n",
        "1.   code reuse\n",
        "2.   reduction of complexity of a program\n",
        "\n",
        "\n"
      ]
    },
    {
      "cell_type": "code",
      "execution_count": null,
      "metadata": {
        "id": "NVHcLdXGVqDx"
      },
      "outputs": [],
      "source": [
        "class Animal:\n",
        "  def __init__(self):\n",
        "    print(\"Animal created\")\n",
        "  def whoAmI(self):\n",
        "        print(\"Animal\")\n",
        "\n",
        "  def eat(self):\n",
        "        print(\"Eating\")\n",
        "\n",
        "class Dog(Animal):\n",
        "\n",
        "  def __init__(self):\n",
        "     Animal.__init__(self)\n",
        "     print(\"Dog created\")\n",
        "  def whoAmI(self):\n",
        "        print(\"Dog\")\n",
        "\n",
        "  def bark(self):\n",
        "        print(\"Woof!\")"
      ]
    },
    {
      "cell_type": "code",
      "execution_count": null,
      "metadata": {
        "colab": {
          "base_uri": "https://localhost:8080/"
        },
        "id": "1hUNYbXGXA8V",
        "outputId": "e1509d2b-e773-4956-c87f-be7e4d80aefa"
      },
      "outputs": [
        {
          "name": "stdout",
          "output_type": "stream",
          "text": [
            "Animal created\n",
            "Dog created\n"
          ]
        }
      ],
      "source": [
        "d = Dog()\n"
      ]
    },
    {
      "cell_type": "code",
      "execution_count": null,
      "metadata": {
        "colab": {
          "base_uri": "https://localhost:8080/"
        },
        "id": "FQdQICHPXEeO",
        "outputId": "211f38b7-ba35-4200-ffe9-87464ec0ece3"
      },
      "outputs": [
        {
          "name": "stdout",
          "output_type": "stream",
          "text": [
            "Eating\n"
          ]
        }
      ],
      "source": [
        "d.eat()"
      ]
    },
    {
      "cell_type": "code",
      "execution_count": null,
      "metadata": {
        "colab": {
          "base_uri": "https://localhost:8080/"
        },
        "id": "Z0FvA3kpXNWB",
        "outputId": "c67c6048-081c-43fd-f180-73214ab4a1bc"
      },
      "outputs": [
        {
          "name": "stdout",
          "output_type": "stream",
          "text": [
            "Dog\n"
          ]
        }
      ],
      "source": [
        "d.whoAmI()"
      ]
    },
    {
      "cell_type": "code",
      "execution_count": null,
      "metadata": {
        "id": "FLYvaGhsYAQ1"
      },
      "outputs": [],
      "source": [
        "class Dog():\n",
        "\n",
        "  def __init__(self,name):\n",
        "    self.name=name\n",
        "\n",
        "  def speak(self):\n",
        "    return self.name + \" says woof!\""
      ]
    },
    {
      "cell_type": "code",
      "execution_count": null,
      "metadata": {
        "id": "WazIXLvv9ZXD"
      },
      "outputs": [],
      "source": [
        "class Cat():\n",
        "\n",
        "  def __init__(self,name):\n",
        "    self.name=name\n",
        "\n",
        "  def speak(self):\n",
        "    return self.name+'says meow!'"
      ]
    },
    {
      "cell_type": "code",
      "execution_count": null,
      "metadata": {
        "id": "mGWaL2lf9pCo"
      },
      "outputs": [],
      "source": [
        "chimtu = Dog(\"chimtu\")\n",
        "kittu = Cat(\"kittu\")\n"
      ]
    },
    {
      "cell_type": "code",
      "execution_count": null,
      "metadata": {
        "colab": {
          "base_uri": "https://localhost:8080/"
        },
        "id": "ZinefuU8910Q",
        "outputId": "f2e6002b-994f-4123-a1a2-9242d07eee1e"
      },
      "outputs": [
        {
          "name": "stdout",
          "output_type": "stream",
          "text": [
            "chimtu says woof!\n"
          ]
        }
      ],
      "source": [
        "print(chimtu.speak())"
      ]
    },
    {
      "cell_type": "code",
      "execution_count": null,
      "metadata": {
        "colab": {
          "base_uri": "https://localhost:8080/"
        },
        "id": "cur2xTSa96DI",
        "outputId": "04fe6c43-d826-4d26-e7e0-64378354f8b4"
      },
      "outputs": [
        {
          "name": "stdout",
          "output_type": "stream",
          "text": [
            "kittusays meow!\n"
          ]
        }
      ],
      "source": [
        "print(kittu.speak())"
      ]
    },
    {
      "cell_type": "code",
      "execution_count": null,
      "metadata": {
        "id": "Q0mROt-j-DAr"
      },
      "outputs": [],
      "source": [
        "def pet_speak(pet):\n",
        "  return pet.speak()"
      ]
    },
    {
      "cell_type": "code",
      "execution_count": null,
      "metadata": {
        "colab": {
          "base_uri": "https://localhost:8080/",
          "height": 35
        },
        "id": "Lgu1JiYM-VXk",
        "outputId": "9354806c-fc3c-47d3-c914-8d0e5468464f"
      },
      "outputs": [
        {
          "data": {
            "application/vnd.google.colaboratory.intrinsic+json": {
              "type": "string"
            },
            "text/plain": [
              "'chimtu says woof!'"
            ]
          },
          "execution_count": 12,
          "metadata": {},
          "output_type": "execute_result"
        }
      ],
      "source": [
        "pet_speak(chimtu)"
      ]
    },
    {
      "cell_type": "code",
      "execution_count": null,
      "metadata": {
        "colab": {
          "base_uri": "https://localhost:8080/",
          "height": 35
        },
        "id": "mqLnfKNL-XDm",
        "outputId": "b0df6cb1-f4ac-4e8a-a9b9-a3dd22f851bd"
      },
      "outputs": [
        {
          "data": {
            "application/vnd.google.colaboratory.intrinsic+json": {
              "type": "string"
            },
            "text/plain": [
              "'kittusays meow!'"
            ]
          },
          "execution_count": 13,
          "metadata": {},
          "output_type": "execute_result"
        }
      ],
      "source": [
        "pet_speak(kittu)"
      ]
    },
    {
      "cell_type": "code",
      "execution_count": null,
      "metadata": {
        "id": "vO4IJknp-dQS"
      },
      "outputs": [],
      "source": [
        "class Animal():\n",
        "\n",
        "  def __init__(self,name):\n",
        "    self.name=name\n",
        "\n",
        "  def speak(self):\n",
        "    raise NotImplementedError(\"subclass must implement this absract method\")"
      ]
    },
    {
      "cell_type": "code",
      "execution_count": null,
      "metadata": {
        "id": "4mTlRbxZ_fhm"
      },
      "outputs": [],
      "source": [
        "my_animal=Animal('deer')\n"
      ]
    },
    {
      "cell_type": "code",
      "execution_count": null,
      "metadata": {
        "colab": {
          "base_uri": "https://localhost:8080/",
          "height": 279
        },
        "id": "V2UxddLZ_nMu",
        "outputId": "3509a65f-c227-4abd-82d1-b948da87e0bb"
      },
      "outputs": [
        {
          "ename": "NotImplementedError",
          "evalue": "subclass must implement this absract method",
          "output_type": "error",
          "traceback": [
            "\u001b[0;31m---------------------------------------------------------------------------\u001b[0m",
            "\u001b[0;31mNotImplementedError\u001b[0m                       Traceback (most recent call last)",
            "\u001b[0;32m<ipython-input-16-ed4198de9ea6>\u001b[0m in \u001b[0;36m<cell line: 1>\u001b[0;34m()\u001b[0m\n\u001b[0;32m----> 1\u001b[0;31m \u001b[0mmy_animal\u001b[0m\u001b[0;34m.\u001b[0m\u001b[0mspeak\u001b[0m\u001b[0;34m(\u001b[0m\u001b[0;34m)\u001b[0m\u001b[0;34m\u001b[0m\u001b[0;34m\u001b[0m\u001b[0m\n\u001b[0m",
            "\u001b[0;32m<ipython-input-14-77d5457b33de>\u001b[0m in \u001b[0;36mspeak\u001b[0;34m(self)\u001b[0m\n\u001b[1;32m      5\u001b[0m \u001b[0;34m\u001b[0m\u001b[0m\n\u001b[1;32m      6\u001b[0m   \u001b[0;32mdef\u001b[0m \u001b[0mspeak\u001b[0m\u001b[0;34m(\u001b[0m\u001b[0mself\u001b[0m\u001b[0;34m)\u001b[0m\u001b[0;34m:\u001b[0m\u001b[0;34m\u001b[0m\u001b[0;34m\u001b[0m\u001b[0m\n\u001b[0;32m----> 7\u001b[0;31m     \u001b[0;32mraise\u001b[0m \u001b[0mNotImplementedError\u001b[0m\u001b[0;34m(\u001b[0m\u001b[0;34m\"subclass must implement this absract method\"\u001b[0m\u001b[0;34m)\u001b[0m\u001b[0;34m\u001b[0m\u001b[0;34m\u001b[0m\u001b[0m\n\u001b[0m",
            "\u001b[0;31mNotImplementedError\u001b[0m: subclass must implement this absract method"
          ]
        }
      ],
      "source": [
        "my_animal.speak()"
      ]
    },
    {
      "cell_type": "code",
      "execution_count": null,
      "metadata": {
        "id": "uMAqstLA_qGB"
      },
      "outputs": [],
      "source": []
    },
    {
      "cell_type": "code",
      "execution_count": null,
      "metadata": {
        "id": "8Iv2PlFA_6xq"
      },
      "outputs": [],
      "source": [
        "class Dog(Animal):\n",
        "\n",
        "  def speak(self):\n",
        "    return self.name + \" says woof!\"\n",
        "\n",
        "class Cat(Animal):\n",
        "    def speak(self):\n",
        "      return self.name+'says meow!'"
      ]
    },
    {
      "cell_type": "code",
      "execution_count": null,
      "metadata": {
        "id": "GKcpasFTAlya"
      },
      "outputs": [],
      "source": [
        "d1 = Dog('juli')\n",
        "c1 =Cat('kitti')"
      ]
    },
    {
      "cell_type": "code",
      "execution_count": null,
      "metadata": {
        "colab": {
          "base_uri": "https://localhost:8080/",
          "height": 35
        },
        "id": "t8yR2OPU_9G6",
        "outputId": "4f056467-d23c-4904-8374-0b7fca222d44"
      },
      "outputs": [
        {
          "data": {
            "application/vnd.google.colaboratory.intrinsic+json": {
              "type": "string"
            },
            "text/plain": [
              "'juli says woof!'"
            ]
          },
          "execution_count": 21,
          "metadata": {},
          "output_type": "execute_result"
        }
      ],
      "source": [
        "d1.speak()"
      ]
    },
    {
      "cell_type": "markdown",
      "metadata": {
        "id": "653c7ZhIBQPB"
      },
      "source": [
        "**Special methds**\n"
      ]
    },
    {
      "cell_type": "code",
      "execution_count": null,
      "metadata": {
        "id": "k1MNjgVhAAR0"
      },
      "outputs": [],
      "source": [
        "class Book():\n",
        "\n",
        "  def __init__(self,title,author,pages):\n",
        "\n",
        "    self.title = title\n",
        "    self.author = author\n",
        "    self.pages = pages\n",
        "\n",
        "  def __str__ (self):\n",
        "    return f\"{self.title} by {self.author}\"\n",
        "\n",
        "  def __len__(self):\n",
        "    return self.pages\n",
        "\n",
        "  def __del__(self):\n",
        "   return \"A book object has been deleted\""
      ]
    },
    {
      "cell_type": "code",
      "execution_count": null,
      "metadata": {
        "id": "Nl26gnNUC-PG"
      },
      "outputs": [],
      "source": [
        "b= Book('python','bert',234)\n"
      ]
    },
    {
      "cell_type": "code",
      "execution_count": null,
      "metadata": {
        "colab": {
          "base_uri": "https://localhost:8080/"
        },
        "id": "xPPZNcF2DliR",
        "outputId": "78612b8e-d4d4-47ba-d591-c8be0d804efb"
      },
      "outputs": [
        {
          "data": {
            "text/plain": [
              "<__main__.Book at 0x7ec58db77a30>"
            ]
          },
          "execution_count": 62,
          "metadata": {},
          "output_type": "execute_result"
        }
      ],
      "source": [
        "b\n"
      ]
    },
    {
      "cell_type": "code",
      "execution_count": null,
      "metadata": {
        "colab": {
          "base_uri": "https://localhost:8080/"
        },
        "id": "XdwuliRwDcln",
        "outputId": "86d44083-6501-4e31-cff4-7ce9d7ca7fd9"
      },
      "outputs": [
        {
          "name": "stdout",
          "output_type": "stream",
          "text": [
            "python by bert\n"
          ]
        }
      ],
      "source": [
        "print(b)"
      ]
    },
    {
      "cell_type": "code",
      "execution_count": null,
      "metadata": {
        "colab": {
          "base_uri": "https://localhost:8080/"
        },
        "id": "--E5If46DEBw",
        "outputId": "bddcb130-b315-4ceb-8e21-d319f29baba4"
      },
      "outputs": [
        {
          "name": "stdout",
          "output_type": "stream",
          "text": [
            "python by bert\n"
          ]
        }
      ],
      "source": [
        "print(str(b))"
      ]
    },
    {
      "cell_type": "code",
      "execution_count": null,
      "metadata": {
        "colab": {
          "base_uri": "https://localhost:8080/"
        },
        "id": "cY3PGk5yDEzk",
        "outputId": "f0aaeccf-c98c-4eb8-a7f7-e3687b73dcfb"
      },
      "outputs": [
        {
          "name": "stdout",
          "output_type": "stream",
          "text": [
            "234\n"
          ]
        }
      ],
      "source": [
        "print(len(b))"
      ]
    },
    {
      "cell_type": "code",
      "execution_count": null,
      "metadata": {
        "id": "rAp5is0zDVh8"
      },
      "outputs": [],
      "source": [
        "del b"
      ]
    },
    {
      "cell_type": "markdown",
      "metadata": {
        "id": "O1Wx-ADjUBoH"
      },
      "source": [
        "**`Lambda, filter, map ,reduce`**"
      ]
    },
    {
      "cell_type": "code",
      "execution_count": null,
      "metadata": {
        "colab": {
          "base_uri": "https://localhost:8080/"
        },
        "id": "w3Jfs5cSDgfS",
        "outputId": "56b01231-ff9a-4ee3-dd18-31230ef0b4b1"
      },
      "outputs": [
        {
          "name": "stdout",
          "output_type": "stream",
          "text": [
            "20\n"
          ]
        }
      ],
      "source": [
        "print((lambda a : a+10 )(10))"
      ]
    },
    {
      "cell_type": "code",
      "execution_count": null,
      "metadata": {
        "colab": {
          "base_uri": "https://localhost:8080/"
        },
        "id": "3g97V3jbDhPK",
        "outputId": "0588c829-1a43-4b9b-bc72-f4f968694530"
      },
      "outputs": [
        {
          "data": {
            "text/plain": [
              "20"
            ]
          },
          "execution_count": 76,
          "metadata": {},
          "output_type": "execute_result"
        }
      ],
      "source": [
        "(lambda a : a+10) (10)"
      ]
    },
    {
      "cell_type": "code",
      "execution_count": null,
      "metadata": {
        "colab": {
          "base_uri": "https://localhost:8080/"
        },
        "id": "8eGxn2XIWBJu",
        "outputId": "ecd3eb7b-c8ec-4183-8734-665f86ee7f01"
      },
      "outputs": [
        {
          "name": "stdout",
          "output_type": "stream",
          "text": [
            "20\n",
            "30\n"
          ]
        }
      ],
      "source": [
        "addition = lambda a: a+10\n",
        "print(addition(10))\n",
        "print(addition(20))"
      ]
    },
    {
      "cell_type": "code",
      "execution_count": null,
      "metadata": {
        "colab": {
          "base_uri": "https://localhost:8080/"
        },
        "id": "PMCxAQhYWa0s",
        "outputId": "85007845-d75e-43bd-b84a-9a2a2c6d96b1"
      },
      "outputs": [
        {
          "name": "stdout",
          "output_type": "stream",
          "text": [
            "product of a * b =  200\n"
          ]
        }
      ],
      "source": [
        "product = lambda a,b : a*b\n",
        "print(\"product of a * b = \",product(10,20))"
      ]
    },
    {
      "cell_type": "code",
      "execution_count": null,
      "metadata": {
        "colab": {
          "base_uri": "https://localhost:8080/"
        },
        "id": "n7afnygvWwBt",
        "outputId": "3cd65959-70e9-4de4-ac2a-9edd1ee899d7"
      },
      "outputs": [
        {
          "name": "stdout",
          "output_type": "stream",
          "text": [
            "60\n"
          ]
        }
      ],
      "source": [
        "addition = lambda a,b,c : a+b+c\n",
        "print(addition(10,20,30))"
      ]
    },
    {
      "cell_type": "code",
      "execution_count": null,
      "metadata": {
        "colab": {
          "base_uri": "https://localhost:8080/"
        },
        "id": "sNzhtophW5tq",
        "outputId": "278e39d3-4635-4bad-a759-1720706c4545"
      },
      "outputs": [
        {
          "name": "stdout",
          "output_type": "stream",
          "text": [
            "45\n",
            "150\n"
          ]
        }
      ],
      "source": [
        "addition = lambda *args: sum(args)\n",
        "print(addition(1,2,3,4,5,6,7,8,9))\n",
        "print(addition(10,20,30,40,50))"
      ]
    },
    {
      "cell_type": "code",
      "execution_count": null,
      "metadata": {
        "colab": {
          "base_uri": "https://localhost:8080/"
        },
        "id": "eeMQoR1gXH-U",
        "outputId": "ff26e388-79af-4436-868b-6721907b39e5"
      },
      "outputs": [
        {
          "data": {
            "text/plain": [
              "45"
            ]
          },
          "execution_count": 87,
          "metadata": {},
          "output_type": "execute_result"
        }
      ],
      "source": [
        "sum(range(1,10))"
      ]
    },
    {
      "cell_type": "code",
      "execution_count": null,
      "metadata": {
        "colab": {
          "base_uri": "https://localhost:8080/"
        },
        "id": "G-GcxMj7XSmp",
        "outputId": "b51bdf86-0929-4e13-a1ca-6c51c4a983d7"
      },
      "outputs": [
        {
          "name": "stdout",
          "output_type": "stream",
          "text": [
            "60\n"
          ]
        }
      ],
      "source": [
        "res = lambda **kwargs:sum(kwargs.values())\n",
        "print(res(a=10,b=20,c=30))"
      ]
    },
    {
      "cell_type": "code",
      "execution_count": null,
      "metadata": {
        "id": "1i0Y8SxoXrgP"
      },
      "outputs": [],
      "source": [
        "# User defined function to find product of numbers\n",
        "def product(nums):\n",
        "\n",
        "  res =1\n",
        "  for i in nums:\n",
        "    res *=i\n",
        "\n",
        "  return res"
      ]
    },
    {
      "cell_type": "code",
      "execution_count": null,
      "metadata": {
        "colab": {
          "base_uri": "https://localhost:8080/"
        },
        "id": "2VIRGvmUYJJd",
        "outputId": "d3a2bd0c-53d1-401e-a829-8d5e10c0e969"
      },
      "outputs": [
        {
          "data": {
            "text/plain": [
              "6"
            ]
          },
          "execution_count": 91,
          "metadata": {},
          "output_type": "execute_result"
        }
      ],
      "source": [
        "product([1,2,3])"
      ]
    },
    {
      "cell_type": "code",
      "execution_count": null,
      "metadata": {
        "colab": {
          "base_uri": "https://localhost:8080/"
        },
        "id": "xzbe9VgsYMGX",
        "outputId": "e3104e7f-8981-4ac3-898b-7900072c0a84"
      },
      "outputs": [
        {
          "name": "stdout",
          "output_type": "stream",
          "text": [
            "6000\n"
          ]
        }
      ],
      "source": [
        "res1 = lambda **kwargs : product(kwargs.values())\n",
        "\n",
        "print(res1(a=10,b=20,c=30))"
      ]
    },
    {
      "cell_type": "code",
      "execution_count": null,
      "metadata": {
        "colab": {
          "base_uri": "https://localhost:8080/"
        },
        "id": "k8_cVaSoZ04_",
        "outputId": "6446675f-ead2-4d85-f90d-d214d05e83a6"
      },
      "outputs": [
        {
          "data": {
            "text/plain": [
              "6"
            ]
          },
          "execution_count": 96,
          "metadata": {},
          "output_type": "execute_result"
        }
      ],
      "source": [
        "from functools import reduce\n",
        "reduce(lambda a,b:a*b,[1,2,3])"
      ]
    },
    {
      "cell_type": "code",
      "execution_count": null,
      "metadata": {
        "colab": {
          "base_uri": "https://localhost:8080/"
        },
        "id": "pA0bzymIYs7s",
        "outputId": "0db69890-468d-49c5-873e-4bed297d0c3b"
      },
      "outputs": [
        {
          "name": "stdout",
          "output_type": "stream",
          "text": [
            "6\n"
          ]
        }
      ],
      "source": [
        "\n",
        "res1 = lambda **kwargs : reduce(lambda a,b:a*b,kwargs.values())\n",
        "\n",
        "print(res1(a=1,b=2,c=3))"
      ]
    },
    {
      "cell_type": "code",
      "execution_count": null,
      "metadata": {
        "colab": {
          "base_uri": "https://localhost:8080/"
        },
        "id": "O9zkJgSHaUYM",
        "outputId": "b43667e9-ed5f-491f-d5fd-370f9729c0c4"
      },
      "outputs": [
        {
          "data": {
            "text/plain": [
              "[2, 4, 6, 8, 10]"
            ]
          },
          "execution_count": 100,
          "metadata": {},
          "output_type": "execute_result"
        }
      ],
      "source": [
        "\"filter(func,list) \"\n",
        "\n",
        "list(filter(lambda a : a%2==0, [1,2,3,4,5,6,7,8,9,10]))"
      ]
    },
    {
      "cell_type": "code",
      "execution_count": null,
      "metadata": {
        "colab": {
          "base_uri": "https://localhost:8080/"
        },
        "id": "L4Aq00S2bdMM",
        "outputId": "01aa1d6a-615b-4f66-81cc-e42da9a3a76a"
      },
      "outputs": [
        {
          "name": "stdout",
          "output_type": "stream",
          "text": [
            "[2, 4, 6, 8, 10]\n"
          ]
        }
      ],
      "source": [
        "list1 =[1,2,3,4,5,6,7,8,9,10]\n",
        "def get_even(n):\n",
        "  if n%2==0:return True\n",
        "  else: return False\n",
        "\n",
        "even_nums_list = list(filter(get_even,list1))\n",
        "print(even_nums_list)"
      ]
    },
    {
      "cell_type": "code",
      "execution_count": null,
      "metadata": {
        "colab": {
          "base_uri": "https://localhost:8080/"
        },
        "id": "kNZzK7pNcgFi",
        "outputId": "508e9717-2406-48fb-f85c-592c4eb0e5a5"
      },
      "outputs": [
        {
          "data": {
            "text/plain": [
              "[2, 4, 6]"
            ]
          },
          "execution_count": 104,
          "metadata": {},
          "output_type": "execute_result"
        }
      ],
      "source": [
        "list1=[1,2,3] # make every element in list double\n",
        "\n",
        "def double(n):\n",
        "  return n*2\n",
        "\n",
        "res = list(map(double,list1))\n",
        "res"
      ]
    },
    {
      "cell_type": "code",
      "execution_count": null,
      "metadata": {
        "colab": {
          "base_uri": "https://localhost:8080/"
        },
        "id": "A7dEx9didj1i",
        "outputId": "f19a65c2-87c1-4e5c-8c00-b5fef8e73f89"
      },
      "outputs": [
        {
          "data": {
            "text/plain": [
              "[2, 4, 6]"
            ]
          },
          "execution_count": 106,
          "metadata": {},
          "output_type": "execute_result"
        }
      ],
      "source": [
        "res1 = map(lambda a : a*2,list1)\n",
        "list(res1)"
      ]
    },
    {
      "cell_type": "code",
      "execution_count": null,
      "metadata": {
        "colab": {
          "base_uri": "https://localhost:8080/"
        },
        "id": "2MOF-lnPdyDb",
        "outputId": "e33275ed-f1f8-4fce-fe9f-6f8a2ef44a85"
      },
      "outputs": [
        {
          "data": {
            "text/plain": [
              "10"
            ]
          },
          "execution_count": 108,
          "metadata": {},
          "output_type": "execute_result"
        }
      ],
      "source": [
        "# from functools import reduce\n",
        "list2 =[1,2,3,4]\n",
        "def add(a,b):\n",
        "  return a+b\n",
        "\n",
        "addition = reduce(add,list2)\n",
        "addition"
      ]
    },
    {
      "cell_type": "code",
      "execution_count": null,
      "metadata": {
        "colab": {
          "base_uri": "https://localhost:8080/"
        },
        "id": "tOeAfuM9eJ5M",
        "outputId": "a8f7de11-f644-4532-bf31-d90a168e566b"
      },
      "outputs": [
        {
          "data": {
            "text/plain": [
              "6"
            ]
          },
          "execution_count": 111,
          "metadata": {},
          "output_type": "execute_result"
        }
      ],
      "source": [
        "addition1 = reduce(lambda a,b : a+b, list1)\n",
        "addition1"
      ]
    },
    {
      "cell_type": "code",
      "execution_count": null,
      "metadata": {
        "colab": {
          "base_uri": "https://localhost:8080/"
        },
        "id": "kZj6I4gxeUxy",
        "outputId": "7d3e33d8-0df3-494f-dba2-2f9912aa592e"
      },
      "outputs": [
        {
          "name": "stdout",
          "output_type": "stream",
          "text": [
            "filterimg even numbers :  [2, 4, 6, 8, 10]\n",
            "filterimg odd numbers :  [1, 3, 5, 7, 9]\n"
          ]
        }
      ],
      "source": [
        "list1 = [1,2,3,4,5,6,7,8,9,10]\n",
        "# Filter even numbers from the list\n",
        "print(\"filterimg even numbers : \",list(filter(lambda a: a%2==0,list1)))\n",
        "\n",
        "# Filter odd numbers from the lis\n",
        "print(\"filterimg odd numbers : \",list(filter(lambda a: a%2==1,list1)))"
      ]
    },
    {
      "cell_type": "code",
      "execution_count": null,
      "metadata": {
        "colab": {
          "base_uri": "https://localhost:8080/"
        },
        "id": "dmH4EzDHeWKD",
        "outputId": "efe02a94-70b8-41e1-e9d5-39e4c9e5d63a"
      },
      "outputs": [
        {
          "name": "stdout",
          "output_type": "stream",
          "text": [
            "['TWO', 'FOUR']\n",
            "['one', 'three']\n"
          ]
        }
      ],
      "source": [
        "list2 = ['one' , 'TWO' , 'three' , 'FOUR']\n",
        "#filter upper case strings\n",
        "\n",
        "print(list(filter(lambda a:a.isupper(),list2)))\n",
        "\n",
        "#filter lower case strings\n",
        "print(list(filter(lambda a:a.islower(),list2)))\n"
      ]
    },
    {
      "cell_type": "code",
      "execution_count": null,
      "metadata": {
        "colab": {
          "base_uri": "https://localhost:8080/"
        },
        "id": "0feeZtigzxeY",
        "outputId": "b7c54da6-35f4-418f-c515-62af9bf57e45"
      },
      "outputs": [
        {
          "name": "stdout",
          "output_type": "stream",
          "text": [
            "['88', '99', '102']\n",
            "['one', 'two2', 'three3', '88', '99', '102']\n",
            "['one']\n"
          ]
        }
      ],
      "source": [
        "list3 = ['one' , 'two2' , 'three3' ,'88' , '99' , '102']\n",
        "\n",
        "print(list(filter(lambda a:a.isdigit(),list3)))\n",
        "\n",
        "print(list(filter(lambda a:a.isalnum(),list3)))\n",
        "\n",
        "print(list(filter(lambda a:a.isalpha(),list3)))\n",
        "\n"
      ]
    },
    {
      "cell_type": "code",
      "execution_count": null,
      "metadata": {
        "id": "4Np2I8i50ag7"
      },
      "outputs": [],
      "source": [
        " # Double each number using map & User defined fun"
      ]
    },
    {
      "cell_type": "code",
      "execution_count": null,
      "metadata": {
        "id": "uQQJ6cwEPkR-"
      },
      "outputs": [],
      "source": []
    },
    {
      "cell_type": "markdown",
      "metadata": {
        "id": "uqN0_xm5PnJI"
      },
      "source": [
        "**File Management**"
      ]
    },
    {
      "cell_type": "code",
      "execution_count": null,
      "metadata": {
        "colab": {
          "base_uri": "https://localhost:8080/",
          "height": 175
        },
        "id": "9mqAw_M3PoTb",
        "outputId": "6997016d-7811-41f2-a82d-0848957bed53"
      },
      "outputs": [
        {
          "ename": "FileNotFoundError",
          "evalue": "[Errno 2] No such file or directory: 'test1.txt'",
          "output_type": "error",
          "traceback": [
            "\u001b[0;31m---------------------------------------------------------------------------\u001b[0m",
            "\u001b[0;31mFileNotFoundError\u001b[0m                         Traceback (most recent call last)",
            "\u001b[0;32m<ipython-input-16-d9a32676e374>\u001b[0m in \u001b[0;36m<cell line: 1>\u001b[0;34m()\u001b[0m\n\u001b[0;32m----> 1\u001b[0;31m \u001b[0mfileobj\u001b[0m \u001b[0;34m=\u001b[0m \u001b[0mopen\u001b[0m\u001b[0;34m(\u001b[0m\u001b[0;34m'test1.txt'\u001b[0m\u001b[0;34m)\u001b[0m \u001b[0;31m# # Open file in read/text mode\u001b[0m\u001b[0;34m\u001b[0m\u001b[0;34m\u001b[0m\u001b[0m\n\u001b[0m",
            "\u001b[0;31mFileNotFoundError\u001b[0m: [Errno 2] No such file or directory: 'test1.txt'"
          ]
        }
      ],
      "source": [
        "fileobj = open('test1.txt') # # Open file in read/text mode"
      ]
    },
    {
      "cell_type": "code",
      "execution_count": null,
      "metadata": {
        "colab": {
          "base_uri": "https://localhost:8080/",
          "height": 175
        },
        "id": "jlXe-VTZP4Y0",
        "outputId": "b0f2f8d8-33b4-4ef1-bc69-39b662d356b0"
      },
      "outputs": [
        {
          "ename": "FileNotFoundError",
          "evalue": "[Errno 2] No such file or directory: 'test1.txt'",
          "output_type": "error",
          "traceback": [
            "\u001b[0;31m---------------------------------------------------------------------------\u001b[0m",
            "\u001b[0;31mFileNotFoundError\u001b[0m                         Traceback (most recent call last)",
            "\u001b[0;32m<ipython-input-17-cc36c5e8681e>\u001b[0m in \u001b[0;36m<cell line: 1>\u001b[0;34m()\u001b[0m\n\u001b[0;32m----> 1\u001b[0;31m \u001b[0mfileobj\u001b[0m \u001b[0;34m=\u001b[0m \u001b[0mopen\u001b[0m\u001b[0;34m(\u001b[0m\u001b[0;34m'test1.txt'\u001b[0m\u001b[0;34m,\u001b[0m \u001b[0;34m'r'\u001b[0m\u001b[0;34m)\u001b[0m \u001b[0;31m# Open file in read mode\u001b[0m\u001b[0;34m\u001b[0m\u001b[0;34m\u001b[0m\u001b[0m\n\u001b[0m",
            "\u001b[0;31mFileNotFoundError\u001b[0m: [Errno 2] No such file or directory: 'test1.txt'"
          ]
        }
      ],
      "source": [
        "fileobj =  #open('test1.txt', 'r') Open file in read mode"
      ]
    },
    {
      "cell_type": "code",
      "execution_count": null,
      "metadata": {
        "id": "nhooU9W7P7dx"
      },
      "outputs": [],
      "source": [
        "fileobj = open('test1.txt', 'w') # Open file in write mode"
      ]
    },
    {
      "cell_type": "code",
      "execution_count": null,
      "metadata": {
        "colab": {
          "base_uri": "https://localhost:8080/"
        },
        "id": "oflcL3LbP98b",
        "outputId": "772a4fcb-66cd-48d1-e715-fc396f3218c6"
      },
      "outputs": [
        {
          "data": {
            "text/plain": [
              "22"
            ]
          },
          "execution_count": 19,
          "metadata": {},
          "output_type": "execute_result"
        }
      ],
      "source": [
        "fileobj.write(\"hi  this is a new file\")"
      ]
    },
    {
      "cell_type": "code",
      "execution_count": null,
      "metadata": {
        "colab": {
          "base_uri": "https://localhost:8080/",
          "height": 35
        },
        "id": "pRnfIgr4QOxH",
        "outputId": "45e63cc0-d6d7-4786-bf91-f03a052fae0f"
      },
      "outputs": [
        {
          "data": {
            "application/vnd.google.colaboratory.intrinsic+json": {
              "type": "string"
            },
            "text/plain": [
              "'hi  this is a new file'"
            ]
          },
          "execution_count": 22,
          "metadata": {},
          "output_type": "execute_result"
        }
      ],
      "source": [
        "fileobj =  open('test1.txt', 'r')\n",
        "fileobj.read()"
      ]
    },
    {
      "cell_type": "code",
      "execution_count": null,
      "metadata": {
        "id": "tL9RpnNFQTXA"
      },
      "outputs": [],
      "source": [
        "fileobj.close()"
      ]
    },
    {
      "cell_type": "code",
      "execution_count": null,
      "metadata": {
        "colab": {
          "base_uri": "https://localhost:8080/"
        },
        "id": "mO8xcAAWSa8s",
        "outputId": "44a0559f-23a0-4464-cfe6-46a51d07010c"
      },
      "outputs": [
        {
          "data": {
            "text/plain": [
              "['First Line\\n',\n",
              " 'Second Line\\n',\n",
              " 'Third Line\\n',\n",
              " 'Fourth Line\\n',\n",
              " 'Fifth Line\\n']"
            ]
          },
          "execution_count": 24,
          "metadata": {},
          "output_type": "execute_result"
        }
      ],
      "source": [
        "fileobj = open(\"test2.txt\",'w') # creating a new file\n",
        "\n",
        "fileobj.write(\"First Line\\n\")\n",
        "fileobj.write(\"Second Line\\n\")\n",
        "fileobj.write(\"Third Line\\n\")\n",
        "fileobj.write(\"Fourth Line\\n\")\n",
        "fileobj.write(\"Fifth Line\\n\")\n",
        "fileobj.close()\n",
        "fileobj = open('test2.txt')\n",
        "fileobj.readlines()"
      ]
    },
    {
      "cell_type": "code",
      "execution_count": null,
      "metadata": {
        "id": "vLa1eAm6U-fo"
      },
      "outputs": [],
      "source": [
        "import sys"
      ]
    },
    {
      "cell_type": "code",
      "execution_count": null,
      "metadata": {
        "colab": {
          "base_uri": "https://localhost:8080/"
        },
        "id": "0nh4GUSnT8tO",
        "outputId": "2b63c3e4-361a-4dfb-fe59-036c95e1d8b8"
      },
      "outputs": [
        {
          "name": "stdout",
          "output_type": "stream",
          "text": [
            "division by zero Exception occured\n",
            "Run this block of code always\n"
          ]
        }
      ],
      "source": [
        "try:\n",
        " print(100/0) # ZeroDivisionError will be encountered here. So the control wil\n",
        "\n",
        "except:\n",
        " print(sys.exc_info()[1] , 'Exception occured') # This statement will be execu\n",
        "\n",
        "else:\n",
        " print('No exception occurred') # This will be skipped as code block inside tr\n",
        "finally:\n",
        " print('Run this block of code always') # This will be always executed"
      ]
    },
    {
      "cell_type": "code",
      "execution_count": null,
      "metadata": {
        "colab": {
          "base_uri": "https://localhost:8080/"
        },
        "id": "kqmNsa4wVAd1",
        "outputId": "f7ff40c0-ed8a-49e1-d480-fd5fa2d73e1c"
      },
      "outputs": [
        {
          "name": "stdout",
          "output_type": "stream",
          "text": [
            "getting file not found error\n"
          ]
        }
      ],
      "source": [
        "import os\n",
        "try:\n",
        "  os.remove(\"test3.txt\")\n",
        "\n",
        "except FileNotFoundError:\n",
        "      print(\"getting file not found error\")\n",
        "except NameError:\n",
        "      print(\"got name error\")"
      ]
    },
    {
      "cell_type": "code",
      "execution_count": null,
      "metadata": {
        "colab": {
          "base_uri": "https://localhost:8080/",
          "height": 175
        },
        "id": "A_qo097_VPx1",
        "outputId": "541105a1-fd0e-49ea-bbb6-f39c4985a691"
      },
      "outputs": [
        {
          "ename": "FileNotFoundError",
          "evalue": "[Errno 2] No such file or directory: 'test3.txt'",
          "output_type": "error",
          "traceback": [
            "\u001b[0;31m---------------------------------------------------------------------------\u001b[0m",
            "\u001b[0;31mFileNotFoundError\u001b[0m                         Traceback (most recent call last)",
            "\u001b[0;32m<ipython-input-43-fecc9f240170>\u001b[0m in \u001b[0;36m<cell line: 1>\u001b[0;34m()\u001b[0m\n\u001b[0;32m----> 1\u001b[0;31m \u001b[0mos\u001b[0m\u001b[0;34m.\u001b[0m\u001b[0mremove\u001b[0m\u001b[0;34m(\u001b[0m\u001b[0;34m\"test3.txt\"\u001b[0m\u001b[0;34m)\u001b[0m\u001b[0;34m\u001b[0m\u001b[0;34m\u001b[0m\u001b[0m\n\u001b[0m",
            "\u001b[0;31mFileNotFoundError\u001b[0m: [Errno 2] No such file or directory: 'test3.txt'"
          ]
        }
      ],
      "source": [
        "os.remove(\"test3.txt\")"
      ]
    },
    {
      "cell_type": "code",
      "execution_count": null,
      "metadata": {
        "colab": {
          "base_uri": "https://localhost:8080/"
        },
        "id": "-UT-vuCgXnMr",
        "outputId": "ad61c7a8-31b5-4175-9af8-8cc2a722fc88"
      },
      "outputs": [
        {
          "data": {
            "text/plain": [
              "(None, None, None)"
            ]
          },
          "execution_count": 44,
          "metadata": {},
          "output_type": "execute_result"
        }
      ],
      "source": [
        "sys.exc_info()"
      ]
    },
    {
      "cell_type": "code",
      "execution_count": null,
      "metadata": {
        "colab": {
          "base_uri": "https://localhost:8080/"
        },
        "id": "14L6xkUGYxVA",
        "outputId": "542a9ee6-2f62-48a7-8768-2bdb8929b63b"
      },
      "outputs": [
        {
          "name": "stdout",
          "output_type": "stream",
          "text": [
            "Enter first number :- 100\n",
            "(<class 'ValueError'>, ValueError(100), <traceback object at 0x7f8f29f930c0>)\n"
          ]
        }
      ],
      "source": [
        "try:\n",
        " x = int(input('Enter first number :- '))\n",
        " if x > 50:\n",
        "     raise ValueError(x) # If value of x is greater than 50 ValueError excepti\n",
        "except:\n",
        " print(sys.exc_info())"
      ]
    },
    {
      "cell_type": "code",
      "execution_count": null,
      "metadata": {
        "id": "wf68uQ92ZByo"
      },
      "outputs": [],
      "source": []
    },
    {
      "cell_type": "code",
      "execution_count": null,
      "metadata": {
        "colab": {
          "base_uri": "https://localhost:8080/"
        },
        "id": "JtOYjrBzZjT9",
        "outputId": "1110a2f6-d864-4152-d129-939fc0d21691"
      },
      "outputs": [
        {
          "name": "stdout",
          "output_type": "stream",
          "text": [
            "no error\n"
          ]
        }
      ],
      "source": [
        "try:\n",
        " a = 50\n",
        " b =  10\n",
        " assert b == a/5\n",
        "except AssertionError:\n",
        " print (\"Assertion Exception Raised.\")\n",
        "else:\n",
        "  print(\"no error\")"
      ]
    },
    {
      "cell_type": "code",
      "execution_count": null,
      "metadata": {
        "id": "-X_8tIsDaZfd"
      },
      "outputs": [],
      "source": [
        "try:\n",
        " mydict = {1:'Asif', 2:'Basit', 3:'Michael'}\n",
        " list1 = [1,2,3]\n",
        " print (mydict[0])\n",
        "\n",
        "except KeyError:\n",
        " print (\"KeyError Exception Raised.\")"
      ]
    },
    {
      "cell_type": "code",
      "execution_count": null,
      "metadata": {
        "colab": {
          "base_uri": "https://localhost:8080/"
        },
        "id": "Fll-aKi-bg7M",
        "outputId": "78fb1d92-b155-4715-e379-5b65f4bcd451"
      },
      "outputs": [
        {
          "name": "stdout",
          "output_type": "stream",
          "text": [
            "hi\n"
          ]
        }
      ],
      "source": [
        "class Car:\n",
        "  name ='hi'\n",
        "  Car = 'bmw'\n",
        "  pass\n",
        "\n",
        "\n",
        "obj = Car()\n",
        "print(obj.name)\n",
        "print()"
      ]
    },
    {
      "cell_type": "code",
      "execution_count": null,
      "metadata": {
        "colab": {
          "base_uri": "https://localhost:8080/",
          "height": 175
        },
        "id": "6K1__B0Xbozf",
        "outputId": "99e20238-e0b5-4425-a18e-beaa0d7de515"
      },
      "outputs": [
        {
          "ename": "AttributeError",
          "evalue": "'Car' object has no attribute 'Car'",
          "output_type": "error",
          "traceback": [
            "\u001b[0;31m---------------------------------------------------------------------------\u001b[0m",
            "\u001b[0;31mAttributeError\u001b[0m                            Traceback (most recent call last)",
            "\u001b[0;32m<ipython-input-57-3a2bf425b2fb>\u001b[0m in \u001b[0;36m<cell line: 1>\u001b[0;34m()\u001b[0m\n\u001b[0;32m----> 1\u001b[0;31m \u001b[0mobj\u001b[0m\u001b[0;34m.\u001b[0m\u001b[0mCar\u001b[0m\u001b[0;34m(\u001b[0m\u001b[0;34m)\u001b[0m\u001b[0;34m\u001b[0m\u001b[0;34m\u001b[0m\u001b[0m\n\u001b[0m",
            "\u001b[0;31mAttributeError\u001b[0m: 'Car' object has no attribute 'Car'"
          ]
        }
      ],
      "source": [
        "obj.Car()"
      ]
    },
    {
      "cell_type": "code",
      "execution_count": null,
      "metadata": {
        "colab": {
          "base_uri": "https://localhost:8080/"
        },
        "id": "oz7JZDskb-mA",
        "outputId": "2cd07f93-2491-4a5c-e394-3d24b55f42a1"
      },
      "outputs": [
        {
          "data": {
            "text/plain": [
              "[1, 2, 3, 4, 5, 6, 7, 8, 9, 10, 11, 12, 13, 14, 15, 16, 17, 18, 19]"
            ]
          },
          "execution_count": 62,
          "metadata": {},
          "output_type": "execute_result"
        }
      ],
      "source": [
        "def mygen():\n",
        " for i in range(1,20):\n",
        "      yield i\n",
        "\n",
        "list(mygen())"
      ]
    },
    {
      "cell_type": "code",
      "execution_count": null,
      "metadata": {
        "colab": {
          "base_uri": "https://localhost:8080/"
        },
        "id": "GmimpST3dJ1s",
        "outputId": "594a50f1-2f2e-43a6-fedf-e9616ca413cc"
      },
      "outputs": [
        {
          "name": "stdout",
          "output_type": "stream",
          "text": [
            "Asif\n"
          ]
        }
      ],
      "source": [
        "mylist = ['Asif' , 'Basit' , 'John' , 'Michael']\n",
        "list_iter = iter(mylist) # Create an iterator object using iter()\n",
        "print(next(list_iter)) # return first element in the iterator stream"
      ]
    },
    {
      "cell_type": "code",
      "execution_count": null,
      "metadata": {
        "colab": {
          "base_uri": "https://localhost:8080/"
        },
        "id": "wIZr2n5lfghQ",
        "outputId": "84fe02ae-0e60-431a-bdbc-37d098b1c387"
      },
      "outputs": [
        {
          "name": "stdout",
          "output_type": "stream",
          "text": [
            "Basit\n"
          ]
        }
      ],
      "source": [
        "print(next(list_iter))"
      ]
    },
    {
      "cell_type": "code",
      "execution_count": null,
      "metadata": {
        "colab": {
          "base_uri": "https://localhost:8080/"
        },
        "id": "A-cXlcMqfioh",
        "outputId": "ade5e5d4-c4bd-458c-8813-15af64a92e75"
      },
      "outputs": [
        {
          "name": "stdout",
          "output_type": "stream",
          "text": [
            "John\n"
          ]
        }
      ],
      "source": [
        "print(next(list_iter))"
      ]
    },
    {
      "cell_type": "code",
      "execution_count": null,
      "metadata": {
        "colab": {
          "base_uri": "https://localhost:8080/"
        },
        "id": "Vh-BGERAfmKs",
        "outputId": "26487e98-f20f-4e94-e9c6-1e5e254a1d0b"
      },
      "outputs": [
        {
          "name": "stdout",
          "output_type": "stream",
          "text": [
            "Michael\n"
          ]
        }
      ],
      "source": [
        "print(next(list_iter))"
      ]
    },
    {
      "cell_type": "code",
      "execution_count": null,
      "metadata": {
        "colab": {
          "base_uri": "https://localhost:8080/",
          "height": 175
        },
        "id": "wEn-pRr-fm7d",
        "outputId": "c65d2df8-9e64-49a8-fbe0-3859917169d9"
      },
      "outputs": [
        {
          "ename": "StopIteration",
          "evalue": "",
          "output_type": "error",
          "traceback": [
            "\u001b[0;31m---------------------------------------------------------------------------\u001b[0m",
            "\u001b[0;31mStopIteration\u001b[0m                             Traceback (most recent call last)",
            "\u001b[0;32m<ipython-input-67-847004f5f0d0>\u001b[0m in \u001b[0;36m<cell line: 1>\u001b[0;34m()\u001b[0m\n\u001b[0;32m----> 1\u001b[0;31m \u001b[0mprint\u001b[0m\u001b[0;34m(\u001b[0m\u001b[0mnext\u001b[0m\u001b[0;34m(\u001b[0m\u001b[0mlist_iter\u001b[0m\u001b[0;34m)\u001b[0m\u001b[0;34m)\u001b[0m\u001b[0;34m\u001b[0m\u001b[0;34m\u001b[0m\u001b[0m\n\u001b[0m",
            "\u001b[0;31mStopIteration\u001b[0m: "
          ]
        }
      ],
      "source": [
        "print(next(list_iter))"
      ]
    },
    {
      "cell_type": "code",
      "execution_count": null,
      "metadata": {
        "colab": {
          "base_uri": "https://localhost:8080/"
        },
        "id": "DZeeIe4Afnx5",
        "outputId": "1e530466-86ca-4f38-a66a-571a373c27c8"
      },
      "outputs": [
        {
          "name": "stdout",
          "output_type": "stream",
          "text": [
            "1\n",
            "2\n",
            "3\n",
            "4\n",
            "5\n"
          ]
        }
      ],
      "source": [
        "def mygen():\n",
        " n = 1\n",
        " yield n\n",
        " n += 1\n",
        " yield n\n",
        " n += 1\n",
        " yield n\n",
        " n += 1\n",
        " yield n\n",
        "\n",
        " n += 1\n",
        " yield n\n",
        "mygen1=mygen()\n",
        "print(next(mygen1))\n",
        "print(next(mygen1))\n",
        "print(next(mygen1))\n",
        "print(next(mygen1))\n",
        "print(next(mygen1)) #Function will terminate here as all 5 values have been retur"
      ]
    },
    {
      "cell_type": "markdown",
      "metadata": {
        "id": "K1Uftlt0QVTD"
      },
      "source": [
        "welcome to python\n"
      ]
    },
    {
      "cell_type": "code",
      "execution_count": 1,
      "metadata": {
        "id": "KBAC44FOhxlk"
      },
      "outputs": [],
      "source": [
        "#decorators \n",
        "def new_decorator(func):\n",
        "    \n",
        "    def wrap_func():\n",
        "\n",
        "        print(\"code would be here, before executing the func\")\n",
        "\n",
        "        func()\n",
        "\n",
        "        print(\"code here will execute after the func()\")\n",
        "    return wrap_func\n",
        "\n",
        "def func_nedds_decorator():\n",
        "    print('this function is in nedd of a decorator')\n",
        "    "
      ]
    },
    {
      "cell_type": "code",
      "execution_count": 2,
      "metadata": {
        "id": "6r_6ZlWqh9eP"
      },
      "outputs": [
        {
          "name": "stdout",
          "output_type": "stream",
          "text": [
            "this function is in nedd of a decorator\n"
          ]
        }
      ],
      "source": [
        "func_nedds_decorator()"
      ]
    },
    {
      "cell_type": "code",
      "execution_count": 4,
      "metadata": {},
      "outputs": [
        {
          "name": "stdout",
          "output_type": "stream",
          "text": [
            "code would be here, before executing the func\n",
            "this function is in nedd of a decorator\n",
            "code here will execute after the func()\n"
          ]
        }
      ],
      "source": [
        "our_fucn = new_decorator(func_nedds_decorator)\n",
        "our_fucn()"
      ]
    },
    {
      "cell_type": "code",
      "execution_count": 6,
      "metadata": {},
      "outputs": [
        {
          "name": "stdout",
          "output_type": "stream",
          "text": [
            "code would be here, before executing the func\n",
            "this function is in nedd of a decorator\n",
            "code here will execute after the func()\n"
          ]
        }
      ],
      "source": [
        "new_decorator(func_nedds_decorator)()"
      ]
    },
    {
      "cell_type": "code",
      "execution_count": 7,
      "metadata": {},
      "outputs": [],
      "source": [
        "@new_decorator\n",
        "def func_nedds_decorator():\n",
        "    print('this function is in nedd of a decorator')\n",
        "    "
      ]
    },
    {
      "cell_type": "code",
      "execution_count": 8,
      "metadata": {},
      "outputs": [
        {
          "name": "stdout",
          "output_type": "stream",
          "text": [
            "code would be here, before executing the func\n",
            "this function is in nedd of a decorator\n",
            "code here will execute after the func()\n"
          ]
        }
      ],
      "source": [
        "func_nedds_decorator()"
      ]
    },
    {
      "cell_type": "code",
      "execution_count": 1,
      "metadata": {},
      "outputs": [],
      "source": [
        "def creat_cubes(n):\n",
        "\n",
        "    for x in range(n):\n",
        "        yield x**3\n",
        "        "
      ]
    },
    {
      "cell_type": "code",
      "execution_count": 9,
      "metadata": {},
      "outputs": [
        {
          "name": "stdout",
          "output_type": "stream",
          "text": [
            "0\n",
            "1\n",
            "8\n",
            "27\n",
            "64\n",
            "125\n",
            "216\n",
            "343\n",
            "512\n",
            "729\n"
          ]
        }
      ],
      "source": [
        "for x in creat_cubes(10):\n",
        "    print(x)"
      ]
    },
    {
      "cell_type": "code",
      "execution_count": 10,
      "metadata": {},
      "outputs": [],
      "source": [
        "def gen_fibnaci(n):\n",
        "    \"\"\"\n",
        "    genrate a fibonnaci sequence up to n\n",
        "    \"\"\"\n",
        "    a=1\n",
        "    b=1\n",
        "    for i in range(n):\n",
        "        yield a \n",
        "        a,b = b,a+b \n",
        "        \n",
        "    "
      ]
    },
    {
      "cell_type": "code",
      "execution_count": 11,
      "metadata": {},
      "outputs": [
        {
          "name": "stdout",
          "output_type": "stream",
          "text": [
            "1\n",
            "1\n",
            "2\n",
            "3\n",
            "5\n",
            "8\n",
            "13\n",
            "21\n",
            "34\n",
            "55\n"
          ]
        }
      ],
      "source": [
        "for num in gen_fibnaci(10):\n",
        "    print(num)"
      ]
    },
    {
      "cell_type": "code",
      "execution_count": 12,
      "metadata": {},
      "outputs": [],
      "source": [
        "def fibon(n):\n",
        "    a = 1\n",
        "    b = 1\n",
        "    output = []\n",
        "    \n",
        "    for i in range(n):\n",
        "        output.append(a)\n",
        "        a,b = b,a+b\n",
        "        \n",
        "    return output"
      ]
    },
    {
      "cell_type": "code",
      "execution_count": 13,
      "metadata": {},
      "outputs": [
        {
          "data": {
            "text/plain": [
              "[1, 1, 2, 3, 5, 8, 13, 21, 34, 55]"
            ]
          },
          "execution_count": 13,
          "metadata": {},
          "output_type": "execute_result"
        }
      ],
      "source": [
        "fibon(10)"
      ]
    },
    {
      "cell_type": "code",
      "execution_count": 14,
      "metadata": {},
      "outputs": [],
      "source": [
        "def simple_gen():\n",
        "    for x in range(3):\n",
        "        yield x"
      ]
    },
    {
      "cell_type": "code",
      "execution_count": 15,
      "metadata": {},
      "outputs": [],
      "source": [
        "g= simple_gen()\n"
      ]
    },
    {
      "cell_type": "code",
      "execution_count": 16,
      "metadata": {},
      "outputs": [
        {
          "name": "stdout",
          "output_type": "stream",
          "text": [
            "0\n"
          ]
        }
      ],
      "source": [
        "print(next(g))"
      ]
    },
    {
      "cell_type": "code",
      "execution_count": 17,
      "metadata": {},
      "outputs": [
        {
          "name": "stdout",
          "output_type": "stream",
          "text": [
            "1\n"
          ]
        }
      ],
      "source": [
        "print(next(g))"
      ]
    },
    {
      "cell_type": "code",
      "execution_count": 18,
      "metadata": {},
      "outputs": [
        {
          "name": "stdout",
          "output_type": "stream",
          "text": [
            "2\n"
          ]
        }
      ],
      "source": [
        "print(next(g))"
      ]
    },
    {
      "cell_type": "code",
      "execution_count": 19,
      "metadata": {},
      "outputs": [
        {
          "ename": "StopIteration",
          "evalue": "",
          "output_type": "error",
          "traceback": [
            "\u001b[1;31m---------------------------------------------------------------------------\u001b[0m",
            "\u001b[1;31mStopIteration\u001b[0m                             Traceback (most recent call last)",
            "Cell \u001b[1;32mIn[19], line 1\u001b[0m\n\u001b[1;32m----> 1\u001b[0m \u001b[38;5;28mprint\u001b[39m(\u001b[38;5;28;43mnext\u001b[39;49m\u001b[43m(\u001b[49m\u001b[43mg\u001b[49m\u001b[43m)\u001b[49m)\n",
            "\u001b[1;31mStopIteration\u001b[0m: "
          ]
        }
      ],
      "source": [
        "print(next(g))"
      ]
    },
    {
      "cell_type": "code",
      "execution_count": 20,
      "metadata": {},
      "outputs": [
        {
          "name": "stdout",
          "output_type": "stream",
          "text": [
            "h\n",
            "e\n",
            "l\n",
            "l\n",
            "o\n"
          ]
        }
      ],
      "source": [
        "s = 'hello'\n",
        "\n",
        "for i in s:\n",
        "    print(i)"
      ]
    },
    {
      "cell_type": "code",
      "execution_count": 21,
      "metadata": {},
      "outputs": [
        {
          "ename": "TypeError",
          "evalue": "'str' object is not an iterator",
          "output_type": "error",
          "traceback": [
            "\u001b[1;31m---------------------------------------------------------------------------\u001b[0m",
            "\u001b[1;31mTypeError\u001b[0m                                 Traceback (most recent call last)",
            "Cell \u001b[1;32mIn[21], line 1\u001b[0m\n\u001b[1;32m----> 1\u001b[0m \u001b[38;5;28;43mnext\u001b[39;49m\u001b[43m(\u001b[49m\u001b[43ms\u001b[49m\u001b[43m)\u001b[49m\n",
            "\u001b[1;31mTypeError\u001b[0m: 'str' object is not an iterator"
          ]
        }
      ],
      "source": [
        "next(s)"
      ]
    },
    {
      "cell_type": "code",
      "execution_count": 22,
      "metadata": {},
      "outputs": [],
      "source": [
        "s_iter = iter(s)"
      ]
    },
    {
      "cell_type": "code",
      "execution_count": 23,
      "metadata": {},
      "outputs": [
        {
          "data": {
            "text/plain": [
              "'h'"
            ]
          },
          "execution_count": 23,
          "metadata": {},
          "output_type": "execute_result"
        }
      ],
      "source": [
        "next(s_iter)"
      ]
    },
    {
      "cell_type": "code",
      "execution_count": 24,
      "metadata": {},
      "outputs": [
        {
          "data": {
            "text/plain": [
              "'e'"
            ]
          },
          "execution_count": 24,
          "metadata": {},
          "output_type": "execute_result"
        }
      ],
      "source": [
        "next(s_iter)"
      ]
    },
    {
      "cell_type": "code",
      "execution_count": 25,
      "metadata": {},
      "outputs": [
        {
          "data": {
            "text/plain": [
              "'l'"
            ]
          },
          "execution_count": 25,
          "metadata": {},
          "output_type": "execute_result"
        }
      ],
      "source": [
        "next(s_iter)"
      ]
    },
    {
      "cell_type": "code",
      "execution_count": 26,
      "metadata": {},
      "outputs": [
        {
          "data": {
            "text/plain": [
              "'l'"
            ]
          },
          "execution_count": 26,
          "metadata": {},
          "output_type": "execute_result"
        }
      ],
      "source": [
        "next(s_iter)"
      ]
    },
    {
      "cell_type": "code",
      "execution_count": 27,
      "metadata": {},
      "outputs": [
        {
          "data": {
            "text/plain": [
              "'o'"
            ]
          },
          "execution_count": 27,
          "metadata": {},
          "output_type": "execute_result"
        }
      ],
      "source": [
        "next(s_iter)"
      ]
    },
    {
      "cell_type": "code",
      "execution_count": 28,
      "metadata": {},
      "outputs": [
        {
          "ename": "StopIteration",
          "evalue": "",
          "output_type": "error",
          "traceback": [
            "\u001b[1;31m---------------------------------------------------------------------------\u001b[0m",
            "\u001b[1;31mStopIteration\u001b[0m                             Traceback (most recent call last)",
            "Cell \u001b[1;32mIn[28], line 1\u001b[0m\n\u001b[1;32m----> 1\u001b[0m \u001b[38;5;28;43mnext\u001b[39;49m\u001b[43m(\u001b[49m\u001b[43ms_iter\u001b[49m\u001b[43m)\u001b[49m\n",
            "\u001b[1;31mStopIteration\u001b[0m: "
          ]
        }
      ],
      "source": [
        "next(s_iter)"
      ]
    },
    {
      "cell_type": "code",
      "execution_count": 30,
      "metadata": {},
      "outputs": [],
      "source": [
        "#Create a generator that generates the squares of numbers up to some number N.\n",
        "def gen_squares(N):\n",
        "    for i in range(N):\n",
        "        yield i**2\n"
      ]
    },
    {
      "cell_type": "code",
      "execution_count": 31,
      "metadata": {},
      "outputs": [
        {
          "name": "stdout",
          "output_type": "stream",
          "text": [
            "0\n",
            "1\n",
            "4\n",
            "9\n",
            "16\n",
            "25\n",
            "36\n",
            "49\n",
            "64\n",
            "81\n"
          ]
        }
      ],
      "source": [
        "for x in gen_squares(10):\n",
        "    print(x)"
      ]
    },
    {
      "cell_type": "code",
      "execution_count": 32,
      "metadata": {},
      "outputs": [
        {
          "data": {
            "text/plain": [
              "[0, 1, 4, 9, 16, 25, 36, 49, 64, 81]"
            ]
          },
          "execution_count": 32,
          "metadata": {},
          "output_type": "execute_result"
        }
      ],
      "source": [
        "list(gen_squares(10))"
      ]
    },
    {
      "cell_type": "code",
      "execution_count": 38,
      "metadata": {},
      "outputs": [],
      "source": [
        "def mygen(n):\n",
        "    for i in range(n+1):\n",
        "        yield i"
      ]
    },
    {
      "cell_type": "code",
      "execution_count": 40,
      "metadata": {},
      "outputs": [
        {
          "name": "stdout",
          "output_type": "stream",
          "text": [
            "0\n",
            "1\n",
            "2\n",
            "3\n",
            "4\n",
            "5\n"
          ]
        }
      ],
      "source": [
        "res = mygen(5)\n",
        "\n",
        "print(next(res))\n",
        "print(next(res))\n",
        "print(next(res))\n",
        "print(next(res))\n",
        "print(next(res))\n",
        "print(next(res))\n"
      ]
    },
    {
      "cell_type": "code",
      "execution_count": 41,
      "metadata": {},
      "outputs": [
        {
          "data": {
            "text/plain": [
              "[0, 1, 2, 3, 4, 5]"
            ]
          },
          "execution_count": 41,
          "metadata": {},
          "output_type": "execute_result"
        }
      ],
      "source": [
        "list(mygen(5))"
      ]
    },
    {
      "cell_type": "code",
      "execution_count": 42,
      "metadata": {},
      "outputs": [
        {
          "name": "stdout",
          "output_type": "stream",
          "text": [
            "0\n",
            "1\n",
            "2\n",
            "3\n",
            "4\n",
            "5\n"
          ]
        }
      ],
      "source": [
        "for i in mygen(5):\n",
        "    print(i)"
      ]
    },
    {
      "cell_type": "code",
      "execution_count": 43,
      "metadata": {},
      "outputs": [
        {
          "name": "stdout",
          "output_type": "stream",
          "text": [
            "1\n",
            "2\n",
            "3\n",
            "4\n",
            "5\n"
          ]
        },
        {
          "ename": "StopIteration",
          "evalue": "",
          "output_type": "error",
          "traceback": [
            "\u001b[1;31m---------------------------------------------------------------------------\u001b[0m",
            "\u001b[1;31mStopIteration\u001b[0m                             Traceback (most recent call last)",
            "Cell \u001b[1;32mIn[43], line 20\u001b[0m\n\u001b[0;32m     18\u001b[0m \u001b[38;5;28mprint\u001b[39m(\u001b[38;5;28mnext\u001b[39m(mygen1))\n\u001b[0;32m     19\u001b[0m \u001b[38;5;28mprint\u001b[39m(\u001b[38;5;28mnext\u001b[39m(mygen1)) \u001b[38;5;66;03m#Function will terminate here as all 5 values have been retur\u001b[39;00m\n\u001b[1;32m---> 20\u001b[0m \u001b[38;5;28mprint\u001b[39m(\u001b[38;5;28;43mnext\u001b[39;49m\u001b[43m(\u001b[49m\u001b[43mmygen1\u001b[49m\u001b[43m)\u001b[49m)\n",
            "\u001b[1;31mStopIteration\u001b[0m: "
          ]
        }
      ],
      "source": [
        "def mygen():\n",
        " n = 1\n",
        " yield n\n",
        " n += 1\n",
        " yield n\n",
        " n += 1\n",
        " yield n\n",
        " n += 1\n",
        " yield n\n",
        "\n",
        " n += 1\n",
        " yield n\n",
        "\n",
        "mygen1 = mygen()\n",
        "print(next(mygen1))\n",
        "print(next(mygen1))\n",
        "print(next(mygen1))\n",
        "print(next(mygen1))\n",
        "print(next(mygen1)) #Function will terminate here as all 5 values have been retur\n",
        "print(next(mygen1))  # As function is already terminated, StopIteration is raised"
      ]
    },
    {
      "cell_type": "code",
      "execution_count": 44,
      "metadata": {},
      "outputs": [
        {
          "data": {
            "text/plain": [
              "[0, 1, 4, 9, 16]"
            ]
          },
          "execution_count": 44,
          "metadata": {},
          "output_type": "execute_result"
        }
      ],
      "source": [
        "list1 = [i**2 for i in range(5)]\n",
        "list1"
      ]
    },
    {
      "cell_type": "code",
      "execution_count": 45,
      "metadata": {},
      "outputs": [
        {
          "data": {
            "text/plain": [
              "<generator object <genexpr> at 0x00000178184E9CB0>"
            ]
          },
          "execution_count": 45,
          "metadata": {},
          "output_type": "execute_result"
        }
      ],
      "source": [
        "gen1 = (i**2 for i in range(5))\n",
        "gen1"
      ]
    },
    {
      "cell_type": "code",
      "execution_count": 46,
      "metadata": {},
      "outputs": [
        {
          "data": {
            "text/plain": [
              "[0, 1, 4, 9, 16]"
            ]
          },
          "execution_count": 46,
          "metadata": {},
          "output_type": "execute_result"
        }
      ],
      "source": [
        "list(gen1)"
      ]
    },
    {
      "cell_type": "code",
      "execution_count": 48,
      "metadata": {},
      "outputs": [
        {
          "name": "stdout",
          "output_type": "stream",
          "text": [
            "0\n",
            "1\n",
            "4\n",
            "9\n",
            "16\n"
          ]
        }
      ],
      "source": [
        "gen1 = (i**2 for i in range(5))\n",
        "gen1\n",
        "print(next(gen1))\n",
        "print(next(gen1))\n",
        "print(next(gen1))\n",
        "print(next(gen1))\n",
        "print(next(gen1))"
      ]
    },
    {
      "cell_type": "code",
      "execution_count": 55,
      "metadata": {},
      "outputs": [
        {
          "data": {
            "text/plain": [
              "[0, 2, 4, 6, 8]"
            ]
          },
          "execution_count": 55,
          "metadata": {},
          "output_type": "execute_result"
        }
      ],
      "source": [
        "gen2 = (i for i in range(10) if i%2==0)\n",
        "list(gen2)"
      ]
    },
    {
      "cell_type": "code",
      "execution_count": 56,
      "metadata": {},
      "outputs": [
        {
          "name": "stdout",
          "output_type": "stream",
          "text": [
            "0\n",
            "2\n",
            "4\n",
            "6\n",
            "8\n"
          ]
        }
      ],
      "source": [
        "gen2 = (i for i in range(10) if i%2==0)\n",
        "for i in gen2:\n",
        "    print(i)"
      ]
    },
    {
      "cell_type": "code",
      "execution_count": 59,
      "metadata": {},
      "outputs": [
        {
          "name": "stdout",
          "output_type": "stream",
          "text": [
            "result is = 2\n",
            "result is = -2\n"
          ]
        }
      ],
      "source": [
        "def subtract(num1,num2):\n",
        "    print('result is =',num1-num2)\n",
        "\n",
        "subtract(4,2)\n",
        "subtract(2,4)"
      ]
    },
    {
      "cell_type": "code",
      "execution_count": 61,
      "metadata": {},
      "outputs": [
        {
          "name": "stdout",
          "output_type": "stream",
          "text": [
            "result is = 2\n"
          ]
        }
      ],
      "source": [
        "def sub_decorator(func):\n",
        "\n",
        "    def wrapper(num1,num2):\n",
        "        if num1<num2:\n",
        "            num1,num2 = num2,num1\n",
        "            return func(num1,num2)\n",
        "    return wrapper\n",
        "\n",
        "sub = sub_decorator(subtract)\n",
        "sub(2,4)"
      ]
    },
    {
      "cell_type": "code",
      "execution_count": 63,
      "metadata": {},
      "outputs": [
        {
          "name": "stdout",
          "output_type": "stream",
          "text": [
            "result is = 2\n"
          ]
        }
      ],
      "source": [
        "@sub_decorator\n",
        "def subtract(num1,num2):\n",
        "    print('result is =',num1-num2)\n",
        "subtract(2,4)"
      ]
    },
    {
      "cell_type": "code",
      "execution_count": 65,
      "metadata": {},
      "outputs": [],
      "source": [
        "def InstallDecorator(func):\n",
        "    def wrapper():\n",
        "        print('Please accept terms & conditions')\n",
        "        return func()\n",
        "    return wrapper()\n"
      ]
    },
    {
      "cell_type": "code",
      "execution_count": 67,
      "metadata": {},
      "outputs": [
        {
          "name": "stdout",
          "output_type": "stream",
          "text": [
            "Please accept terms & conditions\n",
            "Linux installation has started \n",
            "\n",
            "Please accept terms & conditions\n",
            "Windows installation has started \n",
            "\n",
            "Please accept terms & conditions\n",
            "Mac installation has started \n",
            "\n"
          ]
        }
      ],
      "source": [
        "@InstallDecorator\n",
        "def InstallLinux():\n",
        " print('Linux installation has started \\n')\n",
        "\n",
        "@InstallDecorator\n",
        "def InstallWindows():\n",
        " print('Windows installation has started \\n')\n",
        "\n",
        "@InstallDecorator\n",
        "def InstallMac():\n",
        " print('Mac installation has started \\n')\n"
      ]
    },
    {
      "cell_type": "markdown",
      "metadata": {},
      "source": [
        "**Python Advanced modules**"
      ]
    },
    {
      "cell_type": "code",
      "execution_count": 68,
      "metadata": {},
      "outputs": [],
      "source": [
        "# collection module\n",
        "from collections import Counter"
      ]
    },
    {
      "cell_type": "code",
      "execution_count": 70,
      "metadata": {},
      "outputs": [],
      "source": [
        "mylist=[1,2,3,4,5,6,6,7,3,6,8,3,7,2,7,15]"
      ]
    },
    {
      "cell_type": "code",
      "execution_count": 71,
      "metadata": {},
      "outputs": [
        {
          "data": {
            "text/plain": [
              "Counter({3: 3, 6: 3, 7: 3, 2: 2, 1: 1, 4: 1, 5: 1, 8: 1, 15: 1})"
            ]
          },
          "execution_count": 71,
          "metadata": {},
          "output_type": "execute_result"
        }
      ],
      "source": [
        "Counter(mylist)"
      ]
    },
    {
      "cell_type": "code",
      "execution_count": 72,
      "metadata": {},
      "outputs": [
        {
          "name": "stdout",
          "output_type": "stream",
          "text": [
            "Help on class Counter in module collections:\n",
            "\n",
            "class Counter(builtins.dict)\n",
            " |  Counter(iterable=None, /, **kwds)\n",
            " |\n",
            " |  Dict subclass for counting hashable items.  Sometimes called a bag\n",
            " |  or multiset.  Elements are stored as dictionary keys and their counts\n",
            " |  are stored as dictionary values.\n",
            " |\n",
            " |  >>> c = Counter('abcdeabcdabcaba')  # count elements from a string\n",
            " |\n",
            " |  >>> c.most_common(3)                # three most common elements\n",
            " |  [('a', 5), ('b', 4), ('c', 3)]\n",
            " |  >>> sorted(c)                       # list all unique elements\n",
            " |  ['a', 'b', 'c', 'd', 'e']\n",
            " |  >>> ''.join(sorted(c.elements()))   # list elements with repetitions\n",
            " |  'aaaaabbbbcccdde'\n",
            " |  >>> sum(c.values())                 # total of all counts\n",
            " |  15\n",
            " |\n",
            " |  >>> c['a']                          # count of letter 'a'\n",
            " |  5\n",
            " |  >>> for elem in 'shazam':           # update counts from an iterable\n",
            " |  ...     c[elem] += 1                # by adding 1 to each element's count\n",
            " |  >>> c['a']                          # now there are seven 'a'\n",
            " |  7\n",
            " |  >>> del c['b']                      # remove all 'b'\n",
            " |  >>> c['b']                          # now there are zero 'b'\n",
            " |  0\n",
            " |\n",
            " |  >>> d = Counter('simsalabim')       # make another counter\n",
            " |  >>> c.update(d)                     # add in the second counter\n",
            " |  >>> c['a']                          # now there are nine 'a'\n",
            " |  9\n",
            " |\n",
            " |  >>> c.clear()                       # empty the counter\n",
            " |  >>> c\n",
            " |  Counter()\n",
            " |\n",
            " |  Note:  If a count is set to zero or reduced to zero, it will remain\n",
            " |  in the counter until the entry is deleted or the counter is cleared:\n",
            " |\n",
            " |  >>> c = Counter('aaabbc')\n",
            " |  >>> c['b'] -= 2                     # reduce the count of 'b' by two\n",
            " |  >>> c.most_common()                 # 'b' is still in, but its count is zero\n",
            " |  [('a', 3), ('c', 1), ('b', 0)]\n",
            " |\n",
            " |  Method resolution order:\n",
            " |      Counter\n",
            " |      builtins.dict\n",
            " |      builtins.object\n",
            " |\n",
            " |  Methods defined here:\n",
            " |\n",
            " |  __add__(self, other)\n",
            " |      Add counts from two counters.\n",
            " |\n",
            " |      >>> Counter('abbb') + Counter('bcc')\n",
            " |      Counter({'b': 4, 'c': 2, 'a': 1})\n",
            " |\n",
            " |  __and__(self, other)\n",
            " |      Intersection is the minimum of corresponding counts.\n",
            " |\n",
            " |      >>> Counter('abbb') & Counter('bcc')\n",
            " |      Counter({'b': 1})\n",
            " |\n",
            " |  __delitem__(self, elem)\n",
            " |      Like dict.__delitem__() but does not raise KeyError for missing values.\n",
            " |\n",
            " |  __eq__(self, other)\n",
            " |      True if all counts agree. Missing counts are treated as zero.\n",
            " |\n",
            " |  __ge__(self, other)\n",
            " |      True if all counts in self are a superset of those in other.\n",
            " |\n",
            " |  __gt__(self, other)\n",
            " |      True if all counts in self are a proper superset of those in other.\n",
            " |\n",
            " |  __iadd__(self, other)\n",
            " |      Inplace add from another counter, keeping only positive counts.\n",
            " |\n",
            " |      >>> c = Counter('abbb')\n",
            " |      >>> c += Counter('bcc')\n",
            " |      >>> c\n",
            " |      Counter({'b': 4, 'c': 2, 'a': 1})\n",
            " |\n",
            " |  __iand__(self, other)\n",
            " |      Inplace intersection is the minimum of corresponding counts.\n",
            " |\n",
            " |      >>> c = Counter('abbb')\n",
            " |      >>> c &= Counter('bcc')\n",
            " |      >>> c\n",
            " |      Counter({'b': 1})\n",
            " |\n",
            " |  __init__(self, iterable=None, /, **kwds)\n",
            " |      Create a new, empty Counter object.  And if given, count elements\n",
            " |      from an input iterable.  Or, initialize the count from another mapping\n",
            " |      of elements to their counts.\n",
            " |\n",
            " |      >>> c = Counter()                           # a new, empty counter\n",
            " |      >>> c = Counter('gallahad')                 # a new counter from an iterable\n",
            " |      >>> c = Counter({'a': 4, 'b': 2})           # a new counter from a mapping\n",
            " |      >>> c = Counter(a=4, b=2)                   # a new counter from keyword args\n",
            " |\n",
            " |  __ior__(self, other)\n",
            " |      Inplace union is the maximum of value from either counter.\n",
            " |\n",
            " |      >>> c = Counter('abbb')\n",
            " |      >>> c |= Counter('bcc')\n",
            " |      >>> c\n",
            " |      Counter({'b': 3, 'c': 2, 'a': 1})\n",
            " |\n",
            " |  __isub__(self, other)\n",
            " |      Inplace subtract counter, but keep only results with positive counts.\n",
            " |\n",
            " |      >>> c = Counter('abbbc')\n",
            " |      >>> c -= Counter('bccd')\n",
            " |      >>> c\n",
            " |      Counter({'b': 2, 'a': 1})\n",
            " |\n",
            " |  __le__(self, other)\n",
            " |      True if all counts in self are a subset of those in other.\n",
            " |\n",
            " |  __lt__(self, other)\n",
            " |      True if all counts in self are a proper subset of those in other.\n",
            " |\n",
            " |  __missing__(self, key)\n",
            " |      The count of elements not in the Counter is zero.\n",
            " |\n",
            " |  __ne__(self, other)\n",
            " |      True if any counts disagree. Missing counts are treated as zero.\n",
            " |\n",
            " |  __neg__(self)\n",
            " |      Subtracts from an empty counter.  Strips positive and zero counts,\n",
            " |      and flips the sign on negative counts.\n",
            " |\n",
            " |  __or__(self, other)\n",
            " |      Union is the maximum of value in either of the input counters.\n",
            " |\n",
            " |      >>> Counter('abbb') | Counter('bcc')\n",
            " |      Counter({'b': 3, 'c': 2, 'a': 1})\n",
            " |\n",
            " |  __pos__(self)\n",
            " |      Adds an empty counter, effectively stripping negative and zero counts\n",
            " |\n",
            " |  __reduce__(self)\n",
            " |      Helper for pickle.\n",
            " |\n",
            " |  __repr__(self)\n",
            " |      Return repr(self).\n",
            " |\n",
            " |  __sub__(self, other)\n",
            " |      Subtract count, but keep only results with positive counts.\n",
            " |\n",
            " |      >>> Counter('abbbc') - Counter('bccd')\n",
            " |      Counter({'b': 2, 'a': 1})\n",
            " |\n",
            " |  copy(self)\n",
            " |      Return a shallow copy.\n",
            " |\n",
            " |  elements(self)\n",
            " |      Iterator over elements repeating each as many times as its count.\n",
            " |\n",
            " |      >>> c = Counter('ABCABC')\n",
            " |      >>> sorted(c.elements())\n",
            " |      ['A', 'A', 'B', 'B', 'C', 'C']\n",
            " |\n",
            " |      # Knuth's example for prime factors of 1836:  2**2 * 3**3 * 17**1\n",
            " |      >>> import math\n",
            " |      >>> prime_factors = Counter({2: 2, 3: 3, 17: 1})\n",
            " |      >>> math.prod(prime_factors.elements())\n",
            " |      1836\n",
            " |\n",
            " |      Note, if an element's count has been set to zero or is a negative\n",
            " |      number, elements() will ignore it.\n",
            " |\n",
            " |  most_common(self, n=None)\n",
            " |      List the n most common elements and their counts from the most\n",
            " |      common to the least.  If n is None, then list all element counts.\n",
            " |\n",
            " |      >>> Counter('abracadabra').most_common(3)\n",
            " |      [('a', 5), ('b', 2), ('r', 2)]\n",
            " |\n",
            " |  subtract(self, iterable=None, /, **kwds)\n",
            " |      Like dict.update() but subtracts counts instead of replacing them.\n",
            " |      Counts can be reduced below zero.  Both the inputs and outputs are\n",
            " |      allowed to contain zero and negative counts.\n",
            " |\n",
            " |      Source can be an iterable, a dictionary, or another Counter instance.\n",
            " |\n",
            " |      >>> c = Counter('which')\n",
            " |      >>> c.subtract('witch')             # subtract elements from another iterable\n",
            " |      >>> c.subtract(Counter('watch'))    # subtract elements from another counter\n",
            " |      >>> c['h']                          # 2 in which, minus 1 in witch, minus 1 in watch\n",
            " |      0\n",
            " |      >>> c['w']                          # 1 in which, minus 1 in witch, minus 1 in watch\n",
            " |      -1\n",
            " |\n",
            " |  total(self)\n",
            " |      Sum of the counts\n",
            " |\n",
            " |  update(self, iterable=None, /, **kwds)\n",
            " |      Like dict.update() but add counts instead of replacing them.\n",
            " |\n",
            " |      Source can be an iterable, a dictionary, or another Counter instance.\n",
            " |\n",
            " |      >>> c = Counter('which')\n",
            " |      >>> c.update('witch')           # add elements from another iterable\n",
            " |      >>> d = Counter('watch')\n",
            " |      >>> c.update(d)                 # add elements from another counter\n",
            " |      >>> c['h']                      # four 'h' in which, witch, and watch\n",
            " |      4\n",
            " |\n",
            " |  ----------------------------------------------------------------------\n",
            " |  Class methods defined here:\n",
            " |\n",
            " |  fromkeys(iterable, v=None) from builtins.type\n",
            " |      Create a new dictionary with keys from iterable and values set to value.\n",
            " |\n",
            " |  ----------------------------------------------------------------------\n",
            " |  Data descriptors defined here:\n",
            " |\n",
            " |  __dict__\n",
            " |      dictionary for instance variables\n",
            " |\n",
            " |  __weakref__\n",
            " |      list of weak references to the object\n",
            " |\n",
            " |  ----------------------------------------------------------------------\n",
            " |  Data and other attributes defined here:\n",
            " |\n",
            " |  __hash__ = None\n",
            " |\n",
            " |  ----------------------------------------------------------------------\n",
            " |  Methods inherited from builtins.dict:\n",
            " |\n",
            " |  __contains__(self, key, /)\n",
            " |      True if the dictionary has the specified key, else False.\n",
            " |\n",
            " |  __getattribute__(self, name, /)\n",
            " |      Return getattr(self, name).\n",
            " |\n",
            " |  __getitem__(self, key, /)\n",
            " |      Return self[key].\n",
            " |\n",
            " |  __iter__(self, /)\n",
            " |      Implement iter(self).\n",
            " |\n",
            " |  __len__(self, /)\n",
            " |      Return len(self).\n",
            " |\n",
            " |  __reversed__(self, /)\n",
            " |      Return a reverse iterator over the dict keys.\n",
            " |\n",
            " |  __ror__(self, value, /)\n",
            " |      Return value|self.\n",
            " |\n",
            " |  __setitem__(self, key, value, /)\n",
            " |      Set self[key] to value.\n",
            " |\n",
            " |  __sizeof__(...)\n",
            " |      D.__sizeof__() -> size of D in memory, in bytes\n",
            " |\n",
            " |  clear(...)\n",
            " |      D.clear() -> None.  Remove all items from D.\n",
            " |\n",
            " |  get(self, key, default=None, /)\n",
            " |      Return the value for key if key is in the dictionary, else default.\n",
            " |\n",
            " |  items(...)\n",
            " |      D.items() -> a set-like object providing a view on D's items\n",
            " |\n",
            " |  keys(...)\n",
            " |      D.keys() -> a set-like object providing a view on D's keys\n",
            " |\n",
            " |  pop(...)\n",
            " |      D.pop(k[,d]) -> v, remove specified key and return the corresponding value.\n",
            " |\n",
            " |      If the key is not found, return the default if given; otherwise,\n",
            " |      raise a KeyError.\n",
            " |\n",
            " |  popitem(self, /)\n",
            " |      Remove and return a (key, value) pair as a 2-tuple.\n",
            " |\n",
            " |      Pairs are returned in LIFO (last-in, first-out) order.\n",
            " |      Raises KeyError if the dict is empty.\n",
            " |\n",
            " |  setdefault(self, key, default=None, /)\n",
            " |      Insert key with a value of default if key is not in the dictionary.\n",
            " |\n",
            " |      Return the value for key if key is in the dictionary, else default.\n",
            " |\n",
            " |  values(...)\n",
            " |      D.values() -> an object providing a view on D's values\n",
            " |\n",
            " |  ----------------------------------------------------------------------\n",
            " |  Class methods inherited from builtins.dict:\n",
            " |\n",
            " |  __class_getitem__(...) from builtins.type\n",
            " |      See PEP 585\n",
            " |\n",
            " |  ----------------------------------------------------------------------\n",
            " |  Static methods inherited from builtins.dict:\n",
            " |\n",
            " |  __new__(*args, **kwargs) from builtins.type\n",
            " |      Create and return a new object.  See help(type) for accurate signature.\n",
            "\n"
          ]
        }
      ],
      "source": [
        "help(Counter)"
      ]
    },
    {
      "cell_type": "code",
      "execution_count": 73,
      "metadata": {},
      "outputs": [
        {
          "data": {
            "text/plain": [
              "Counter({'g': 6,\n",
              "         'h': 4,\n",
              "         'a': 3,\n",
              "         'k': 3,\n",
              "         'e': 2,\n",
              "         'r': 2,\n",
              "         's': 2,\n",
              "         'u': 2,\n",
              "         'n': 2,\n",
              "         'b': 1,\n",
              "         'c': 1,\n",
              "         'd': 1,\n",
              "         'f': 1,\n",
              "         'j': 1})"
            ]
          },
          "execution_count": 73,
          "metadata": {},
          "output_type": "execute_result"
        }
      ],
      "source": [
        "Counter(\"abcdefgrhakshjguekgnaurhgknghsg\")"
      ]
    },
    {
      "cell_type": "code",
      "execution_count": 74,
      "metadata": {},
      "outputs": [
        {
          "data": {
            "text/plain": [
              "Counter({'hi': 1,\n",
              "         'this': 1,\n",
              "         'is': 1,\n",
              "         'using': 1,\n",
              "         'of': 1,\n",
              "         'a': 1,\n",
              "         'counter': 1,\n",
              "         'from': 1,\n",
              "         'collections': 1,\n",
              "         'module': 1})"
            ]
          },
          "execution_count": 74,
          "metadata": {},
          "output_type": "execute_result"
        }
      ],
      "source": [
        "s =\"hi this is using of a counter from collections module\"\n",
        "words = s.split()\n",
        "Counter(words)"
      ]
    },
    {
      "cell_type": "code",
      "execution_count": 76,
      "metadata": {},
      "outputs": [
        {
          "data": {
            "text/plain": [
              "[('hi', 1), ('this', 1), ('is', 1)]"
            ]
          },
          "execution_count": 76,
          "metadata": {},
          "output_type": "execute_result"
        }
      ],
      "source": [
        "c = Counter(words)\n",
        "\n",
        "c.most_common(3)"
      ]
    },
    {
      "cell_type": "code",
      "execution_count": 77,
      "metadata": {},
      "outputs": [
        {
          "data": {
            "text/plain": [
              "10"
            ]
          },
          "execution_count": 77,
          "metadata": {},
          "output_type": "execute_result"
        }
      ],
      "source": [
        "# total of all counts\n",
        "sum(c.values())"
      ]
    },
    {
      "cell_type": "code",
      "execution_count": 78,
      "metadata": {},
      "outputs": [],
      "source": [
        "# reset all counts\n",
        "c.clear()"
      ]
    },
    {
      "cell_type": "code",
      "execution_count": 79,
      "metadata": {},
      "outputs": [
        {
          "data": {
            "text/plain": [
              "Counter()"
            ]
          },
          "execution_count": 79,
          "metadata": {},
          "output_type": "execute_result"
        }
      ],
      "source": [
        "c"
      ]
    },
    {
      "cell_type": "code",
      "execution_count": 80,
      "metadata": {},
      "outputs": [],
      "source": [
        "\n",
        "c = Counter(words)"
      ]
    },
    {
      "cell_type": "code",
      "execution_count": 81,
      "metadata": {},
      "outputs": [
        {
          "data": {
            "text/plain": [
              "Counter({'hi': 1,\n",
              "         'this': 1,\n",
              "         'is': 1,\n",
              "         'using': 1,\n",
              "         'of': 1,\n",
              "         'a': 1,\n",
              "         'counter': 1,\n",
              "         'from': 1,\n",
              "         'collections': 1,\n",
              "         'module': 1})"
            ]
          },
          "execution_count": 81,
          "metadata": {},
          "output_type": "execute_result"
        }
      ],
      "source": [
        "c"
      ]
    },
    {
      "cell_type": "code",
      "execution_count": 82,
      "metadata": {},
      "outputs": [
        {
          "data": {
            "text/plain": [
              "['hi',\n",
              " 'this',\n",
              " 'is',\n",
              " 'using',\n",
              " 'of',\n",
              " 'a',\n",
              " 'counter',\n",
              " 'from',\n",
              " 'collections',\n",
              " 'module']"
            ]
          },
          "execution_count": 82,
          "metadata": {},
          "output_type": "execute_result"
        }
      ],
      "source": [
        "# list unique elements\n",
        "list(c)"
      ]
    },
    {
      "cell_type": "code",
      "execution_count": 83,
      "metadata": {},
      "outputs": [
        {
          "data": {
            "text/plain": [
              "{'a',\n",
              " 'collections',\n",
              " 'counter',\n",
              " 'from',\n",
              " 'hi',\n",
              " 'is',\n",
              " 'module',\n",
              " 'of',\n",
              " 'this',\n",
              " 'using'}"
            ]
          },
          "execution_count": 83,
          "metadata": {},
          "output_type": "execute_result"
        }
      ],
      "source": [
        "set(c)"
      ]
    },
    {
      "cell_type": "code",
      "execution_count": 84,
      "metadata": {},
      "outputs": [
        {
          "data": {
            "text/plain": [
              "{'hi': 1,\n",
              " 'this': 1,\n",
              " 'is': 1,\n",
              " 'using': 1,\n",
              " 'of': 1,\n",
              " 'a': 1,\n",
              " 'counter': 1,\n",
              " 'from': 1,\n",
              " 'collections': 1,\n",
              " 'module': 1}"
            ]
          },
          "execution_count": 84,
          "metadata": {},
          "output_type": "execute_result"
        }
      ],
      "source": [
        "dict(c)"
      ]
    },
    {
      "cell_type": "code",
      "execution_count": 85,
      "metadata": {},
      "outputs": [
        {
          "data": {
            "text/plain": [
              "dict_items([('hi', 1), ('this', 1), ('is', 1), ('using', 1), ('of', 1), ('a', 1), ('counter', 1), ('from', 1), ('collections', 1), ('module', 1)])"
            ]
          },
          "execution_count": 85,
          "metadata": {},
          "output_type": "execute_result"
        }
      ],
      "source": [
        "c.items()"
      ]
    },
    {
      "cell_type": "code",
      "execution_count": 86,
      "metadata": {},
      "outputs": [
        {
          "ename": "KeyError",
          "evalue": "'one'",
          "output_type": "error",
          "traceback": [
            "\u001b[1;31m---------------------------------------------------------------------------\u001b[0m",
            "\u001b[1;31mKeyError\u001b[0m                                  Traceback (most recent call last)",
            "Cell \u001b[1;32mIn[86], line 6\u001b[0m\n\u001b[0;32m      3\u001b[0m \u001b[38;5;28;01mfrom\u001b[39;00m \u001b[38;5;21;01mcollections\u001b[39;00m \u001b[38;5;28;01mimport\u001b[39;00m defaultdict\n\u001b[0;32m      5\u001b[0m d\u001b[38;5;241m=\u001b[39m {}\n\u001b[1;32m----> 6\u001b[0m \u001b[43md\u001b[49m\u001b[43m[\u001b[49m\u001b[38;5;124;43m'\u001b[39;49m\u001b[38;5;124;43mone\u001b[39;49m\u001b[38;5;124;43m'\u001b[39;49m\u001b[43m]\u001b[49m\n",
            "\u001b[1;31mKeyError\u001b[0m: 'one'"
          ]
        }
      ],
      "source": [
        "#defaultdict\n",
        "\"A defaultdict will never raise a KeyError. Any key that does not exist gets the value returned by the default factory.\"\n",
        "from collections import defaultdict\n",
        "\n",
        "d= {}\n",
        "d['one']"
      ]
    },
    {
      "cell_type": "code",
      "execution_count": 90,
      "metadata": {},
      "outputs": [],
      "source": [
        "d= defaultdict(object)"
      ]
    },
    {
      "cell_type": "code",
      "execution_count": 91,
      "metadata": {},
      "outputs": [
        {
          "data": {
            "text/plain": [
              "defaultdict(object, {})"
            ]
          },
          "execution_count": 91,
          "metadata": {},
          "output_type": "execute_result"
        }
      ],
      "source": [
        "d"
      ]
    },
    {
      "cell_type": "code",
      "execution_count": 92,
      "metadata": {},
      "outputs": [
        {
          "data": {
            "text/plain": [
              "<object at 0x178182ce3d0>"
            ]
          },
          "execution_count": 92,
          "metadata": {},
          "output_type": "execute_result"
        }
      ],
      "source": [
        "d['one']"
      ]
    },
    {
      "cell_type": "code",
      "execution_count": 93,
      "metadata": {},
      "outputs": [
        {
          "data": {
            "text/plain": [
              "0"
            ]
          },
          "execution_count": 93,
          "metadata": {},
          "output_type": "execute_result"
        }
      ],
      "source": [
        "# Can also initialize with default values:\n",
        "d = defaultdict(lambda :0)\n",
        "\n",
        "d['one']\n"
      ]
    },
    {
      "cell_type": "code",
      "execution_count": 94,
      "metadata": {},
      "outputs": [],
      "source": [
        "# namedtuple\n",
        "\n",
        "t= (12,23,43)\n"
      ]
    },
    {
      "cell_type": "code",
      "execution_count": 95,
      "metadata": {},
      "outputs": [
        {
          "data": {
            "text/plain": [
              "12"
            ]
          },
          "execution_count": 95,
          "metadata": {},
          "output_type": "execute_result"
        }
      ],
      "source": [
        "t[0]"
      ]
    },
    {
      "cell_type": "code",
      "execution_count": 96,
      "metadata": {},
      "outputs": [],
      "source": [
        "from collections import namedtuple\n"
      ]
    },
    {
      "cell_type": "code",
      "execution_count": 97,
      "metadata": {},
      "outputs": [],
      "source": [
        "Dog =  namedtuple('Dog',['age','breed','name'])\n",
        "\n",
        "sam = Dog(age=2,breed='lab',name='sammy')\n",
        "\n",
        "frank = Dog(age=2,breed = 'shepard',name='Frankie')\n"
      ]
    },
    {
      "cell_type": "code",
      "execution_count": 98,
      "metadata": {},
      "outputs": [
        {
          "data": {
            "text/plain": [
              "Dog(age=2, breed='lab', name='sammy')"
            ]
          },
          "execution_count": 98,
          "metadata": {},
          "output_type": "execute_result"
        }
      ],
      "source": [
        "sam"
      ]
    },
    {
      "cell_type": "code",
      "execution_count": 99,
      "metadata": {},
      "outputs": [
        {
          "data": {
            "text/plain": [
              "2"
            ]
          },
          "execution_count": 99,
          "metadata": {},
          "output_type": "execute_result"
        }
      ],
      "source": [
        "sam.age"
      ]
    },
    {
      "cell_type": "code",
      "execution_count": 100,
      "metadata": {},
      "outputs": [
        {
          "data": {
            "text/plain": [
              "'lab'"
            ]
          },
          "execution_count": 100,
          "metadata": {},
          "output_type": "execute_result"
        }
      ],
      "source": [
        "sam.breed"
      ]
    },
    {
      "cell_type": "code",
      "execution_count": null,
      "metadata": {},
      "outputs": [],
      "source": []
    }
  ],
  "metadata": {
    "colab": {
      "provenance": []
    },
    "kernelspec": {
      "display_name": "Python 3",
      "name": "python3"
    },
    "language_info": {
      "codemirror_mode": {
        "name": "ipython",
        "version": 3
      },
      "file_extension": ".py",
      "mimetype": "text/x-python",
      "name": "python",
      "nbconvert_exporter": "python",
      "pygments_lexer": "ipython3",
      "version": "3.12.1"
    }
  },
  "nbformat": 4,
  "nbformat_minor": 0
}
